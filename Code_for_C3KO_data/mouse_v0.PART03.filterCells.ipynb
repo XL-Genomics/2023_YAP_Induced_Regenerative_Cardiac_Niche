{
 "cells": [
  {
   "cell_type": "code",
   "execution_count": 2,
   "id": "86eb6573-0490-417f-9018-8da248d3fed0",
   "metadata": {},
   "outputs": [],
   "source": [
    "####~~~~~~~~~~~~~~~~~~~~~~~~~~~~~~~~~~~~~~~~~~~~~~~~~~~~~~~~~~~~~~~~~~~~~~~~~~~~~~~~~~~~~~~~~~~~~~~~~~~~~~~~~~~~~~~~~~~~\n",
    "####  Mouse C3KO-RichLi snRNA\n",
    "####  2023-05-16 by Yi Zhao (Texas Heart Institute, US)\n",
    "####~~~~~~~~~~~~~~~~~~~~~~~~~~~~~~~~~~~~~~~~~~~~~~~~~~~~~~~~~~~~~~~~~~~~~~~~~~~~~~~~~~~~~~~~~~~~~~~~~~~~~~~~~~~~~~~~~~~~\n",
    "\n",
    "\n",
    "####~~~~~~~~~~~~~~~~~~~~~~~~~~~~~~~~~~~~~~~~~~~~~~~~~~~~~~~~~~~~~~~~~~~~~~~~~~~~~~~~~~~~~~~~~~~~~~~~~~~~~~~~~~~~~~~~~~~~\n",
    "####  Initiate  ####\n",
    "####~~~~~~~~~~~~~~~~~~~~~~~~~~~~~~~~~~~~~~~~~~~~~~~~~~~~~~~~~~~~~~~~~~~~~~~~~~~~~~~~~~~~~~~~~~~~~~~~~~~~~~~~~~~~~~~~----\n",
    "Ver <- '0'\n",
    "Step <- 'PART03_Filter_Cells'\n",
    "Project <- '2023_neoc3ko_rli'\n",
    "\n",
    "Code_dir <- paste0('/Volumes/shire/project/', Project, '/code/mouse_v', Ver, '/')\n",
    "\n",
    "source(Sys.readlink(paste0(Code_dir, 'src/bioinformatics.R')))\n",
    "source(Sys.readlink(paste0(Code_dir, 'src/scRNAseq.R')))\n",
    "source(Sys.readlink(paste0(Code_dir, 'src/scATACseq.R')))\n",
    "source(paste0(Code_dir, 'mouse_v', Ver, '.helper_functions.R'))\n",
    "\n",
    "InitiateProject('Rivendell', Ver, Step, 'mouse', Project, 'shire')\n",
    "####~~~~~~~~~~~~~~~~~~~~~~~~~~~~~~~~~~~~~~~~~~~~~~~~~~~~~~~~~~~~~~~~~~~~~~~~~~~~~~~~~~~~~~~~~~~~~~~~~~~~~~~~~~~~~~~~~~~~\n"
   ]
  },
  {
   "cell_type": "code",
   "execution_count": 3,
   "id": "6bc9743d-5316-4917-844f-c6468f44d136",
   "metadata": {},
   "outputs": [
    {
     "name": "stderr",
     "output_type": "stream",
     "text": [
      "Rasterizing points since number of points exceeds 100,000.\n",
      "To disable this behavior set `raster=FALSE`\n",
      "\n",
      "Rasterizing points since number of points exceeds 100,000.\n",
      "To disable this behavior set `raster=FALSE`\n",
      "\n",
      "Rasterizing points since number of points exceeds 100,000.\n",
      "To disable this behavior set `raster=FALSE`\n",
      "\n"
     ]
    },
    {
     "data": {
      "text/html": [
       "7627"
      ],
      "text/latex": [
       "7627"
      ],
      "text/markdown": [
       "7627"
      ],
      "text/plain": [
       "[1] 7627"
      ]
     },
     "metadata": {},
     "output_type": "display_data"
    },
    {
     "data": {
      "text/html": [
       "6.56843156843157"
      ],
      "text/latex": [
       "6.56843156843157"
      ],
      "text/markdown": [
       "6.56843156843157"
      ],
      "text/plain": [
       "[1] 6.568432"
      ]
     },
     "metadata": {},
     "output_type": "display_data"
    },
    {
     "name": "stderr",
     "output_type": "stream",
     "text": [
      "Rasterizing points since number of points exceeds 100,000.\n",
      "To disable this behavior set `raster=FALSE`\n",
      "\n"
     ]
    },
    {
     "data": {
      "text/html": [
       "<strong>pdf:</strong> 2"
      ],
      "text/latex": [
       "\\textbf{pdf:} 2"
      ],
      "text/markdown": [
       "**pdf:** 2"
      ],
      "text/plain": [
       "pdf \n",
       "  2 "
      ]
     },
     "metadata": {},
     "output_type": "display_data"
    },
    {
     "data": {
      "text/html": [
       "<strong>pdf:</strong> 2"
      ],
      "text/latex": [
       "\\textbf{pdf:} 2"
      ],
      "text/markdown": [
       "**pdf:** 2"
      ],
      "text/plain": [
       "pdf \n",
       "  2 "
      ]
     },
     "metadata": {},
     "output_type": "display_data"
    }
   ],
   "source": [
    "####~~~~~~~~~~~~~~~~~~~~~~~~~~~~~~~~~~~~~~~~~~~~~~~~~~~~~~~~~~~~~~~~~~~~~~~~~~~~~~~~~~~~~~~~~~~~~~~~~~~~~~~~~~~~~~~~~~~~\n",
    "####  Load data  ####\n",
    "####~~~~~~~~~~~~~~~~~~~~~~~~~~~~~~~~~~~~~~~~~~~~~~~~~~~~~~~~~~~~~~~~~~~~~~~~~~~~~~~~~~~~~~~~~~~~~~~~~~~~~~~~~~~~~~~~----\n",
    "merged.flt.srt <- readRDS('integrated/PART02.merged.srt.rds')\n",
    "studies <- levels(merged.flt.srt$study)\n",
    "####~~~~~~~~~~~~~~~~~~~~~~~~~~~~~~~~~~~~~~~~~~~~~~~~~~~~~~~~~~~~~~~~~~~~~~~~~~~~~~~~~~~~~~~~~~~~~~~~~~~~~~~~~~~~~~~~~~~~\n",
    "\n",
    "\n",
    "####~~~~~~~~~~~~~~~~~~~~~~~~~~~~~~~~~~~~~~~~~~~~~~~~~~~~~~~~~~~~~~~~~~~~~~~~~~~~~~~~~~~~~~~~~~~~~~~~~~~~~~~~~~~~~~~~~~~~\n",
    "####  Set hard quality filters  ####\n",
    "####~~~~~~~~~~~~~~~~~~~~~~~~~~~~~~~~~~~~~~~~~~~~~~~~~~~~~~~~~~~~~~~~~~~~~~~~~~~~~~~~~~~~~~~~~~~~~~~~~~~~~~~~~~~~~~~~----\n",
    "## Filter cells with less than 200 umi(counts)/cell\n",
    "cutoff1 <- 200\n",
    "pct_filtered <- rep(NA, L(studies))\n",
    "names(pct_filtered) <- studies\n",
    "p1 <- VlnPlot(merged.flt.srt,\n",
    "              features = c('nCount_RNA'), log = T,\n",
    "              group.by = 'sample', pt.size = -1, ncol = 1) +\n",
    "        geom_hline(yintercept = cutoff1) +\n",
    "        NoLegend()\n",
    "for(i in 1:L(studies)){\n",
    "        n_filtered <- sum(merged.flt.srt$nCount_RNA < cutoff1 & merged.flt.srt$study == studies[i])\n",
    "        pct_filtered[i] <- n_filtered*100/sum(merged.flt.srt$study == studies[i])\n",
    "}\n",
    "## Filter cells with less than 150 genes/cell\n",
    "cutoff2 <- 150\n",
    "pct_filtered <- rep(NA, L(studies))\n",
    "names(pct_filtered) <- studies\n",
    "p2 <- VlnPlot(merged.flt.srt,\n",
    "              features = c('nFeature_RNA'), log = T,\n",
    "              group.by = 'sample', pt.size = -1, ncol = 1) +\n",
    "        geom_hline(yintercept = cutoff2) +\n",
    "        NoLegend()\n",
    "for(i in 1:L(studies)){\n",
    "        n_filtered <- sum(merged.flt.srt$nFeature_RNA < cutoff2 & merged.flt.srt$study == studies[i])\n",
    "        pct_filtered[i] <- n_filtered*100/sum(merged.flt.srt$study == studies[i])\n",
    "}\n",
    "## Filter cells with higher than 5% mitochondrial counts/cell\n",
    "cutoff3 <- 12\n",
    "pct_filtered <- rep(NA, L(studies))\n",
    "names(pct_filtered) <- studies\n",
    "p3 <- VlnPlot(merged.flt.srt,\n",
    "              features = c('pct_mito_RNA'),\n",
    "              group.by = 'sample', pt.size = -1, ncol = 1) +\n",
    "        geom_hline(yintercept = cutoff3) +\n",
    "        NoLegend()\n",
    "for(i in 1:L(studies)){\n",
    "        n_filtered <- sum(merged.flt.srt$pct_mito_RNA > cutoff3 & merged.flt.srt$study == studies[i])\n",
    "        pct_filtered[i] <- n_filtered*100/sum(merged.flt.srt$study == studies[i])\n",
    "}\n",
    "\n",
    "cells_toss_1 <- Cells(merged.flt.srt)[\n",
    "        merged.flt.srt$nCount_RNA < cutoff1 |\n",
    "                merged.flt.srt$nFeature_RNA < cutoff2 |\n",
    "                merged.flt.srt$pct_mito_RNA > cutoff3\n",
    "]\n",
    "L(cells_toss_1) ## 2454\n",
    "L(cells_toss_1)*100/ncol(merged.flt.srt) ## 5.440638510143%\n",
    "\n",
    "p4 <- DimPlot(merged.flt.srt, cols = 'grey75', reduction = 'hmn_umap', raster = T,\n",
    "              cells.highlight = cells_toss_1, cols.highlight = 'red', sizes.highlight = 0.001, pt.size = 0.001) +\n",
    "        labs(title = paste0('Total cells: ', ncol(merged.flt.srt), '  Cells filtered (red): ', L(cells_toss_1))) +\n",
    "        NoLegend() +\n",
    "        theme(aspect.ratio = 1, axis.text = element_blank(), axis.ticks = element_blank())\n",
    "\n",
    "PlotPDF('01.1.merged_consensus.hard_cutoff.vln', 12, 6)\n",
    "p1 | p2 | p3\n",
    "dev.off()\n",
    "PlotPDF('01.2.merged_consensus.hard_cutoff.dim', 10, 10)\n",
    "p4\n",
    "dev.off()\n",
    "####~~~~~~~~~~~~~~~~~~~~~~~~~~~~~~~~~~~~~~~~~~~~~~~~~~~~~~~~~~~~~~~~~~~~~~~~~~~~~~~~~~~~~~~~~~~~~~~~~~~~~~~~~~~~~~~~~~~~"
   ]
  },
  {
   "cell_type": "code",
   "execution_count": 4,
   "id": "65269b8c-3e2e-425b-ac0b-e0b06cd4eb44",
   "metadata": {},
   "outputs": [
    {
     "data": {
      "text/html": [
       "7627"
      ],
      "text/latex": [
       "7627"
      ],
      "text/markdown": [
       "7627"
      ],
      "text/plain": [
       "[1] 7627"
      ]
     },
     "metadata": {},
     "output_type": "display_data"
    },
    {
     "data": {
      "text/html": [
       "8"
      ],
      "text/latex": [
       "8"
      ],
      "text/markdown": [
       "8"
      ],
      "text/plain": [
       "[1] 8"
      ]
     },
     "metadata": {},
     "output_type": "display_data"
    },
    {
     "name": "stdout",
     "output_type": "stream",
     "text": [
      "[1] 1\n",
      "[1] 2\n",
      "[1] 3\n",
      "[1] 4\n",
      "[1] 5\n",
      "[1] 6\n",
      "[1] 7\n",
      "[1] 8\n"
     ]
    },
    {
     "data": {
      "text/html": [
       "6359"
      ],
      "text/latex": [
       "6359"
      ],
      "text/markdown": [
       "6359"
      ],
      "text/plain": [
       "[1] 6359"
      ]
     },
     "metadata": {},
     "output_type": "display_data"
    },
    {
     "name": "stderr",
     "output_type": "stream",
     "text": [
      "Warning message:\n",
      "\"\u001b[1m\u001b[22mUsing `size` aesthetic for lines was deprecated in ggplot2 3.4.0.\n",
      "\u001b[36mℹ\u001b[39m Please use `linewidth` instead.\"\n",
      "Rasterizing points since number of points exceeds 100,000.\n",
      "To disable this behavior set `raster=FALSE`\n",
      "\n",
      "Warning message:\n",
      "\"\u001b[1m\u001b[22mRemoved 7 rows containing non-finite values (`stat_ydensity()`).\"\n",
      "Warning message:\n",
      "\"\u001b[1m\u001b[22mRemoved 8 rows containing non-finite values (`stat_ydensity()`).\"\n",
      "Warning message:\n",
      "\"\u001b[1m\u001b[22mRemoved 5 rows containing non-finite values (`stat_ydensity()`).\"\n",
      "Warning message:\n",
      "\"\u001b[1m\u001b[22mRemoved 4 rows containing non-finite values (`stat_ydensity()`).\"\n",
      "Warning message:\n",
      "\"\u001b[1m\u001b[22mRemoved 17 rows containing non-finite values (`stat_ydensity()`).\"\n",
      "Warning message:\n",
      "\"\u001b[1m\u001b[22mRemoved 11 rows containing non-finite values (`stat_ydensity()`).\"\n",
      "Warning message:\n",
      "\"\u001b[1m\u001b[22mRemoved 36 rows containing non-finite values (`stat_ydensity()`).\"\n",
      "Warning message:\n",
      "\"\u001b[1m\u001b[22mRemoved 11 rows containing non-finite values (`stat_ydensity()`).\"\n"
     ]
    },
    {
     "data": {
      "text/html": [
       "<strong>pdf:</strong> 2"
      ],
      "text/latex": [
       "\\textbf{pdf:} 2"
      ],
      "text/markdown": [
       "**pdf:** 2"
      ],
      "text/plain": [
       "pdf \n",
       "  2 "
      ]
     },
     "metadata": {},
     "output_type": "display_data"
    },
    {
     "data": {
      "text/html": [
       "<strong>pdf:</strong> 2"
      ],
      "text/latex": [
       "\\textbf{pdf:} 2"
      ],
      "text/markdown": [
       "**pdf:** 2"
      ],
      "text/plain": [
       "pdf \n",
       "  2 "
      ]
     },
     "metadata": {},
     "output_type": "display_data"
    },
    {
     "name": "stdout",
     "output_type": "stream",
     "text": [
      "[1] 1\n",
      "[1] 2\n",
      "[1] 3\n",
      "[1] 4\n",
      "[1] 5\n",
      "[1] 6\n",
      "[1] 7\n",
      "[1] 8\n"
     ]
    },
    {
     "data": {
      "text/html": [
       "4906"
      ],
      "text/latex": [
       "4906"
      ],
      "text/markdown": [
       "4906"
      ],
      "text/plain": [
       "[1] 4906"
      ]
     },
     "metadata": {},
     "output_type": "display_data"
    },
    {
     "name": "stderr",
     "output_type": "stream",
     "text": [
      "Rasterizing points since number of points exceeds 100,000.\n",
      "To disable this behavior set `raster=FALSE`\n",
      "\n"
     ]
    },
    {
     "data": {
      "text/html": [
       "<strong>pdf:</strong> 2"
      ],
      "text/latex": [
       "\\textbf{pdf:} 2"
      ],
      "text/markdown": [
       "**pdf:** 2"
      ],
      "text/plain": [
       "pdf \n",
       "  2 "
      ]
     },
     "metadata": {},
     "output_type": "display_data"
    },
    {
     "data": {
      "text/html": [
       "<strong>pdf:</strong> 2"
      ],
      "text/latex": [
       "\\textbf{pdf:} 2"
      ],
      "text/markdown": [
       "**pdf:** 2"
      ],
      "text/plain": [
       "pdf \n",
       "  2 "
      ]
     },
     "metadata": {},
     "output_type": "display_data"
    }
   ],
   "source": [
    "####~~~~~~~~~~~~~~~~~~~~~~~~~~~~~~~~~~~~~~~~~~~~~~~~~~~~~~~~~~~~~~~~~~~~~~~~~~~~~~~~~~~~~~~~~~~~~~~~~~~~~~~~~~~~~~~~~~~~\n",
    "####  Set dynamic quality filters  ####\n",
    "####~~~~~~~~~~~~~~~~~~~~~~~~~~~~~~~~~~~~~~~~~~~~~~~~~~~~~~~~~~~~~~~~~~~~~~~~~~~~~~~~~~~~~~~~~~~~~~~~~~~~~~~~~~~~~~~~----\n",
    "L(cells_toss_1) ## 1880\n",
    "\n",
    "## Remove bad cells that did not pass hard filters before setting dynamic filters\n",
    "merged.flt.srt2 <- merged.flt.srt[, !Cells(merged.flt.srt) %in% cells_toss_1]\n",
    "all_samples <- U(merged.flt.srt2$sample)\n",
    "L(all_samples) ## 7\n",
    "\n",
    "## Set filter for max nCount\n",
    "cutoff_upper <- c()\n",
    "cutoff_lower <- c()\n",
    "cells_toss_2 <- c()\n",
    "for(i in 1:L(all_samples)){\n",
    "        print(i)\n",
    "        cells_in_group <- Cells(merged.flt.srt2)[merged.flt.srt2$sample == all_samples[i]]\n",
    "        GetOutlier(merged.flt.srt2$nCount_RNA[cells_in_group])\n",
    "        cutoff_upper[i] <- GetOutlier(merged.flt.srt2$nCount_RNA[cells_in_group])[2]\n",
    "        cutoff_lower[i] <- GetOutlier(merged.flt.srt2$nCount_RNA[cells_in_group])[1]\n",
    "        if(cutoff_lower[i] < cutoff1){cutoff_lower[i] <- cutoff1}\n",
    "        cells_toss_2 <- c(cells_toss_2,\n",
    "                          cells_in_group[merged.flt.srt2$nCount_RNA[cells_in_group] > cutoff_upper[i] |\n",
    "                                                 merged.flt.srt2$nCount_RNA[cells_in_group] < cutoff_lower[i]])\n",
    "}\n",
    "L(cells_toss_2) ## 3434\n",
    "p <- list()\n",
    "for(i in 1:L(all_samples)){\n",
    "        p[[i]] <- ggplot(merged.flt.srt2@meta.data[merged.flt.srt2$sample == all_samples[i], ],\n",
    "                         aes(x = sample, y = nCount_RNA)) +\n",
    "                geom_violin(fill = mycol_30[3]) +\n",
    "                geom_hline(yintercept = c(cutoff_upper[i], cutoff_lower[i]), color = mycol_14[1], size = 1) +\n",
    "                labs(title = paste0('Sample # ', all_samples[i]),\n",
    "                     subtitle = paste0(round(cutoff_lower[i], 0) , ' < UMI < ', round(cutoff_upper[i], 0))) +\n",
    "                scale_y_continuous(limits = c(0, 5e4))\n",
    "}\n",
    "p2 <- wrap_plots(p[order(cutoff_upper)], ncol = 5) &\n",
    "        NoLegend() &\n",
    "        WhiteBackground() &\n",
    "        theme(aspect.ratio = 2,\n",
    "              axis.title = element_blank(),\n",
    "              axis.text = element_blank(),\n",
    "              axis.ticks = element_blank(),\n",
    "              axis.line = element_line())\n",
    "p3 <- DimPlot(merged.flt.srt, cols = 'grey75', reduction = 'hmn_umap', raster = T,\n",
    "              pt.size = 0.001, sizes.highlight = 0.001,\n",
    "              cells.highlight = cells_toss_2, cols.highlight = 'red') +\n",
    "        labs(title = paste0('Total cells: ', ncol(merged.flt.srt), '  Cells filtered (red): ', L(cells_toss_2))) +\n",
    "        NoLegend() +\n",
    "        theme(aspect.ratio = 1, axis.text = element_blank(), axis.ticks = element_blank())\n",
    "PlotPDF('02.1.merged_consensus.dynamic_cutoff_nCount.vln', 8, 16)\n",
    "p2\n",
    "dev.off()\n",
    "PlotPDF('02.2.merged_consensus.dynamic_cutoff_nCount.dim', 10, 10)\n",
    "p3\n",
    "dev.off()\n",
    "\n",
    "## Set filter for max nFeature\n",
    "cutoff_upper <- c()\n",
    "cutoff_lower <- c()\n",
    "cells_toss_3 <- c()\n",
    "for(i in 1:L(all_samples)){\n",
    "        print(i)\n",
    "        cells_in_group <- Cells(merged.flt.srt2)[merged.flt.srt2$sample == all_samples[i]]\n",
    "        GetOutlier(merged.flt.srt2$nCount_RNA[cells_in_group])\n",
    "        cutoff_upper[i] <- GetOutlier(merged.flt.srt2$nFeature_RNA[cells_in_group])[2]\n",
    "        cutoff_lower[i] <- GetOutlier(merged.flt.srt2$nFeature_RNA[cells_in_group])[1]\n",
    "        if(cutoff_lower[i] < cutoff2){cutoff_lower[i] <- cutoff2}\n",
    "        cells_toss_3 <- c(cells_toss_3,\n",
    "                          cells_in_group[merged.flt.srt2$nFeature_RNA[cells_in_group] > cutoff_upper[i] |\n",
    "                                                 merged.flt.srt2$nFeature_RNA[cells_in_group] < cutoff_lower[i]])\n",
    "}\n",
    "L(cells_toss_3) ## 1812\n",
    "p <- list()\n",
    "for(i in 1:L(all_samples)){\n",
    "        p[[i]] <- ggplot(merged.flt.srt2@meta.data[merged.flt.srt2$sample == all_samples[i], ],\n",
    "                         aes(x = sample, y = nFeature_RNA)) +\n",
    "                geom_violin(fill = mycol_30[3]) +\n",
    "                geom_hline(yintercept = c(cutoff_upper[i], cutoff_lower[i]), color = mycol_14[1], size = 1) +\n",
    "                labs(title = paste0('Sample # ', all_samples[i]),\n",
    "                     subtitle = paste0(round(cutoff_lower[i], 0) , ' < Gene < ', round(cutoff_upper[i], 0))) +\n",
    "                scale_y_continuous(limits = c(0, 1.5e4))\n",
    "}\n",
    "p2 <- wrap_plots(p[order(cutoff_upper)], ncol = 5) &\n",
    "        NoLegend() &\n",
    "        WhiteBackground() &\n",
    "        theme(aspect.ratio = 2,\n",
    "              axis.title = element_blank(),\n",
    "              axis.text = element_blank(),\n",
    "              axis.ticks = element_blank(),\n",
    "              axis.line = element_line())\n",
    "p3 <- DimPlot(merged.flt.srt, cols = 'grey75', reduction = 'hmn_umap', raster = T,\n",
    "              pt.size = 0.001, sizes.highlight = 0.001,\n",
    "              cells.highlight = cells_toss_3, cols.highlight = 'red') +\n",
    "        labs(title = paste0('Total cells: ', ncol(merged.flt.srt), '  Cells filtered (red): ', L(cells_toss_3))) +\n",
    "        NoLegend() +\n",
    "        theme(aspect.ratio = 1, axis.text = element_blank(), axis.ticks = element_blank())\n",
    "PlotPDF('03.1.merged_consensus.dynamic_cutoff_nFeature.vln', 10, 16)\n",
    "p2\n",
    "dev.off()\n",
    "PlotPDF('03.2.merged_consensus.dynamic_cutoff_nFeature.dim', 10, 10)\n",
    "p3\n",
    "dev.off()\n",
    "####~~~~~~~~~~~~~~~~~~~~~~~~~~~~~~~~~~~~~~~~~~~~~~~~~~~~~~~~~~~~~~~~~~~~~~~~~~~~~~~~~~~~~~~~~~~~~~~~~~~~~~~~~~~~~~~~~~~~"
   ]
  },
  {
   "cell_type": "code",
   "execution_count": 5,
   "id": "75127d6b-f3bc-4716-805c-7f5de010e66d",
   "metadata": {},
   "outputs": [
    {
     "data": {
      "text/html": [
       "14481"
      ],
      "text/latex": [
       "14481"
      ],
      "text/markdown": [
       "14481"
      ],
      "text/plain": [
       "[1] 14481"
      ]
     },
     "metadata": {},
     "output_type": "display_data"
    },
    {
     "name": "stderr",
     "output_type": "stream",
     "text": [
      "Rasterizing points since number of points exceeds 100,000.\n",
      "To disable this behavior set `raster=FALSE`\n",
      "\n"
     ]
    },
    {
     "data": {
      "text/html": [
       "<strong>pdf:</strong> 2"
      ],
      "text/latex": [
       "\\textbf{pdf:} 2"
      ],
      "text/markdown": [
       "**pdf:** 2"
      ],
      "text/plain": [
       "pdf \n",
       "  2 "
      ]
     },
     "metadata": {},
     "output_type": "display_data"
    },
    {
     "name": "stderr",
     "output_type": "stream",
     "text": [
      "Warning message:\n",
      "\"\u001b[1m\u001b[22mUsing an external vector in selections was deprecated in tidyselect 1.1.0.\n",
      "\u001b[36mℹ\u001b[39m Please use `all_of()` or `any_of()` instead.\n",
      "  # Was:\n",
      "  data %>% select(stack.var)\n",
      "\n",
      "  # Now:\n",
      "  data %>% select(all_of(stack.var))\n",
      "\n",
      "See <https://tidyselect.r-lib.org/reference/faq-external-vector.html>.\"\n",
      "Warning message:\n",
      "\"\u001b[1m\u001b[22mUsing an external vector in selections was deprecated in tidyselect 1.1.0.\n",
      "\u001b[36mℹ\u001b[39m Please use `all_of()` or `any_of()` instead.\n",
      "  # Was:\n",
      "  data %>% select(group.var)\n",
      "\n",
      "  # Now:\n",
      "  data %>% select(all_of(group.var))\n",
      "\n",
      "See <https://tidyselect.r-lib.org/reference/faq-external-vector.html>.\"\n",
      "\u001b[1m\u001b[22m`summarise()` has grouped output by 'LowQual'. You can override using the\n",
      "`.groups` argument.\n",
      "\u001b[1m\u001b[22m`summarise()` has grouped output by 'LowQual'. You can override using the\n",
      "`.groups` argument.\n"
     ]
    },
    {
     "data": {
      "text/html": [
       "<strong>pdf:</strong> 2"
      ],
      "text/latex": [
       "\\textbf{pdf:} 2"
      ],
      "text/markdown": [
       "**pdf:** 2"
      ],
      "text/plain": [
       "pdf \n",
       "  2 "
      ]
     },
     "metadata": {},
     "output_type": "display_data"
    },
    {
     "name": "stderr",
     "output_type": "stream",
     "text": [
      "\u001b[1m\u001b[22m`summarise()` has grouped output by 'LowQual'. You can override using the\n",
      "`.groups` argument.\n",
      "\u001b[1m\u001b[22m`summarise()` has grouped output by 'LowQual'. You can override using the\n",
      "`.groups` argument.\n"
     ]
    },
    {
     "data": {
      "text/html": [
       "<strong>pdf:</strong> 2"
      ],
      "text/latex": [
       "\\textbf{pdf:} 2"
      ],
      "text/markdown": [
       "**pdf:** 2"
      ],
      "text/plain": [
       "pdf \n",
       "  2 "
      ]
     },
     "metadata": {},
     "output_type": "display_data"
    },
    {
     "data": {
      "text/html": [
       "<table class=\"dataframe\">\n",
       "<caption>A matrix: 2 × 7 of type dbl</caption>\n",
       "<thead>\n",
       "\t<tr><th></th><th scope=col>used</th><th scope=col>(Mb)</th><th scope=col>gc trigger</th><th scope=col>(Mb)</th><th scope=col>limit (Mb)</th><th scope=col>max used</th><th scope=col>(Mb)</th></tr>\n",
       "</thead>\n",
       "<tbody>\n",
       "\t<tr><th scope=row>Ncells</th><td> 15129927</td><td> 808.1</td><td>  27528598</td><td> 1470.2</td><td>    NA</td><td>  27528598</td><td> 1470.2</td></tr>\n",
       "\t<tr><th scope=row>Vcells</th><td>760656464</td><td>5803.4</td><td>2098483445</td><td>16010.2</td><td>131072</td><td>1748626871</td><td>13341.0</td></tr>\n",
       "</tbody>\n",
       "</table>\n"
      ],
      "text/latex": [
       "A matrix: 2 × 7 of type dbl\n",
       "\\begin{tabular}{r|lllllll}\n",
       "  & used & (Mb) & gc trigger & (Mb) & limit (Mb) & max used & (Mb)\\\\\n",
       "\\hline\n",
       "\tNcells &  15129927 &  808.1 &   27528598 &  1470.2 &     NA &   27528598 &  1470.2\\\\\n",
       "\tVcells & 760656464 & 5803.4 & 2098483445 & 16010.2 & 131072 & 1748626871 & 13341.0\\\\\n",
       "\\end{tabular}\n"
      ],
      "text/markdown": [
       "\n",
       "A matrix: 2 × 7 of type dbl\n",
       "\n",
       "| <!--/--> | used | (Mb) | gc trigger | (Mb) | limit (Mb) | max used | (Mb) |\n",
       "|---|---|---|---|---|---|---|---|\n",
       "| Ncells |  15129927 |  808.1 |   27528598 |  1470.2 |     NA |   27528598 |  1470.2 |\n",
       "| Vcells | 760656464 | 5803.4 | 2098483445 | 16010.2 | 131072 | 1748626871 | 13341.0 |\n",
       "\n"
      ],
      "text/plain": [
       "       used      (Mb)   gc trigger (Mb)    limit (Mb) max used   (Mb)   \n",
       "Ncells  15129927  808.1   27528598  1470.2     NA       27528598  1470.2\n",
       "Vcells 760656464 5803.4 2098483445 16010.2 131072     1748626871 13341.0"
      ]
     },
     "metadata": {},
     "output_type": "display_data"
    }
   ],
   "source": [
    "####~~~~~~~~~~~~~~~~~~~~~~~~~~~~~~~~~~~~~~~~~~~~~~~~~~~~~~~~~~~~~~~~~~~~~~~~~~~~~~~~~~~~~~~~~~~~~~~~~~~~~~~~~~~~~~~~~~~~\n",
    "####  Filter cells  ####\n",
    "####~~~~~~~~~~~~~~~~~~~~~~~~~~~~~~~~~~~~~~~~~~~~~~~~~~~~~~~~~~~~~~~~~~~~~~~~~~~~~~~~~~~~~~~~~~~~~~~~~~~~~~~~~~~~~~~~----\n",
    "cells_toss <- U(c(cells_toss_1, cells_toss_2, cells_toss_3))\n",
    "L(cells_toss) ## 5330\n",
    "p1 <- DimPlot(merged.flt.srt, cols = 'grey75', reduction = 'hmn_umap', raster = T, pt.size = 0.001,\n",
    "              cells.highlight = cells_toss, cols.highlight = 'red', sizes.highlight = 0.001) +\n",
    "        labs(title = paste0('Total cells: ', ncol(merged.flt.srt),\n",
    "                            '  Cells filtered (red): ', L(cells_toss),\n",
    "                            ' (', round(L(cells_toss)*100/ncol(merged.flt.srt)),'%)')) +\n",
    "        NoLegend() +\n",
    "        theme(aspect.ratio = 1, axis.text = element_blank(), axis.ticks = element_blank())\n",
    "PlotPDF('05.1.merged_consensus.all_cutoff', 10, 10)\n",
    "p1\n",
    "dev.off()\n",
    "\n",
    "merged.flt.srt$LowQual <- F\n",
    "merged.flt.srt$LowQual[cells_toss_3] <- 'cells_toss_3'\n",
    "merged.flt.srt$LowQual[cells_toss_2] <- 'cells_toss_2'\n",
    "merged.flt.srt$LowQual[cells_toss_1] <- 'cells_toss_1'\n",
    "\n",
    "p1 <- CountCellBarPlot(merged.flt.srt, group.var = 'study', stack.var = 'LowQual', stack.color = mycol_10)$plot\n",
    "p2 <- CountCellBarPlot(merged.flt.srt, group.var = 'study', stack.var = 'LowQual',\n",
    "                       stack.color = mycol_10, percentage = T)$plot\n",
    "PlotPDF('05.2.merged_consensus.pct_toss_study', 10, 15, onefile = T)\n",
    "wrap_plots(p1, p2, ncol = 1)\n",
    "dev.off()\n",
    "\n",
    "p1 <- CountCellBarPlot(merged.flt.srt, group.var = 'sample', stack.var = 'LowQual', stack.color = mycol_10)$plot\n",
    "p2 <- CountCellBarPlot(merged.flt.srt, group.var = 'sample', stack.var = 'LowQual',\n",
    "                       stack.color = mycol_10, percentage = T)$plot\n",
    "PlotPDF('05.3.merged_consensus.pct_toss_group', 20, 15, onefile = T)\n",
    "wrap_plots(p1, p2, ncol = 1)\n",
    "dev.off()\n",
    "\n",
    "cell_toss.list <- list(cells_toss_1, cells_toss_2, cells_toss_3)\n",
    "\n",
    "rm(merged.flt.srt2, p, p1, p2, p3, p4)\n",
    "gc()\n",
    "merged.flt.srt <- merged.flt.srt[, !Cells(merged.flt.srt) %in% cells_toss]\n",
    "####~~~~~~~~~~~~~~~~~~~~~~~~~~~~~~~~~~~~~~~~~~~~~~~~~~~~~~~~~~~~~~~~~~~~~~~~~~~~~~~~~~~~~~~~~~~~~~~~~~~~~~~~~~~~~~~~~~~~\n",
    "saveRDS(cell_toss.list, 'analysis/PART03.cell_filtered.low_quality_cells.rds')\n",
    "saveRDS(merged.flt.srt@meta.data, 'integrated/PART03.merged.flt.srt_meta.rds')\n",
    "saveRDS(merged.flt.srt, 'integrated/PART03.merged.flt.srt.rds')\n",
    "####~~~~~~~~~~~~~~~~~~~~~~~~~~~~~~~~~~~~~~~~~~~~~~~~~~~~~~~~~~~~~~~~~~~~~~~~~~~~~~~~~~~~~~~~~~~~~~~~~~~~~~~~~~~~~~~~~~~~"
   ]
  },
  {
   "cell_type": "code",
   "execution_count": null,
   "id": "32432e87-6290-4d5a-aa28-8b5559da22b0",
   "metadata": {},
   "outputs": [],
   "source": []
  }
 ],
 "metadata": {
  "kernelspec": {
   "display_name": "R",
   "language": "R",
   "name": "ir"
  },
  "language_info": {
   "codemirror_mode": "r",
   "file_extension": ".r",
   "mimetype": "text/x-r-source",
   "name": "R",
   "pygments_lexer": "r",
   "version": "4.2.2"
  }
 },
 "nbformat": 4,
 "nbformat_minor": 5
}
