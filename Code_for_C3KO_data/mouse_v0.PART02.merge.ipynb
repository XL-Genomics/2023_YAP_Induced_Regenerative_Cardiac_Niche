{
 "cells": [
  {
   "cell_type": "code",
   "execution_count": 1,
   "id": "32b5c1a8-39be-49f6-a40b-be354cf59401",
   "metadata": {},
   "outputs": [],
   "source": [
    "####~~~~~~~~~~~~~~~~~~~~~~~~~~~~~~~~~~~~~~~~~~~~~~~~~~~~~~~~~~~~~~~~~~~~~~~~~~~~~~~~~~~~~~~~~~~~~~~~~~~~~~~~~~~~~~~~~~~~\n",
    "####  Mouse C3KO-RichLi snRNA\n",
    "####  2023-05-16 by Yi Zhao (Texas Heart Institute, US)\n",
    "####~~~~~~~~~~~~~~~~~~~~~~~~~~~~~~~~~~~~~~~~~~~~~~~~~~~~~~~~~~~~~~~~~~~~~~~~~~~~~~~~~~~~~~~~~~~~~~~~~~~~~~~~~~~~~~~~~~~~\n",
    "\n",
    "\n",
    "####~~~~~~~~~~~~~~~~~~~~~~~~~~~~~~~~~~~~~~~~~~~~~~~~~~~~~~~~~~~~~~~~~~~~~~~~~~~~~~~~~~~~~~~~~~~~~~~~~~~~~~~~~~~~~~~~~~~~\n",
    "####  Initiate  ####\n",
    "####~~~~~~~~~~~~~~~~~~~~~~~~~~~~~~~~~~~~~~~~~~~~~~~~~~~~~~~~~~~~~~~~~~~~~~~~~~~~~~~~~~~~~~~~~~~~~~~~~~~~~~~~~~~~~~~~----\n",
    "Ver <- '0'\n",
    "Step <- 'PART02_Merge'\n",
    "Project <- '2023_neoc3ko_rli'\n",
    "\n",
    "Code_dir <- paste0('/Volumes/shire/project/', Project, '/code/mouse_v', Ver, '/')\n",
    "\n",
    "source(Sys.readlink(paste0(Code_dir, 'src/bioinformatics.R')))\n",
    "source(Sys.readlink(paste0(Code_dir, 'src/scRNAseq.R')))\n",
    "source(Sys.readlink(paste0(Code_dir, 'src/scATACseq.R')))\n",
    "source(paste0(Code_dir, 'mouse_v', Ver, '.helper_functions.R'))\n",
    "\n",
    "InitiateProject('Rivendell', Ver, Step, 'mouse', Project, 'shire')\n",
    "####~~~~~~~~~~~~~~~~~~~~~~~~~~~~~~~~~~~~~~~~~~~~~~~~~~~~~~~~~~~~~~~~~~~~~~~~~~~~~~~~~~~~~~~~~~~~~~~~~~~~~~~~~~~~~~~~~~~~\n"
   ]
  },
  {
   "cell_type": "code",
   "execution_count": 13,
   "id": "1b504fbd-8cc4-470c-8b95-e95d4ccf24d9",
   "metadata": {
    "tags": []
   },
   "outputs": [],
   "source": [
    "####~~~~~~~~~~~~~~~~~~~~~~~~~~~~~~~~~~~~~~~~~~~~~~~~~~~~~~~~~~~~~~~~~~~~~~~~~~~~~~~~~~~~~~~~~~~~~~~~~~~~~~~~~~~~~~~~~~~~\n",
    "####  Global Functions  ####\n",
    "####~~~~~~~~~~~~~~~~~~~~~~~~~~~~~~~~~~~~~~~~~~~~~~~~~~~~~~~~~~~~~~~~~~~~~~~~~~~~~~~~~~~~~~~~~~~~~~~~~~~~~~~~~~~~~~~~----\n",
    "CheckMerged <- function(srt, reduction = 'umap', assay = 'RNA'){\n",
    "        srt@reductions[[1]] <- srt@reductions[[reduction]]\n",
    "        p1 <- DimPlot2(srt, group.by = 'sample', reduction = reduction, split.by = 'sample',\n",
    "                      cols = mycol_10, label = F, pt.size = 0.1, ncol = 7) &\n",
    "                guides(col = guide_legend(ncol = 1)) &\n",
    "                theme(aspect.ratio = 1)\n",
    "        p3 <-  DimPlot2(srt, group.by = 'genotype', reduction = reduction,\n",
    "                       cols = mycol_10, label = F, pt.size = 0.1) +\n",
    "                labs(x = \"UMAP 1\", y = \"UMAP 2\",\n",
    "                     title = paste0(ncol(srt), \" Cells x \", nrow(srt), \" Genes\")) +\n",
    "                guides(col = guide_legend(ncol = 1))\n",
    "        p <- VlnPlot2(srt,\n",
    "                      features = paste0(c('nFeature_', 'nCount_', 'pct_mito_'), assay), group.by = 'sample')\n",
    "        p4 <- wrap_plots(list((\n",
    "                p[[1]] + theme(axis.text.x = element_blank())),\n",
    "                (p[[2]] + theme(axis.text.x = element_blank())),\n",
    "                p[[3]]), ncol = 1) & theme(aspect.ratio = 0.5)\n",
    "        p5 <- FeaturePlot2(srt,\n",
    "                           reduction = reduction,\n",
    "                           features = intersect(markers_lvl1_min, rownames(srt)),\n",
    "                           ncol = ceiling(L(intersect(markers_lvl1_min, rownames(srt))) / 4))\n",
    "        return(list(\n",
    "                p1,\n",
    "                # p2,\n",
    "                p3,\n",
    "                p4,\n",
    "                p5\n",
    "        ))\n",
    "}\n",
    "\n",
    "Preprocess <- function(srt_obj, assay = 'RNA', ...) {\n",
    "        srt.out <- srt_obj |>\n",
    "                NormalizeData(verbose = F) |>\n",
    "                CellCycleScoring(s.features = s.genes, g2m.features = g2m.genes, set.ident = F) |>\n",
    "                PercentageFeatureSet(pattern = '^mt-', col.name = paste0('pct_mito_', assay), assay = assay)\n",
    "        srt.out@meta.data[, paste0('pct_mito_', assay)][is.nan(srt.out@meta.data[, paste0('pct_mito_', assay)])] <- 0\n",
    "        return(srt.out)\n",
    "}\n",
    "SCTransform.my <- function(srt_obj, assay = 'RNA', ...){\n",
    "        srt.out <- srt_obj |>\n",
    "                SCTransform(assay = assay,\n",
    "                            method = \"glmGamPoi\",\n",
    "                            seed.use = 505,\n",
    "                            return.only.var.genes = F,\n",
    "                            vars.to.regress = c(paste0('nFeature_', assay),\n",
    "                                                paste0('nCount_', assay),\n",
    "                                                paste0('pct_mito_', assay),\n",
    "                                                'S.Score',\n",
    "                                                'G2M.Score'),\n",
    "                            ...)\n",
    "        return(srt.out)\n",
    "}\n",
    "\n",
    "RunUMAP.my <- function(srt_obj, var.toal = 0.75, haromize.by, assay, ...){\n",
    "        srt.out <- RunPCA(srt_obj, seed.use = 505, assay = assay)\n",
    "        dimN <- FindDimNumber(srt_obj = srt.out, var.toal = var.toal, reduction = 'pca')\n",
    "        srt.out <- RunUMAP(srt.out, dims = 1:dimN, seed.use = 505) |>\n",
    "                RunHarmony(group.by.vars = haromize.by, assay.use = assay)\n",
    "        dimN <- FindDimNumber(srt_obj = srt.out, var.toal = var.toal, reduction = 'harmony')\n",
    "        srt.out <- RunUMAP(srt.out, dims = 1:dimN, seed.use = 505, reduction = 'harmony',\n",
    "                           reduction.name = 'hmn_umap', reduction.key = 'hmnumap_', ...)\n",
    "        return(srt.out)\n",
    "}\n",
    "####~~~~~~~~~~~~~~~~~~~~~~~~~~~~~~~~~~~~~~~~~~~~~~~~~~~~~~~~~~~~~~~~~~~~~~~~~~~~~~~~~~~~~~~~~~~~~~~~~~~~~~~~~~~~~~~~----"
   ]
  },
  {
   "cell_type": "code",
   "execution_count": 3,
   "id": "986a2c61-abc0-47e7-ab85-9bc6a44cf0db",
   "metadata": {},
   "outputs": [],
   "source": [
    "####~~~~~~~~~~~~~~~~~~~~~~~~~~~~~~~~~~~~~~~~~~~~~~~~~~~~~~~~~~~~~~~~~~~~~~~~~~~~~~~~~~~~~~~~~~~~~~~~~~~~~~~~~~~~~~~~~~~~\n",
    "####  Load sample metadata  ####\n",
    "####~~~~~~~~~~~~~~~~~~~~~~~~~~~~~~~~~~~~~~~~~~~~~~~~~~~~~~~~~~~~~~~~~~~~~~~~~~~~~~~~~~~~~~~~~~~~~~~~~~~~~~~~~~~~~~~~----\n",
    "sample_meta.df <- read.csv(paste0(Docu_dir, 'mouse_sample_meta.csv'))\n",
    "studies <- U(sample_meta.df$study)\n",
    "names(studies) <- U(sample_meta.df$study_id)\n",
    "studies_cellbender <- studies[studies %in% sample_meta.df$study[sample_meta.df$platform %in% c('10X', 'Drop-seq')]]\n",
    "####~~~~~~~~~~~~~~~~~~~~~~~~~~~~~~~~~~~~~~~~~~~~~~~~~~~~~~~~~~~~~~~~~~~~~~~~~~~~~~~~~~~~~~~~~~~~~~~~~~~~~~~~~~~~~~~~~~~~"
   ]
  },
  {
   "cell_type": "code",
   "execution_count": 4,
   "id": "0e617732-93ea-4d9f-a05f-738fb82fe9bc",
   "metadata": {},
   "outputs": [
    {
     "data": {
      "text/html": [
       "<strong>P01:</strong> '2023_NeoC3KO_RLi'"
      ],
      "text/latex": [
       "\\textbf{P01:} '2023\\_NeoC3KO\\_RLi'"
      ],
      "text/markdown": [
       "**P01:** '2023_NeoC3KO_RLi'"
      ],
      "text/plain": [
       "               P01 \n",
       "\"2023_NeoC3KO_RLi\" "
      ]
     },
     "metadata": {},
     "output_type": "display_data"
    }
   ],
   "source": [
    "studies"
   ]
  },
  {
   "cell_type": "code",
   "execution_count": 8,
   "id": "a81ad67e-ab7b-40ef-a8b7-de84ca92a844",
   "metadata": {},
   "outputs": [],
   "source": [
    "####  Merge GEX  ####\n",
    "merge.srt <- readRDS('individual/P01.2023_NeoC3KO_RLi.cbn.srt.rds')\n",
    "\n",
    "#merge.srt <- merge(x = gex.srt.list[[1]], y = gex.srt.list[2:8])\n"
   ]
  },
  {
   "cell_type": "code",
   "execution_count": 9,
   "id": "142344e9-96b8-4b61-a2bf-1478cb05c3fa",
   "metadata": {},
   "outputs": [
    {
     "data": {
      "text/plain": [
       "An object of class Seurat \n",
       "27993 features across 116116 samples within 1 assay \n",
       "Active assay: RNA (27993 features, 0 variable features)"
      ]
     },
     "metadata": {},
     "output_type": "display_data"
    }
   ],
   "source": [
    "merge.srt"
   ]
  },
  {
   "cell_type": "code",
   "execution_count": null,
   "id": "c9c85900-088d-40f3-b514-b2af5e11fb74",
   "metadata": {},
   "outputs": [],
   "source": [
    "#DefaultAssay(merge.srt) <- 'CBN'\n",
    "#merge.srt <- RenameAssays(merge.srt, c('CBN' = 'RNA'))\n",
    "\n",
    "####~~~~~~~~~~~~~~~~~~~~~~~~~~~~~~~~~~~~~~~~~~~~~~~~~~~~~~~~~~~~~~~~~~~~~~~~~~~~~~~~~~~~~~~~~~~~~~~~~~~~~~~~~~~~~~~~~~~~\n",
    "#saveRDS(merge.srt, 'integrated/PART02.merged.srt.rds')\n",
    "####~~~~~~~~~~~~~~~~~~~~~~~~~~~~~~~~~~~~~~~~~~~~~~~~~~~~~~~~~~~~~~~~~~~~~~~~~~~~~~~~~~~~~~~~~~~~~~~~~~~~~~~~~~~~~~~~~~~~\n",
    "\n",
    "####  Restart the kernel and run from here  ####\n",
    "#merge.srt <- readRDS('integrated/PART02.merged.srt.rds')"
   ]
  },
  {
   "cell_type": "code",
   "execution_count": 11,
   "id": "92e49efc-735b-42b1-91f4-2981f5d313af",
   "metadata": {
    "collapsed": true,
    "jupyter": {
     "outputs_hidden": true
    },
    "tags": []
   },
   "outputs": [
    {
     "name": "stderr",
     "output_type": "stream",
     "text": [
      "Centering and scaling data matrix\n",
      "\n",
      "PC_ 1 \n",
      "Positive:  Rgs6, Chrm2, Gm12295, Fstl4, Ankrd1, Gm13481, Kcnj3, Agbl4, Gm41505, Myl2 \n",
      "\t   Mpped2, Cdh20, Xirp2, Slc24a2, Lrrc3b, Ddc, Hs3st5, Tsix, Pacrg, 1700042O10Rik \n",
      "\t   Grm1, Gm16168, Wdr72, Nppb, Astn2, Fgf14, Gm13601, Mylk4, Erc2, Xist \n",
      "Negative:  Sparc, mt-Atp6, mt-Co2, Gm42418, mt-Co1, mt-Cytb, mt-Nd4, mt-Nd1, mt-Nd2, Col1a2 \n",
      "\t   Col3a1, Timp2, Msln, Upk3b, Crip1, Rpl23, Dcn, Col1a1, Rps8, Ptma \n",
      "\t   Rarres2, Hsp90ab1, Gpm6a, Pkhd1l1, mt-Nd3, Rps3, Efemp1, Fth1, Rpl13, Upk1b \n",
      "PC_ 2 \n",
      "Positive:  Bicc1, Sulf1, Sox5, Meg3, Gpc3, Slit3, Sema3d, Arhgap28, Tenm3, Thsd4 \n",
      "\t   Npas3, Efna5, Cdh11, Abi1, Col5a2, Fbxl7, Gulp1, Cdon, Syne2, Gpr39 \n",
      "\t   Wdr17, Sema3c, Gpm6a, Plxdc2, Zbtb7c, Sema5a, Adgrd1, Fndc1, Egfr, Kcnt2 \n",
      "Negative:  Mb, Fabp3, Atp5g1, Myl3, Cox6c, Actc1, Myl2, Cox4i1, Atp5o, Tnni3 \n",
      "\t   Gapdh, Atp5g3, Uqcr11, Ndufa4, Cox6b1, Atp5h, Slc25a4, Uqcrq, Cox5b, Cox6a2 \n",
      "\t   Atp5e, Cox7a2, Cox5a, Uqcrh, Atp5j, Atp5j2, Uqcrb, Cycs, Atp5b, Ndufb9 \n",
      "PC_ 3 \n",
      "Positive:  Rbfox1, Msln, Upk3b, Efemp1, Kcnd2, Upk1b, Ezr, Muc16, Fras1, Rarres2 \n",
      "\t   Lrrn4, Cxadr, Hpgd, Efna5, Igfbp6, Krt19, Slc39a8, C3, Rspo1, Nkain4 \n",
      "\t   C1s1, Ptpn13, Myo5b, C1ra, Stk26, Il18r1, Gm12840, Adgrd1, Dmkn, Krt7 \n",
      "Negative:  Eng, Pecam1, St6galnac3, Emcn, Flt1, Egfl7, Ramp2, Elmo1, Elk3, Nrxn3 \n",
      "\t   Mecom, Ctla2a, Calcrl, Ptprb, Ebf1, Ece1, Cdh5, Igf2, Cemip2, Prkch \n",
      "\t   Cd93, Fli1, Dock9, Sncaip, Tek, Rapgef5, Rgs3, Cd9, Tshz2, Nos3 \n",
      "PC_ 4 \n",
      "Positive:  Tmem108, Plxna4, Npr3, Igfbp5, Emcn, Bace2, Tm4sf1, Nrxn3, Wdr17, Pecam1 \n",
      "\t   Pgm5, St6galnac3, Igf2, Pkhd1l1, Cpe, Gpm6a, Ctla2a, Dock9, Cfh, Rasgef1b \n",
      "\t   Flt1, Egfl7, Vwf, Plvap, Ramp2, Dpp4, Slco2a1, Prkch, Nos3, Smoc1 \n",
      "Negative:  Gpc6, Abca8a, Postn, Ebf2, Aspn, Galnt17, Adamts12, Antxr1, Dpt, Aff3 \n",
      "\t   Adamts2, Pde1a, Tnxb, Lpar1, Pcdh9, Clmp, Igfbp7, Adgrl3, Tenm3, Dnm3os \n",
      "\t   Col15a1, Foxp2, Mfap4, Fndc1, Meg3, Kcnk2, Dclk1, Matn2, Pcsk6, Itih5 \n",
      "PC_ 5 \n",
      "Positive:  Fstl1, Col5a2, Eln, Bgn, Efna5, Cpe, Cdh11, Pgm5, Fbln2, Tmem108 \n",
      "\t   Fbxl7, Epha7, Fbn1, Mgp, Tm4sf1, Npr3, Col3a1, Tek, Mfap5, Ptn \n",
      "\t   Pdlim3, Dcn, Kcnt2, Rbfox1, Igf2, Postn, Sncaip, Tmtc1, Eda, Bicc1 \n",
      "Negative:  Dock2, Ptprc, Gm26740, Fyb, Adgre1, Arhgap15, Mir142hg, Myo1f, Mrc1, Runx1 \n",
      "\t   F630028O10Rik, Aoah, Cd84, Lilrb4a, Ctss, Ikzf1, Nrros, Ctsc, C1qb, Arhgap45 \n",
      "\t   Otulinl, Lyz2, Tbxas1, C1qa, Slc9a9, F13a1, Pik3ap1, Dock8, Fcer1g, Csf1r \n",
      "\n",
      "Warning message:\n",
      "\"The default method for RunUMAP has changed from calling Python UMAP via reticulate to the R-native UWOT using the cosine metric\n",
      "To use Python UMAP via reticulate, set umap.method to 'umap-learn' and metric to 'correlation'\n",
      "This message will be shown once per session\"\n",
      "11:23:24 UMAP embedding parameters a = 0.9922 b = 1.112\n",
      "\n",
      "11:23:24 Read 116116 rows and found 11 numeric columns\n",
      "\n",
      "11:23:24 Using Annoy for neighbor search, n_neighbors = 30\n",
      "\n",
      "11:23:24 Building Annoy index with metric = cosine, n_trees = 50\n",
      "\n",
      "0%   10   20   30   40   50   60   70   80   90   100%\n",
      "\n",
      "[----|----|----|----|----|----|----|----|----|----|\n",
      "\n",
      "*\n",
      "*\n",
      "*\n",
      "*\n",
      "*\n",
      "*\n",
      "*\n",
      "*\n",
      "*\n",
      "*\n",
      "*\n",
      "*\n",
      "*\n",
      "*\n",
      "*\n",
      "*\n",
      "*\n",
      "*\n",
      "*\n",
      "*\n",
      "*\n",
      "*\n",
      "*\n",
      "*\n",
      "*\n",
      "*\n",
      "*\n",
      "*\n",
      "*\n",
      "*\n",
      "*\n",
      "*\n",
      "*\n",
      "*\n",
      "*\n",
      "*\n",
      "*\n",
      "*\n",
      "*\n",
      "*\n",
      "*\n",
      "*\n",
      "*\n",
      "*\n",
      "*\n",
      "*\n",
      "*\n",
      "*\n",
      "*\n",
      "*\n",
      "|\n",
      "\n",
      "11:23:33 Writing NN index file to temp file /var/folders/5c/r8w5nfxs3j55cvkpkr4kq6q80000gp/T//RtmpSRqnSS/file1650072dd10ef\n",
      "\n",
      "11:23:34 Searching Annoy index using 1 thread, search_k = 3000\n",
      "\n",
      "11:24:20 Annoy recall = 100%\n",
      "\n",
      "11:24:21 Commencing smooth kNN distance calibration using 1 thread\n",
      " with target n_neighbors = 30\n",
      "\n",
      "11:24:23 Initializing from normalized Laplacian + noise (using irlba)\n",
      "\n",
      "11:24:29 Commencing optimization for 200 epochs, with 4904788 positive edges\n",
      "\n",
      "11:25:18 Optimization finished\n",
      "\n",
      "Warning message:\n",
      "\"Quick-TRANSfer stage steps exceeded maximum (= 5805800)\"\n",
      "Warning message:\n",
      "\"did not converge in 25 iterations\"\n",
      "Warning message:\n",
      "\"Quick-TRANSfer stage steps exceeded maximum (= 5805800)\"\n",
      "Harmony 1/10\n",
      "\n",
      "Harmony 2/10\n",
      "\n",
      "Harmony 3/10\n",
      "\n",
      "Harmony 4/10\n",
      "\n",
      "Harmony 5/10\n",
      "\n",
      "Harmony 6/10\n",
      "\n",
      "Harmony 7/10\n",
      "\n",
      "Harmony 8/10\n",
      "\n",
      "Harmony converged after 8 iterations\n",
      "\n",
      "Warning message:\n",
      "\"Invalid name supplied, making object name syntactically valid. New object name is Seurat..ProjectDim.RNA.harmony; see ?make.names for more details on syntax validity\"\n",
      "11:31:28 UMAP embedding parameters a = 0.9922 b = 1.112\n",
      "\n",
      "11:31:28 Read 116116 rows and found 10 numeric columns\n",
      "\n",
      "11:31:28 Using Annoy for neighbor search, n_neighbors = 30\n",
      "\n",
      "11:31:28 Building Annoy index with metric = cosine, n_trees = 50\n",
      "\n",
      "0%   10   20   30   40   50   60   70   80   90   100%\n",
      "\n",
      "[----|----|----|----|----|----|----|----|----|----|\n",
      "\n",
      "*\n",
      "*\n",
      "*\n",
      "*\n",
      "*\n",
      "*\n",
      "*\n",
      "*\n",
      "*\n",
      "*\n",
      "*\n",
      "*\n",
      "*\n",
      "*\n",
      "*\n",
      "*\n",
      "*\n",
      "*\n",
      "*\n",
      "*\n",
      "*\n",
      "*\n",
      "*\n",
      "*\n",
      "*\n",
      "*\n",
      "*\n",
      "*\n",
      "*\n",
      "*\n",
      "*\n",
      "*\n",
      "*\n",
      "*\n",
      "*\n",
      "*\n",
      "*\n",
      "*\n",
      "*\n",
      "*\n",
      "*\n",
      "*\n",
      "*\n",
      "*\n",
      "*\n",
      "*\n",
      "*\n",
      "*\n",
      "*\n",
      "*\n",
      "|\n",
      "\n",
      "11:31:36 Writing NN index file to temp file /var/folders/5c/r8w5nfxs3j55cvkpkr4kq6q80000gp/T//RtmpSRqnSS/file16500f82f5d3\n",
      "\n",
      "11:31:36 Searching Annoy index using 1 thread, search_k = 3000\n",
      "\n",
      "11:32:18 Annoy recall = 100%\n",
      "\n",
      "11:32:19 Commencing smooth kNN distance calibration using 1 thread\n",
      " with target n_neighbors = 30\n",
      "\n",
      "11:32:21 Initializing from normalized Laplacian + noise (using irlba)\n",
      "\n",
      "11:32:31 Commencing optimization for 200 epochs, with 4874742 positive edges\n",
      "\n",
      "11:33:21 Optimization finished\n",
      "\n"
     ]
    },
    {
     "data": {
      "text/html": [
       "<table class=\"dataframe\">\n",
       "<caption>A matrix: 2 × 7 of type dbl</caption>\n",
       "<thead>\n",
       "\t<tr><th></th><th scope=col>used</th><th scope=col>(Mb)</th><th scope=col>gc trigger</th><th scope=col>(Mb)</th><th scope=col>limit (Mb)</th><th scope=col>max used</th><th scope=col>(Mb)</th></tr>\n",
       "</thead>\n",
       "<tbody>\n",
       "\t<tr><th scope=row>Ncells</th><td>  14976827</td><td>  799.9</td><td>  27528652</td><td> 1470.2</td><td>    NA</td><td>  27528652</td><td> 1470.2</td></tr>\n",
       "\t<tr><th scope=row>Vcells</th><td>1711296332</td><td>13056.2</td><td>3154374305</td><td>24066.0</td><td>131072</td><td>2952284370</td><td>22524.2</td></tr>\n",
       "</tbody>\n",
       "</table>\n"
      ],
      "text/latex": [
       "A matrix: 2 × 7 of type dbl\n",
       "\\begin{tabular}{r|lllllll}\n",
       "  & used & (Mb) & gc trigger & (Mb) & limit (Mb) & max used & (Mb)\\\\\n",
       "\\hline\n",
       "\tNcells &   14976827 &   799.9 &   27528652 &  1470.2 &     NA &   27528652 &  1470.2\\\\\n",
       "\tVcells & 1711296332 & 13056.2 & 3154374305 & 24066.0 & 131072 & 2952284370 & 22524.2\\\\\n",
       "\\end{tabular}\n"
      ],
      "text/markdown": [
       "\n",
       "A matrix: 2 × 7 of type dbl\n",
       "\n",
       "| <!--/--> | used | (Mb) | gc trigger | (Mb) | limit (Mb) | max used | (Mb) |\n",
       "|---|---|---|---|---|---|---|---|\n",
       "| Ncells |   14976827 |   799.9 |   27528652 |  1470.2 |     NA |   27528652 |  1470.2 |\n",
       "| Vcells | 1711296332 | 13056.2 | 3154374305 | 24066.0 | 131072 | 2952284370 | 22524.2 |\n",
       "\n"
      ],
      "text/plain": [
       "       used       (Mb)    gc trigger (Mb)    limit (Mb) max used   (Mb)   \n",
       "Ncells   14976827   799.9   27528652  1470.2     NA       27528652  1470.2\n",
       "Vcells 1711296332 13056.2 3154374305 24066.0 131072     2952284370 22524.2"
      ]
     },
     "metadata": {},
     "output_type": "display_data"
    }
   ],
   "source": [
    "####~~~~~~~~~~~~~~~~~~~~~~~~~~~~~~~~~~~~~~~~~~~~~~~~~~~~~~~~~~~~~~~~~~~~~~~~~~~~~~~~~~~~~~~~~~~~~~~~~~~~~~~~~~~~~~~~~~~~\n",
    "####  Visualize data  ####\n",
    "####~~~~~~~~~~~~~~~~~~~~~~~~~~~~~~~~~~~~~~~~~~~~~~~~~~~~~~~~~~~~~~~~~~~~~~~~~~~~~~~~~~~~~~~~~~~~~~~~~~~~~~~~~~~~~~~~----\n",
    "## Preprocess\n",
    "merge.srt$pct_mito <- NULL\n",
    "assay <- 'RNA'\n",
    "merge.srt <- Preprocess(merge.srt,assay)\n",
    "merge.srt <- FindVariableFeatures(merge.srt) |> ScaleData()\n",
    "\n",
    "merge.srt <- RunUMAP.my(merge.srt, assay = assay, var.toal = 0.75, haromize.by = 'sample')\n",
    "gc()"
   ]
  },
  {
   "cell_type": "code",
   "execution_count": 14,
   "id": "dd97c6ec-70d8-4c4f-bc9c-8403c8094055",
   "metadata": {
    "tags": []
   },
   "outputs": [
    {
     "name": "stderr",
     "output_type": "stream",
     "text": [
      "Rasterizing points since number of points exceeds 100,000.\n",
      "To disable this behavior set `raster=FALSE`\n",
      "\n",
      "Rasterizing points since number of points exceeds 100,000.\n",
      "To disable this behavior set `raster=FALSE`\n",
      "\n",
      "Rasterizing points since number of points exceeds 100,000.\n",
      "To disable this behavior set `raster=FALSE`\n",
      "\n",
      "Rasterizing points since number of points exceeds 100,000.\n",
      "To disable this behavior set `raster=FALSE`\n",
      "\n",
      "Rasterizing points since number of points exceeds 100,000.\n",
      "To disable this behavior set `raster=FALSE`\n",
      "\n",
      "Rasterizing points since number of points exceeds 100,000.\n",
      "To disable this behavior set `raster=FALSE`\n",
      "\n",
      "Rasterizing points since number of points exceeds 100,000.\n",
      "To disable this behavior set `raster=FALSE`\n",
      "\n",
      "Rasterizing points since number of points exceeds 100,000.\n",
      "To disable this behavior set `raster=FALSE`\n",
      "\n",
      "Rasterizing points since number of points exceeds 100,000.\n",
      "To disable this behavior set `raster=FALSE`\n",
      "\n",
      "Rasterizing points since number of points exceeds 100,000.\n",
      "To disable this behavior set `raster=FALSE`\n",
      "\n",
      "Rasterizing points since number of points exceeds 100,000.\n",
      "To disable this behavior set `raster=FALSE`\n",
      "\n",
      "Rasterizing points since number of points exceeds 100,000.\n",
      "To disable this behavior set `raster=FALSE`\n",
      "\n",
      "Rasterizing points since number of points exceeds 100,000.\n",
      "To disable this behavior set `raster=FALSE`\n",
      "\n",
      "Rasterizing points since number of points exceeds 100,000.\n",
      "To disable this behavior set `raster=FALSE`\n",
      "\n",
      "Rasterizing points since number of points exceeds 100,000.\n",
      "To disable this behavior set `raster=FALSE`\n",
      "\n",
      "Rasterizing points since number of points exceeds 100,000.\n",
      "To disable this behavior set `raster=FALSE`\n",
      "\n",
      "Rasterizing points since number of points exceeds 100,000.\n",
      "To disable this behavior set `raster=FALSE`\n",
      "\n",
      "Rasterizing points since number of points exceeds 100,000.\n",
      "To disable this behavior set `raster=FALSE`\n",
      "\n",
      "Rasterizing points since number of points exceeds 100,000.\n",
      "To disable this behavior set `raster=FALSE`\n",
      "\n",
      "\u001b[1m\u001b[22mScale for \u001b[32mcolour\u001b[39m is already present.\n",
      "Adding another scale for \u001b[32mcolour\u001b[39m, which will replace the existing scale.\n",
      "\u001b[1m\u001b[22mScale for \u001b[32mcolour\u001b[39m is already present.\n",
      "Adding another scale for \u001b[32mcolour\u001b[39m, which will replace the existing scale.\n",
      "\u001b[1m\u001b[22mScale for \u001b[32mcolour\u001b[39m is already present.\n",
      "Adding another scale for \u001b[32mcolour\u001b[39m, which will replace the existing scale.\n",
      "\u001b[1m\u001b[22mScale for \u001b[32mcolour\u001b[39m is already present.\n",
      "Adding another scale for \u001b[32mcolour\u001b[39m, which will replace the existing scale.\n",
      "\u001b[1m\u001b[22mScale for \u001b[32mcolour\u001b[39m is already present.\n",
      "Adding another scale for \u001b[32mcolour\u001b[39m, which will replace the existing scale.\n",
      "\u001b[1m\u001b[22mScale for \u001b[32mcolour\u001b[39m is already present.\n",
      "Adding another scale for \u001b[32mcolour\u001b[39m, which will replace the existing scale.\n",
      "\u001b[1m\u001b[22mScale for \u001b[32mcolour\u001b[39m is already present.\n",
      "Adding another scale for \u001b[32mcolour\u001b[39m, which will replace the existing scale.\n",
      "\u001b[1m\u001b[22mScale for \u001b[32mcolour\u001b[39m is already present.\n",
      "Adding another scale for \u001b[32mcolour\u001b[39m, which will replace the existing scale.\n",
      "\u001b[1m\u001b[22mScale for \u001b[32mcolour\u001b[39m is already present.\n",
      "Adding another scale for \u001b[32mcolour\u001b[39m, which will replace the existing scale.\n",
      "\u001b[1m\u001b[22mScale for \u001b[32mcolour\u001b[39m is already present.\n",
      "Adding another scale for \u001b[32mcolour\u001b[39m, which will replace the existing scale.\n",
      "\u001b[1m\u001b[22mScale for \u001b[32mcolour\u001b[39m is already present.\n",
      "Adding another scale for \u001b[32mcolour\u001b[39m, which will replace the existing scale.\n",
      "\u001b[1m\u001b[22mScale for \u001b[32mcolour\u001b[39m is already present.\n",
      "Adding another scale for \u001b[32mcolour\u001b[39m, which will replace the existing scale.\n",
      "\u001b[1m\u001b[22mScale for \u001b[32mcolour\u001b[39m is already present.\n",
      "Adding another scale for \u001b[32mcolour\u001b[39m, which will replace the existing scale.\n",
      "\u001b[1m\u001b[22mScale for \u001b[32mcolour\u001b[39m is already present.\n",
      "Adding another scale for \u001b[32mcolour\u001b[39m, which will replace the existing scale.\n"
     ]
    },
    {
     "data": {
      "text/html": [
       "<strong>pdf:</strong> 2"
      ],
      "text/latex": [
       "\\textbf{pdf:} 2"
      ],
      "text/markdown": [
       "**pdf:** 2"
      ],
      "text/plain": [
       "pdf \n",
       "  2 "
      ]
     },
     "metadata": {},
     "output_type": "display_data"
    },
    {
     "data": {
      "text/html": [
       "<strong>pdf:</strong> 2"
      ],
      "text/latex": [
       "\\textbf{pdf:} 2"
      ],
      "text/markdown": [
       "**pdf:** 2"
      ],
      "text/plain": [
       "pdf \n",
       "  2 "
      ]
     },
     "metadata": {},
     "output_type": "display_data"
    },
    {
     "data": {
      "text/html": [
       "<strong>pdf:</strong> 2"
      ],
      "text/latex": [
       "\\textbf{pdf:} 2"
      ],
      "text/markdown": [
       "**pdf:** 2"
      ],
      "text/plain": [
       "pdf \n",
       "  2 "
      ]
     },
     "metadata": {},
     "output_type": "display_data"
    },
    {
     "data": {
      "text/html": [
       "<strong>pdf:</strong> 2"
      ],
      "text/latex": [
       "\\textbf{pdf:} 2"
      ],
      "text/markdown": [
       "**pdf:** 2"
      ],
      "text/plain": [
       "pdf \n",
       "  2 "
      ]
     },
     "metadata": {},
     "output_type": "display_data"
    },
    {
     "name": "stderr",
     "output_type": "stream",
     "text": [
      "Rasterizing points since number of points exceeds 100,000.\n",
      "To disable this behavior set `raster=FALSE`\n",
      "\n",
      "Rasterizing points since number of points exceeds 100,000.\n",
      "To disable this behavior set `raster=FALSE`\n",
      "\n",
      "Rasterizing points since number of points exceeds 100,000.\n",
      "To disable this behavior set `raster=FALSE`\n",
      "\n",
      "Rasterizing points since number of points exceeds 100,000.\n",
      "To disable this behavior set `raster=FALSE`\n",
      "\n",
      "Rasterizing points since number of points exceeds 100,000.\n",
      "To disable this behavior set `raster=FALSE`\n",
      "\n",
      "Rasterizing points since number of points exceeds 100,000.\n",
      "To disable this behavior set `raster=FALSE`\n",
      "\n",
      "Rasterizing points since number of points exceeds 100,000.\n",
      "To disable this behavior set `raster=FALSE`\n",
      "\n",
      "Rasterizing points since number of points exceeds 100,000.\n",
      "To disable this behavior set `raster=FALSE`\n",
      "\n",
      "Rasterizing points since number of points exceeds 100,000.\n",
      "To disable this behavior set `raster=FALSE`\n",
      "\n",
      "Rasterizing points since number of points exceeds 100,000.\n",
      "To disable this behavior set `raster=FALSE`\n",
      "\n",
      "Rasterizing points since number of points exceeds 100,000.\n",
      "To disable this behavior set `raster=FALSE`\n",
      "\n",
      "Rasterizing points since number of points exceeds 100,000.\n",
      "To disable this behavior set `raster=FALSE`\n",
      "\n",
      "Rasterizing points since number of points exceeds 100,000.\n",
      "To disable this behavior set `raster=FALSE`\n",
      "\n",
      "Rasterizing points since number of points exceeds 100,000.\n",
      "To disable this behavior set `raster=FALSE`\n",
      "\n",
      "Rasterizing points since number of points exceeds 100,000.\n",
      "To disable this behavior set `raster=FALSE`\n",
      "\n",
      "Rasterizing points since number of points exceeds 100,000.\n",
      "To disable this behavior set `raster=FALSE`\n",
      "\n",
      "Rasterizing points since number of points exceeds 100,000.\n",
      "To disable this behavior set `raster=FALSE`\n",
      "\n",
      "Rasterizing points since number of points exceeds 100,000.\n",
      "To disable this behavior set `raster=FALSE`\n",
      "\n",
      "Rasterizing points since number of points exceeds 100,000.\n",
      "To disable this behavior set `raster=FALSE`\n",
      "\n",
      "\u001b[1m\u001b[22mScale for \u001b[32mcolour\u001b[39m is already present.\n",
      "Adding another scale for \u001b[32mcolour\u001b[39m, which will replace the existing scale.\n",
      "\u001b[1m\u001b[22mScale for \u001b[32mcolour\u001b[39m is already present.\n",
      "Adding another scale for \u001b[32mcolour\u001b[39m, which will replace the existing scale.\n",
      "\u001b[1m\u001b[22mScale for \u001b[32mcolour\u001b[39m is already present.\n",
      "Adding another scale for \u001b[32mcolour\u001b[39m, which will replace the existing scale.\n",
      "\u001b[1m\u001b[22mScale for \u001b[32mcolour\u001b[39m is already present.\n",
      "Adding another scale for \u001b[32mcolour\u001b[39m, which will replace the existing scale.\n",
      "\u001b[1m\u001b[22mScale for \u001b[32mcolour\u001b[39m is already present.\n",
      "Adding another scale for \u001b[32mcolour\u001b[39m, which will replace the existing scale.\n",
      "\u001b[1m\u001b[22mScale for \u001b[32mcolour\u001b[39m is already present.\n",
      "Adding another scale for \u001b[32mcolour\u001b[39m, which will replace the existing scale.\n",
      "\u001b[1m\u001b[22mScale for \u001b[32mcolour\u001b[39m is already present.\n",
      "Adding another scale for \u001b[32mcolour\u001b[39m, which will replace the existing scale.\n",
      "\u001b[1m\u001b[22mScale for \u001b[32mcolour\u001b[39m is already present.\n",
      "Adding another scale for \u001b[32mcolour\u001b[39m, which will replace the existing scale.\n",
      "\u001b[1m\u001b[22mScale for \u001b[32mcolour\u001b[39m is already present.\n",
      "Adding another scale for \u001b[32mcolour\u001b[39m, which will replace the existing scale.\n",
      "\u001b[1m\u001b[22mScale for \u001b[32mcolour\u001b[39m is already present.\n",
      "Adding another scale for \u001b[32mcolour\u001b[39m, which will replace the existing scale.\n",
      "\u001b[1m\u001b[22mScale for \u001b[32mcolour\u001b[39m is already present.\n",
      "Adding another scale for \u001b[32mcolour\u001b[39m, which will replace the existing scale.\n",
      "\u001b[1m\u001b[22mScale for \u001b[32mcolour\u001b[39m is already present.\n",
      "Adding another scale for \u001b[32mcolour\u001b[39m, which will replace the existing scale.\n",
      "\u001b[1m\u001b[22mScale for \u001b[32mcolour\u001b[39m is already present.\n",
      "Adding another scale for \u001b[32mcolour\u001b[39m, which will replace the existing scale.\n",
      "\u001b[1m\u001b[22mScale for \u001b[32mcolour\u001b[39m is already present.\n",
      "Adding another scale for \u001b[32mcolour\u001b[39m, which will replace the existing scale.\n"
     ]
    },
    {
     "data": {
      "text/html": [
       "<strong>pdf:</strong> 2"
      ],
      "text/latex": [
       "\\textbf{pdf:} 2"
      ],
      "text/markdown": [
       "**pdf:** 2"
      ],
      "text/plain": [
       "pdf \n",
       "  2 "
      ]
     },
     "metadata": {},
     "output_type": "display_data"
    },
    {
     "data": {
      "text/html": [
       "<strong>pdf:</strong> 2"
      ],
      "text/latex": [
       "\\textbf{pdf:} 2"
      ],
      "text/markdown": [
       "**pdf:** 2"
      ],
      "text/plain": [
       "pdf \n",
       "  2 "
      ]
     },
     "metadata": {},
     "output_type": "display_data"
    },
    {
     "data": {
      "text/html": [
       "<strong>pdf:</strong> 2"
      ],
      "text/latex": [
       "\\textbf{pdf:} 2"
      ],
      "text/markdown": [
       "**pdf:** 2"
      ],
      "text/plain": [
       "pdf \n",
       "  2 "
      ]
     },
     "metadata": {},
     "output_type": "display_data"
    }
   ],
   "source": [
    "## Plot for visual inspections\n",
    "plot.list <- CheckMerged(merge.srt, reduction = 'umap', assay = assay)\n",
    "PlotPDF('01.1.merge_cellbender_consensus.quick_check.split_dim', 20, 20)\n",
    "plot.list[[1]]\n",
    "dev.off()\n",
    "PlotPDF('01.2.merge_cellbender_consensus.quick_check.dim', 10, 10)\n",
    "plot.list[[2]]\n",
    "dev.off()\n",
    "PlotPDF('01.3.merge_cellbender_consensus.quick_check.vln', 10, 10)\n",
    "plot.list[[3]]\n",
    "dev.off()\n",
    "PlotPDF('01.4.merge_cellbender_consensus.quick_check.feature', 20, 20)\n",
    "plot.list[[4]]\n",
    "dev.off()\n",
    "\n",
    "## Plot for visual inspections\n",
    "plot.list <- CheckMerged(merge.srt, reduction = 'hmn_umap', assay = assay)\n",
    "PlotPDF('02.1.merge_cellbender_consensus.quick_check.split_dim', 20, 20)\n",
    "plot.list[[1]]\n",
    "dev.off()\n",
    "PlotPDF('02.2.merge_cellbender_consensus.quick_check.dim', 10, 10)\n",
    "plot.list[[2]]\n",
    "dev.off()\n",
    "PlotPDF('02.3.merge_cellbender_consensus.quick_check.feature', 20, 20)\n",
    "plot.list[[4]]\n",
    "dev.off()"
   ]
  },
  {
   "cell_type": "code",
   "execution_count": 40,
   "id": "1b81dd91-c278-4b72-953e-89228499881e",
   "metadata": {
    "tags": []
   },
   "outputs": [],
   "source": [
    "merge.srt$group1 <- factor('nn', levels = c('wt_p2m1','wt_p2m2','wt_p2s1','wt_p2s2',\n",
    "                                              'c3_p2m1','c3_p2m2','c3_p2s1','c3_p2s2'))\n",
    "merge.srt$group1[merge.srt$sample == 'P01_S001'] <- 'wt_p2m1'\n",
    "merge.srt$group1[merge.srt$sample == 'P01_S002'] <- 'wt_p2m2'\n",
    "merge.srt$group1[merge.srt$sample == 'P01_S003'] <- 'wt_p2s1'\n",
    "merge.srt$group1[merge.srt$sample == 'P01_S004'] <- 'wt_p2s2'\n",
    "merge.srt$group1[merge.srt$sample == 'P01_S005'] <- 'c3_p2m1'\n",
    "merge.srt$group1[merge.srt$sample == 'P01_S006'] <- 'c3_p2m2'\n",
    "merge.srt$group1[merge.srt$sample == 'P01_S007'] <- 'c3_p2s1'\n",
    "merge.srt$group1[merge.srt$sample == 'P01_S008'] <- 'c3_p2s2'\n",
    "#merge.srt$group1 <- factor(merge.srt$group1, levels = c('wt_p2m1','wt_p2m2','wt_p2s1','wt_p2s2','c3_p2m1','c3_p2m2','c3_p2s1','c3_p2s2'))"
   ]
  },
  {
   "cell_type": "code",
   "execution_count": 41,
   "id": "dd72a3dd-61f7-4cc4-8d50-c18b0a048010",
   "metadata": {
    "tags": []
   },
   "outputs": [],
   "source": [
    "merge.srt$group2 <- factor('nn', levels = c('wt_p2m', 'wt_p2s', 'c3_p2m', 'c3_p2s'))\n",
    "merge.srt$group2[merge.srt$sample == 'P01_S001'] <- 'wt_p2m'\n",
    "merge.srt$group2[merge.srt$sample == 'P01_S002'] <- 'wt_p2m'\n",
    "merge.srt$group2[merge.srt$sample == 'P01_S003'] <- 'wt_p2s'\n",
    "merge.srt$group2[merge.srt$sample == 'P01_S004'] <- 'wt_p2s'\n",
    "merge.srt$group2[merge.srt$sample == 'P01_S005'] <- 'c3_p2m'\n",
    "merge.srt$group2[merge.srt$sample == 'P01_S006'] <- 'c3_p2m'\n",
    "merge.srt$group2[merge.srt$sample == 'P01_S007'] <- 'c3_p2s'\n",
    "merge.srt$group2[merge.srt$sample == 'P01_S008'] <- 'c3_p2s'\n",
    "#merge.srt$group2 <- factor(merge.srt$group2, levels = c('wt_p2m', 'wt_p2s', 'c3_p2m', 'c3_p2s'))"
   ]
  },
  {
   "cell_type": "code",
   "execution_count": 43,
   "id": "56b145b8-a077-42f6-b135-6c15beec168f",
   "metadata": {
    "tags": []
   },
   "outputs": [
    {
     "data": {
      "text/plain": [
       "         \n",
       "          P01_S001 P01_S002 P01_S003 P01_S004 P01_S005 P01_S006 P01_S007\n",
       "  wt_p2m1    20341        0        0        0        0        0        0\n",
       "  wt_p2m2        0    11547        0        0        0        0        0\n",
       "  wt_p2s1        0        0    13659        0        0        0        0\n",
       "  wt_p2s2        0        0        0    11554        0        0        0\n",
       "  c3_p2m1        0        0        0        0    17008        0        0\n",
       "  c3_p2m2        0        0        0        0        0    11851        0\n",
       "  c3_p2s1        0        0        0        0        0        0    22851\n",
       "  c3_p2s2        0        0        0        0        0        0        0\n",
       "         \n",
       "          P01_S008\n",
       "  wt_p2m1        0\n",
       "  wt_p2m2        0\n",
       "  wt_p2s1        0\n",
       "  wt_p2s2        0\n",
       "  c3_p2m1        0\n",
       "  c3_p2m2        0\n",
       "  c3_p2s1        0\n",
       "  c3_p2s2     7305"
      ]
     },
     "metadata": {},
     "output_type": "display_data"
    },
    {
     "data": {
      "text/plain": [
       "         \n",
       "          wt_p2m wt_p2s c3_p2m c3_p2s\n",
       "  wt_p2m1  20341      0      0      0\n",
       "  wt_p2m2  11547      0      0      0\n",
       "  wt_p2s1      0  13659      0      0\n",
       "  wt_p2s2      0  11554      0      0\n",
       "  c3_p2m1      0      0  17008      0\n",
       "  c3_p2m2      0      0  11851      0\n",
       "  c3_p2s1      0      0      0  22851\n",
       "  c3_p2s2      0      0      0   7305"
      ]
     },
     "metadata": {},
     "output_type": "display_data"
    },
    {
     "name": "stderr",
     "output_type": "stream",
     "text": [
      "\u001b[1m\u001b[22m`summarise()` has grouped output by 'age'. You can override using the `.groups`\n",
      "argument.\n",
      "\u001b[1m\u001b[22m`summarise()` has grouped output by 'sex'. You can override using the `.groups`\n",
      "argument.\n"
     ]
    }
   ],
   "source": [
    "Table(merge.srt$group1, merge.srt$sample)\n",
    "Table(merge.srt$group1, merge.srt$group2)\n",
    "\n",
    "df1 <- CountCellBarPlot(merge.srt, group.var = 'group1', stack.var = 'age')$data\n",
    "df2 <- CountCellBarPlot(merge.srt, group.var = 'group1', stack.var = 'sex')$data\n",
    "df <- dplyr::inner_join(df1, df2, by = 'GroupVar')\n",
    "df$StackVar.x <- factor(df$StackVar.x, levels = sort(U(df$StackVar.x)))"
   ]
  },
  {
   "cell_type": "code",
   "execution_count": 44,
   "id": "c24d932e-3851-4efd-84df-d57e429c9318",
   "metadata": {},
   "outputs": [
    {
     "name": "stderr",
     "output_type": "stream",
     "text": [
      "Warning message:\n",
      "\"\u001b[1m\u001b[22mThe `size` argument of `element_line()` is deprecated as of ggplot2 3.4.0.\n",
      "\u001b[36mℹ\u001b[39m Please use the `linewidth` argument instead.\"\n"
     ]
    },
    {
     "data": {
      "text/html": [
       "<strong>pdf:</strong> 2"
      ],
      "text/latex": [
       "\\textbf{pdf:} 2"
      ],
      "text/markdown": [
       "**pdf:** 2"
      ],
      "text/plain": [
       "pdf \n",
       "  2 "
      ]
     },
     "metadata": {},
     "output_type": "display_data"
    },
    {
     "data": {
      "image/png": "[encoded data removed]",
      "text/plain": [
       "plot without title"
      ]
     },
     "metadata": {
      "image/png": {
       "height": 420,
       "width": 420
      }
     },
     "output_type": "display_data"
    }
   ],
   "source": [
    "p <- ggplot(df) +\n",
    "        geom_point(aes(x = GroupVar, y = StackVar.x, size = Count.x, color = StackVar.y)) +\n",
    "        labs(x = ' ', y = 'Age', color = 'Sample', size = 'Nuclei count', shape = 'Sex') +\n",
    "        theme(aspect.ratio = LU(df[,1][[1]])/LU(df[,2][[1]])) +\n",
    "        scale_color_manual(values = mycol_10[3:1]) &\n",
    "        scale_size(breaks = c(5e3, 1e4, 2e4, 4e4), limits = c(1e2, 4e4)) &\n",
    "        guides(color = guide_legend(ncol = 1)) &\n",
    "        theme(axis.ticks = element_blank(),\n",
    "              axis.line = element_line(size = 0.5, color = 'black'),\n",
    "              legend.background = element_blank(),\n",
    "              panel.background = element_blank(),\n",
    "              panel.grid.major = element_line(size = 0.5, color = 'grey75')) +\n",
    "        RotatedAxis()\n",
    "p\n",
    "PlotPDF('03.dot.sample_sex_age_distribution', 10, 10)\n",
    "p\n",
    "dev.off()\n",
    "####~~~~~~~~~~~~~~~~~~~~~~~~~~~~~~~~~~~~~~~~~~~~~~~~~~~~~~~~~~~~~~~~~~~~~~~~~~~~~~~~~~~~~~~~~~~~~~~~~~~~~~~~~~~~~~~~~~~~"
   ]
  },
  {
   "cell_type": "code",
   "execution_count": 45,
   "id": "bf4b8a69-88f0-4147-9776-e551f4d713ba",
   "metadata": {},
   "outputs": [
    {
     "data": {
      "text/plain": [
       "\n",
       "wt_p2m1 wt_p2m2 wt_p2s1 wt_p2s2 c3_p2m1 c3_p2m2 c3_p2s1 c3_p2s2 \n",
       "  20341   11547   13659   11554   17008   11851   22851    7305 "
      ]
     },
     "metadata": {},
     "output_type": "display_data"
    },
    {
     "data": {
      "text/plain": [
       "\n",
       "wt_p2m wt_p2s c3_p2m c3_p2s \n",
       " 31888  25213  28859  30156 "
      ]
     },
     "metadata": {},
     "output_type": "display_data"
    }
   ],
   "source": [
    "Table(merge.srt$group1)\n",
    "Table(merge.srt$group2)"
   ]
  },
  {
   "cell_type": "code",
   "execution_count": 49,
   "id": "06b20655-caf2-463c-85d9-938aaf6e2f98",
   "metadata": {},
   "outputs": [],
   "source": [
    "####~~~~~~~~~~~~~~~~~~~~~~~~~~~~~~~~~~~~~~~~~~~~~~~~~~~~~~~~~~~~~~~~~~~~~~~~~~~~~~~~~~~~~~~~~~~~~~~~~~~~~~~~~~~~~~~~~~~~\n",
    "####  Organize meta data  ####\n",
    "####~~~~~~~~~~~~~~~~~~~~~~~~~~~~~~~~~~~~~~~~~~~~~~~~~~~~~~~~~~~~~~~~~~~~~~~~~~~~~~~~~~~~~~~~~~~~~~~~~~~~~~~~~~~~~~~~----\n",
    "study_order <- c(\n",
    "        '2023_NeoC3KO_RLi'\n",
    ")\n",
    "sample_order <- str_sort(U(merge.srt$sample))\n",
    "method_order <- c(\n",
    "        'Nucleus'\n",
    ")\n",
    "platform_order <- c(\n",
    "        '10X'\n",
    ")\n",
    "protocol_order <- c(\n",
    "        'GEX',\n",
    "        'Multiome'\n",
    ")\n",
    "tissue_order <- str_sort(U(merge.srt$tissue))\n",
    "\n",
    "sex_order <- c(\n",
    "        'F',     \n",
    "        'M'\n",
    ")\n",
    "age_order <- sort(U(merge.srt$age))\n"
   ]
  },
  {
   "cell_type": "code",
   "execution_count": 55,
   "id": "d5b60886-acf5-4843-9505-38e841532feb",
   "metadata": {},
   "outputs": [],
   "source": [
    "## Edit processed info\n",
    "merge.srt$data_process <- 'CellBender'\n",
    "#merge.srt$nCount_RAW <- NULL\n",
    "#merge.srt$nFeature_RAW <- NULL\n",
    "#merge.srt$nCount_CBN <- NULL\n",
    "#merge.srt$nFeature_CBN <- NULL\n",
    "#merge.srt$pct_mito_CBN <- NULL\n",
    "\n",
    "## Set merged data ordering\n",
    "merge.srt$study <- factor(merge.srt$study, levels = study_order)\n",
    "merge.srt$sample <- factor(merge.srt$sample, levels = sample_order)\n",
    "merge.srt$method <- factor(merge.srt$method, levels = method_order)\n",
    "merge.srt$platform <- factor(merge.srt$platform, levels = platform_order)\n",
    "merge.srt$protocol <- factor(merge.srt$protocol, levels = protocol_order)\n",
    "merge.srt$tissue <- factor(merge.srt$tissue, levels = tissue_order)\n",
    "merge.srt$sex <- factor(merge.srt$sex, levels = sex_order)\n",
    "merge.srt$age <- factor(merge.srt$age, levels = age_order)\n",
    "merge.srt$orig.ident <- NULL"
   ]
  },
  {
   "cell_type": "code",
   "execution_count": 56,
   "id": "ebbca7eb-f217-411e-89f8-7d508bea9de9",
   "metadata": {},
   "outputs": [
    {
     "data": {
      "text/plain": [
       "[[1]]\n",
       "\n",
       "[[2]]\n",
       "\n",
       "[[3]]\n",
       "\n",
       "[[4]]\n"
      ]
     },
     "metadata": {},
     "output_type": "display_data"
    },
    {
     "data": {
      "text/html": [
       "<strong>pdf:</strong> 2"
      ],
      "text/latex": [
       "\\textbf{pdf:} 2"
      ],
      "text/markdown": [
       "**pdf:** 2"
      ],
      "text/plain": [
       "pdf \n",
       "  2 "
      ]
     },
     "metadata": {},
     "output_type": "display_data"
    }
   ],
   "source": [
    "## Checking basic stat of the merged dataset\n",
    "stat <- c('study', 'group1', 'group2', 'sex')\n",
    "col_choice <- list(mycol_10,\n",
    "                   mycol_10,\n",
    "                   mycol_10,\n",
    "                   c(mycol_10[c(3:1)])\n",
    "                   )\n",
    "p.list <- list()\n",
    "for(i in 1:4){\n",
    "        data <- data.frame(group = factor(names(table(merge.srt@meta.data[, stat[i]])),\n",
    "                                          levels = levels(merge.srt@meta.data[, stat[i]])),\n",
    "                           value = table(merge.srt@meta.data[, stat[i]]))\n",
    "        p.list[[i]] <- ggplot(data, aes(x = \"\", y = value.Freq, fill = group)) +\n",
    "                geom_bar(stat = \"identity\", width = 1) +\n",
    "                coord_polar(\"y\", start = 0, direction = -1) +\n",
    "                labs(title = stat[i]) +\n",
    "                scale_fill_manual(values = col_choice[[i]]) +\n",
    "                WhiteBackground() +\n",
    "                NoAxes() +\n",
    "                theme(aspect.ratio = 1, legend.title = element_blank())\n",
    "}\n",
    "PlotPDF('04.merged_consensus.meta_stat', 5, 5, onefile = T)\n",
    "p.list\n",
    "dev.off()"
   ]
  },
  {
   "cell_type": "code",
   "execution_count": 57,
   "id": "5669c2e2-1886-4436-b09f-cbad4949951a",
   "metadata": {},
   "outputs": [],
   "source": [
    "merge.srt <- DietSeurat(merge.srt, assays = c('RNA', 'ATAC'), dimreducs = names(merge.srt@reductions))\n",
    "####~~~~~~~~~~~~~~~~~~~~~~~~~~~~~~~~~~~~~~~~~~~~~~~~~~~~~~~~~~~~~~~~~~~~~~~~~~~~~~~~~~~~~~~~~~~~~~~~~~~~~~~~~~~~~~~~~~~~\n",
    "saveRDS(merge.srt@meta.data, 'integrated/PART02.merged.srt_meta.rds')\n",
    "saveRDS(merge.srt, 'integrated/PART02.merged.srt.rds')\n",
    "####~~~~~~~~~~~~~~~~~~~~~~~~~~~~~~~~~~~~~~~~~~~~~~~~~~~~~~~~~~~~~~~~~~~~~~~~~~~~~~~~~~~~~~~~~~~~~~~~~~~~~~~~~~~~~~~~~~~~"
   ]
  },
  {
   "cell_type": "code",
   "execution_count": 58,
   "id": "f8c19e53-543e-4c31-9b83-f525b013e496",
   "metadata": {},
   "outputs": [
    {
     "name": "stderr",
     "output_type": "stream",
     "text": [
      "Rasterizing points since number of points exceeds 100,000.\n",
      "To disable this behavior set `raster=FALSE`\n",
      "\n"
     ]
    },
    {
     "data": {
      "image/png": "[encoded data removed]",
      "text/plain": [
       "plot without title"
      ]
     },
     "metadata": {
      "image/png": {
       "height": 420,
       "width": 420
      }
     },
     "output_type": "display_data"
    }
   ],
   "source": [
    "DimPlot2(merge.srt, group.by = 'group2', reduction = 'hmn_umap',\n",
    "                       cols = mycol_10, label = F, pt.size = 0.1) +\n",
    "                labs(x = \"UMAP 1\", y = \"UMAP 2\",\n",
    "                     title = paste0(ncol(merge.srt), \" Cells x \", nrow(merge.srt), \" Genes\")) +\n",
    "                guides(col = guide_legend(ncol = 1))"
   ]
  },
  {
   "cell_type": "code",
   "execution_count": null,
   "id": "6c5a2387-f254-4e63-b142-1bef4ee07c55",
   "metadata": {},
   "outputs": [],
   "source": []
  }
 ],
 "metadata": {
  "kernelspec": {
   "display_name": "R",
   "language": "R",
   "name": "ir"
  },
  "language_info": {
   "codemirror_mode": "r",
   "file_extension": ".r",
   "mimetype": "text/x-r-source",
   "name": "R",
   "pygments_lexer": "r",
   "version": "4.2.2"
  }
 },
 "nbformat": 4,
 "nbformat_minor": 5
}
