{
 "cells": [
  {
   "cell_type": "code",
   "execution_count": 1,
   "id": "8aa69270-22d0-4396-9027-8bdf25bec7c1",
   "metadata": {},
   "outputs": [],
   "source": [
    "####~~~~~~~~~~~~~~~~~~~~~~~~~~~~~~~~~~~~~~~~~~~~~~~~~~~~~~~~~~~~~~~~~~~~~~~~~~~~~~~~~~~~~~~~~~~~~~~~~~~~~~~~~~~~~~~~~~~~\n",
    "####  Mouse C3KO-RichLi snRNA\n",
    "####  2023-05-22 by Yi Zhao (Texas Heart Institute, US)\n",
    "####~~~~~~~~~~~~~~~~~~~~~~~~~~~~~~~~~~~~~~~~~~~~~~~~~~~~~~~~~~~~~~~~~~~~~~~~~~~~~~~~~~~~~~~~~~~~~~~~~~~~~~~~~~~~~~~~~~~~\n",
    "\n",
    "\n",
    "####~~~~~~~~~~~~~~~~~~~~~~~~~~~~~~~~~~~~~~~~~~~~~~~~~~~~~~~~~~~~~~~~~~~~~~~~~~~~~~~~~~~~~~~~~~~~~~~~~~~~~~~~~~~~~~~~~~~~\n",
    "####  Initiate  ####\n",
    "####~~~~~~~~~~~~~~~~~~~~~~~~~~~~~~~~~~~~~~~~~~~~~~~~~~~~~~~~~~~~~~~~~~~~~~~~~~~~~~~~~~~~~~~~~~~~~~~~~~~~~~~~~~~~~~~~----\n",
    "Ver <- '0'\n",
    "Step <- 'PART23_Cell_Type_DEG'\n",
    "Project <- '2023_neoc3ko_rli'\n",
    "\n",
    "Code_dir <- paste0('/Volumes/shire/project/', Project, '/code/mouse_v', Ver, '/')\n",
    "\n",
    "source(paste0(Code_dir, 'src/bioinformatics.R'))\n",
    "source(paste0(Code_dir, 'src/scRNAseq.R'))\n",
    "source(paste0(Code_dir, 'src/scATACseq.R'))\n",
    "source(paste0(Code_dir, 'mouse_v', Ver, '.helper_functions.R'))\n",
    "suppressMessages(library('DESeq2'))\n",
    "\n",
    "InitiateProject('Rivendell', Ver, Step, 'mouse', Project, 'shire')\n",
    "####~~~~~~~~~~~~~~~~~~~~~~~~~~~~~~~~~~~~~~~~~~~~~~~~~~~~~~~~~~~~~~~~~~~~~~~~~~~~~~~~~~~~~~~~~~~~~~~~~~~~~~~~~~~~~~~~~~~~"
   ]
  },
  {
   "cell_type": "code",
   "execution_count": 2,
   "id": "2d27cbbc-f8cd-4c59-920e-e19a166677e7",
   "metadata": {},
   "outputs": [],
   "source": [
    "####~~~~~~~~~~~~~~~~~~~~~~~~~~~~~~~~~~~~~~~~~~~~~~~~~~~~~~~~~~~~~~~~~~~~~~~~~~~~~~~~~~~~~~~~~~~~~~~~~~~~~~~~~~~~~~~~~~~~\n",
    "####  Load data  ####\n",
    "####~~~~~~~~~~~~~~~~~~~~~~~~~~~~~~~~~~~~~~~~~~~~~~~~~~~~~~~~~~~~~~~~~~~~~~~~~~~~~~~~~~~~~~~~~~~~~~~~~~~~~~~~~~~~~~~~----\n",
    "full.srt <- readRDS('integrated/PART19.annotated.srt.rds')\n",
    "#full.srt@meta.data$group1 <- droplevels(full.srt@meta.data$group1)"
   ]
  },
  {
   "cell_type": "code",
   "execution_count": 3,
   "id": "7284fc7e-cb4c-4314-bebf-1f7661ea6f23",
   "metadata": {},
   "outputs": [
    {
     "data": {
      "text/plain": [
       "\n",
       "Cardiomyocyte   Endocardium    Epicardium    Fibroblast        Immune \n",
       "        56287         13462          6665          9715          2187 \n",
       "     Pericyte     Adipocyte           SMC           BEC           LEC \n",
       "         1723           405          1068          3007           349 \n",
       "Contamination       Doublet \n",
       "          402          6365 "
      ]
     },
     "metadata": {},
     "output_type": "display_data"
    }
   ],
   "source": [
    "Table(full.srt$Cell_type)"
   ]
  },
  {
   "cell_type": "code",
   "execution_count": 4,
   "id": "3086d8ac-3f99-4e13-8d4a-f96cc1a6c216",
   "metadata": {},
   "outputs": [
    {
     "data": {
      "text/plain": [
       "\n",
       "wt_p2m wt_p2s c3_p2m c3_p2s \n",
       " 28221  22628  25319  25467 "
      ]
     },
     "metadata": {},
     "output_type": "display_data"
    }
   ],
   "source": [
    "Table(full.srt$group2)"
   ]
  },
  {
   "cell_type": "code",
   "execution_count": 5,
   "id": "04d5cd0c-9e3a-4800-8f57-fb4e06e02900",
   "metadata": {},
   "outputs": [
    {
     "data": {
      "text/plain": [
       "\n",
       "wt_p2m1 wt_p2m2 wt_p2s1 wt_p2s2 c3_p2m1 c3_p2m2 c3_p2s1 c3_p2s2 \n",
       "  17937   10284   12176   10452   14964   10355   19076    6391 "
      ]
     },
     "metadata": {},
     "output_type": "display_data"
    }
   ],
   "source": [
    "Table(full.srt$group1)"
   ]
  },
  {
   "cell_type": "code",
   "execution_count": 6,
   "id": "c4d2e92b-2b45-484a-9652-42dde0af4c2b",
   "metadata": {},
   "outputs": [],
   "source": [
    "full.srt <- full.srt[, !full.srt$Cell_type %in% c('Doublet','Contamination')]"
   ]
  },
  {
   "cell_type": "markdown",
   "id": "66aa70e6-c738-4119-95f4-a8697834ac39",
   "metadata": {},
   "source": [
    "## call the marker of each cell type"
   ]
  },
  {
   "cell_type": "code",
   "execution_count": 7,
   "id": "1ffcbb58-948f-486d-94e6-adf017bed6ba",
   "metadata": {},
   "outputs": [
    {
     "name": "stderr",
     "output_type": "stream",
     "text": [
      "Calculating cluster Cardiomyocyte\n",
      "\n",
      "Calculating cluster Endocardium\n",
      "\n",
      "Calculating cluster Epicardium\n",
      "\n",
      "Calculating cluster Fibroblast\n",
      "\n",
      "Calculating cluster Immune\n",
      "\n",
      "Calculating cluster Pericyte\n",
      "\n",
      "Calculating cluster Adipocyte\n",
      "\n",
      "Calculating cluster SMC\n",
      "\n",
      "Calculating cluster BEC\n",
      "\n",
      "Calculating cluster LEC\n",
      "\n",
      "\u001b[1m\u001b[22mScale for \u001b[32mfill\u001b[39m is already present.\n",
      "Adding another scale for \u001b[32mfill\u001b[39m, which will replace the existing scale.\n"
     ]
    },
    {
     "data": {
      "text/html": [
       "<strong>pdf:</strong> 2"
      ],
      "text/latex": [
       "\\textbf{pdf:} 2"
      ],
      "text/markdown": [
       "**pdf:** 2"
      ],
      "text/plain": [
       "pdf \n",
       "  2 "
      ]
     },
     "metadata": {},
     "output_type": "display_data"
    }
   ],
   "source": [
    "### cell type marker\n",
    "PlotPDF('1.heat.cell_type_marker', 12, 15)\n",
    "\n",
    "        Idents(full.srt) <- 'Cell_type'\n",
    "        mk <- FindAllMarkers(full.srt, logfc.threshold = 0.25, only.pos = T, return.thresh = 0.05)\n",
    "        mk <- mk[mk$p_val_adj < 0.05, ]\n",
    "        print(MarkerHeatmap(full.srt, mk, top = 10, disp.min = 0, raster = T))\n",
    "        ####~~~~~~~~~~~~~~~~~~~~~~~~~~~~~~~~~~~~~~~~~~~~~~~~~~~~~~~~~~~~~~~~~~~~~~~~~~~~~~~~~~~~~~~~~~~~~~~~~~~~~~~~~~~~\n",
    "        saveRDS(mk, 'analysis/PART23.cell_type_marker.srt_mk.rds')\n",
    "        write.table(mk,file = \"analysis/PART23.cell_type_marker.srt_mk.txt\",quote = FALSE, sep = \"\\t\")\n",
    "        ####~~~~~~~~~~~~~~~~~~~~~~~~~~~~~~~~~~~~~~~~~~~~~~~~~~~~~~~~~~~~~~~~~~~~~~~~~~~~~~~~~~~~~~~~~~~~~~~~~~~~~~~~~~~~\n",
    "dev.off()\n",
    "####~~~~~~~~~~~~~~~~~~~~~~~~~~~~~~~~~~~~~~~~~~~~~~~~~~~~~~~~~~"
   ]
  },
  {
   "cell_type": "markdown",
   "id": "910ef697-fe9d-4cd8-a123-dd52dce7710e",
   "metadata": {},
   "source": [
    "## MarkerJitterPlot: LatsCKO vs Control"
   ]
  },
  {
   "cell_type": "code",
   "execution_count": 12,
   "id": "c3489c58-c000-42a7-a427-f51b6f6b9f2f",
   "metadata": {},
   "outputs": [],
   "source": [
    "MarkerJitterPlot <- function(mk.df, cols = 'GnBu', col.direction = 0, jitter.width = 0.3, pt.size = 0.5){\n",
    "        mk.df$TMP____logp <- -log10(mk.df$p_val_adj)\n",
    "        mk.df$TMP____logp[mk.df$TMP____logp > 100] <- 100\n",
    "        ggplot(mk.df, aes(x = cluster, y = avg_log2FC)) +\n",
    "                geom_jitter(width = jitter.width, aes(color = TMP____logp), size = pt.size) +\n",
    "                scale_color_distiller(palette = cols, direction = col.direction) +\n",
    "                labs(x = 'Clusters', y = 'Mean Log2FC', color = '-Log10 Adj.P') +\n",
    "                theme_classic() +\n",
    "                theme(aspect.ratio = 1, axis.text.x = element_text(hjust = 1, angle = 45))\n",
    "}"
   ]
  },
  {
   "cell_type": "code",
   "execution_count": 13,
   "id": "05ea65a8-70b6-4a7d-bb69-f1dc822d3cd4",
   "metadata": {},
   "outputs": [
    {
     "name": "stderr",
     "output_type": "stream",
     "text": [
      "Epicardium\n",
      "\n",
      "Immune\n",
      "\n",
      "Cardiomyocyte\n",
      "\n",
      "SMC\n",
      "\n",
      "Endocardium\n",
      "\n",
      "Fibroblast\n",
      "\n",
      "Pericyte\n",
      "\n",
      "Adipocyte\n",
      "\n",
      "BEC\n",
      "\n",
      "LEC\n",
      "\n"
     ]
    }
   ],
   "source": [
    "srt_list <- SplitObject(full.srt, 'Cell_type')\n",
    "ct <- names(srt_list)\n",
    "####~~~~~~~~~~~~~~~~~~~~~~~~~~~~~~~~~~~~~~~~~~~~~~~~~~~~~~~~~~~~~~~~~~~~~~~~~~~~~~~~~~~~~~~~~~~~~~~~~~~~~~~~~~~~~~~~~~~~\n",
    "\n",
    "####~~~~~~~~~~~~~~~~~~~~~~~~~~~~~~~~~~~~~~~~~~~~~~~~~~~~~~~~~~~~~~~~~~~~~~~~~~~~~~~~~~~~~~~~~~~~~~~~~~~~~~~~~~~~~~~~~~~~\n",
    "####  Compute sc LatsCKO vs Control DEG  ####\n",
    "####~~~~~~~~~~~~~~~~~~~~~~~~~~~~~~~~~~~~~~~~~~~~~~~~~~~~~~~~~~~~~~~~~~~~~~~~~~~~~~~~~~~~~~~~~~~~~~~~~~~~~~~~~~~~~~~~----\n",
    "plan(\"multisession\", workers = 8)\n",
    "sc_deg_list <- list()\n",
    "for(i in 1:L(ct)){\n",
    "        message(ct[i])\n",
    "        Idents(srt_list[[i]]) <- 'group2'\n",
    "        deg <- FindMarkers(srt_list[[i]], ident.1 = 'c3_p2m', ident.2 = 'wt_p2m')\n",
    "        deg <- deg[deg$p_val_adj < 0.05, ]\n",
    "        deg$gene <- rownames(deg)\n",
    "        sc_deg_list[[i]] <- deg\n",
    "        names(sc_deg_list)[i] <- ct[i]\n",
    "        ####~~~~~~~~~~~~~~~~~~~~~~~~~~~~~~~~~~~~~~~~~~~~~~~~~~~~~~~~~~~~~~~~~~~~~~~~~~~~~~~~~~~~~~~~~~~~~~~~~~~~~~~~~~~~\n",
    "        saveRDS(sc_deg_list, 'analysis/PART23.sc_deg_c3_p2m_vs_wt_p2m.srt_mk.rds')\n",
    "        ####~~~~~~~~~~~~~~~~~~~~~~~~~~~~~~~~~~~~~~~~~~~~~~~~~~~~~~~~~~~~~~~~~~~~~~~~~~~~~~~~~~~~~~~~~~~~~~~~~~~~~~~~~~~~\n",
    "}\n",
    "####~~~~~~~~~~~~~~~~~~~~~~~~~~~~~~~~~~~~~~~~~~~~~~~~~~~~~~~~~~~~~~~~~~~~~~~~~~~~~~~~~~~~~~~~~~~~~~~~~~~~~~~~~~~~~~~~~~~~"
   ]
  },
  {
   "cell_type": "code",
   "execution_count": 14,
   "id": "392eb3af-bc49-4ad2-8e96-5892f2d5fb38",
   "metadata": {},
   "outputs": [],
   "source": [
    "cell_state_mk <- sc_deg_list\n",
    "celltype <- names(cell_state_mk)\n",
    "mk.df <- data.frame()\n",
    "\n",
    "for (i in 1:L(ct)){\n",
    "    #names(cell_state_mk)\n",
    "    #print(celltype[i])\n",
    "    cell_state_mk[[i]]$cluster <- celltype[i]\n",
    "    mk.df <- rbind(mk.df,cell_state_mk[[i]])\n",
    "}"
   ]
  },
  {
   "cell_type": "code",
   "execution_count": 15,
   "id": "4ee15b72-9b6a-42a8-9c26-e5da546c5a01",
   "metadata": {},
   "outputs": [],
   "source": [
    "write.table(mk,file = \"analysis/PART23.cell_c3_p2m_vs_wt_p2m_marker.txt\",quote = FALSE, sep = \"\\t\")\n"
   ]
  },
  {
   "cell_type": "code",
   "execution_count": 16,
   "id": "5c6799da-0dd4-4b99-bdcf-aadea1ae1ff5",
   "metadata": {},
   "outputs": [
    {
     "data": {
      "text/plain": [
       "\n",
       "    Adipocyte           BEC Cardiomyocyte   Endocardium    Epicardium \n",
       "           82           297           841           472           538 \n",
       "   Fibroblast        Immune           LEC      Pericyte           SMC \n",
       "          338           111            10           239           104 "
      ]
     },
     "metadata": {},
     "output_type": "display_data"
    }
   ],
   "source": [
    "Table(mk.df$cluster)"
   ]
  },
  {
   "cell_type": "code",
   "execution_count": 17,
   "id": "36d3fded-3639-4361-8549-614241db0865",
   "metadata": {},
   "outputs": [
    {
     "data": {
      "text/html": [
       "<strong>pdf:</strong> 2"
      ],
      "text/latex": [
       "\\textbf{pdf:} 2"
      ],
      "text/markdown": [
       "**pdf:** 2"
      ],
      "text/plain": [
       "pdf \n",
       "  2 "
      ]
     },
     "metadata": {},
     "output_type": "display_data"
    }
   ],
   "source": [
    "p1 <- MarkerJitterPlot(mk.df = mk.df)\n",
    "PlotPDF('2.0.Jitter.cell_c3_p2m_vs_wt_p2m_marker.0',10, 5)\n",
    "p1\n",
    "dev.off()"
   ]
  },
  {
   "cell_type": "code",
   "execution_count": 32,
   "id": "9a7497ad-7417-4de9-a501-747a7c0143b7",
   "metadata": {
    "collapsed": true,
    "jupyter": {
     "outputs_hidden": true
    },
    "tags": []
   },
   "outputs": [
    {
     "name": "stderr",
     "output_type": "stream",
     "text": [
      "Epicardium\n",
      "\n",
      "converting counts to integer mode\n",
      "\n",
      "using pre-existing size factors\n",
      "\n",
      "estimating dispersions\n",
      "\n",
      "gene-wise dispersion estimates\n",
      "\n",
      "mean-dispersion relationship\n",
      "\n",
      "final dispersion estimates\n",
      "\n",
      "fitting model and testing\n",
      "\n",
      "using 'ashr' for LFC shrinkage. If used in published research, please cite:\n",
      "    Stephens, M. (2016) False discovery rates: a new deal. Biostatistics, 18:2.\n",
      "    https://doi.org/10.1093/biostatistics/kxw041\n",
      "\n",
      "Immune\n",
      "\n",
      "converting counts to integer mode\n",
      "\n",
      "using pre-existing size factors\n",
      "\n",
      "estimating dispersions\n",
      "\n",
      "gene-wise dispersion estimates\n",
      "\n",
      "mean-dispersion relationship\n",
      "\n",
      "final dispersion estimates\n",
      "\n",
      "fitting model and testing\n",
      "\n",
      "using 'ashr' for LFC shrinkage. If used in published research, please cite:\n",
      "    Stephens, M. (2016) False discovery rates: a new deal. Biostatistics, 18:2.\n",
      "    https://doi.org/10.1093/biostatistics/kxw041\n",
      "\n",
      "Cardiomyocyte\n",
      "\n",
      "converting counts to integer mode\n",
      "\n",
      "using pre-existing size factors\n",
      "\n",
      "estimating dispersions\n",
      "\n",
      "gene-wise dispersion estimates\n",
      "\n",
      "mean-dispersion relationship\n",
      "\n",
      "final dispersion estimates\n",
      "\n",
      "fitting model and testing\n",
      "\n",
      "using 'ashr' for LFC shrinkage. If used in published research, please cite:\n",
      "    Stephens, M. (2016) False discovery rates: a new deal. Biostatistics, 18:2.\n",
      "    https://doi.org/10.1093/biostatistics/kxw041\n",
      "\n",
      "SMC\n",
      "\n",
      "converting counts to integer mode\n",
      "\n",
      "using pre-existing size factors\n",
      "\n",
      "estimating dispersions\n",
      "\n",
      "gene-wise dispersion estimates\n",
      "\n",
      "mean-dispersion relationship\n",
      "\n",
      "final dispersion estimates\n",
      "\n",
      "fitting model and testing\n",
      "\n",
      "using 'ashr' for LFC shrinkage. If used in published research, please cite:\n",
      "    Stephens, M. (2016) False discovery rates: a new deal. Biostatistics, 18:2.\n",
      "    https://doi.org/10.1093/biostatistics/kxw041\n",
      "\n",
      "Endocardium\n",
      "\n",
      "converting counts to integer mode\n",
      "\n",
      "using pre-existing size factors\n",
      "\n",
      "estimating dispersions\n",
      "\n",
      "gene-wise dispersion estimates\n",
      "\n",
      "mean-dispersion relationship\n",
      "\n",
      "final dispersion estimates\n",
      "\n",
      "fitting model and testing\n",
      "\n",
      "using 'ashr' for LFC shrinkage. If used in published research, please cite:\n",
      "    Stephens, M. (2016) False discovery rates: a new deal. Biostatistics, 18:2.\n",
      "    https://doi.org/10.1093/biostatistics/kxw041\n",
      "\n",
      "Fibroblast\n",
      "\n",
      "converting counts to integer mode\n",
      "\n",
      "using pre-existing size factors\n",
      "\n",
      "estimating dispersions\n",
      "\n",
      "gene-wise dispersion estimates\n",
      "\n",
      "mean-dispersion relationship\n",
      "\n",
      "final dispersion estimates\n",
      "\n",
      "fitting model and testing\n",
      "\n",
      "using 'ashr' for LFC shrinkage. If used in published research, please cite:\n",
      "    Stephens, M. (2016) False discovery rates: a new deal. Biostatistics, 18:2.\n",
      "    https://doi.org/10.1093/biostatistics/kxw041\n",
      "\n",
      "Pericyte\n",
      "\n",
      "converting counts to integer mode\n",
      "\n",
      "using pre-existing size factors\n",
      "\n",
      "estimating dispersions\n",
      "\n",
      "gene-wise dispersion estimates\n",
      "\n",
      "mean-dispersion relationship\n",
      "\n",
      "final dispersion estimates\n",
      "\n",
      "fitting model and testing\n",
      "\n",
      "using 'ashr' for LFC shrinkage. If used in published research, please cite:\n",
      "    Stephens, M. (2016) False discovery rates: a new deal. Biostatistics, 18:2.\n",
      "    https://doi.org/10.1093/biostatistics/kxw041\n",
      "\n",
      "Adipocyte\n",
      "\n",
      "converting counts to integer mode\n",
      "\n",
      "using pre-existing size factors\n",
      "\n",
      "estimating dispersions\n",
      "\n",
      "gene-wise dispersion estimates\n",
      "\n",
      "mean-dispersion relationship\n",
      "\n",
      "final dispersion estimates\n",
      "\n",
      "fitting model and testing\n",
      "\n",
      "using 'ashr' for LFC shrinkage. If used in published research, please cite:\n",
      "    Stephens, M. (2016) False discovery rates: a new deal. Biostatistics, 18:2.\n",
      "    https://doi.org/10.1093/biostatistics/kxw041\n",
      "\n",
      "BEC\n",
      "\n",
      "converting counts to integer mode\n",
      "\n",
      "using pre-existing size factors\n",
      "\n",
      "estimating dispersions\n",
      "\n",
      "gene-wise dispersion estimates\n",
      "\n",
      "mean-dispersion relationship\n",
      "\n",
      "final dispersion estimates\n",
      "\n",
      "fitting model and testing\n",
      "\n",
      "using 'ashr' for LFC shrinkage. If used in published research, please cite:\n",
      "    Stephens, M. (2016) False discovery rates: a new deal. Biostatistics, 18:2.\n",
      "    https://doi.org/10.1093/biostatistics/kxw041\n",
      "\n",
      "LEC\n",
      "\n",
      "converting counts to integer mode\n",
      "\n",
      "using pre-existing size factors\n",
      "\n",
      "estimating dispersions\n",
      "\n",
      "gene-wise dispersion estimates\n",
      "\n",
      "mean-dispersion relationship\n",
      "\n",
      "final dispersion estimates\n",
      "\n",
      "fitting model and testing\n",
      "\n",
      "using 'ashr' for LFC shrinkage. If used in published research, please cite:\n",
      "    Stephens, M. (2016) False discovery rates: a new deal. Biostatistics, 18:2.\n",
      "    https://doi.org/10.1093/biostatistics/kxw041\n",
      "\n",
      "Epicardium\n",
      "\n"
     ]
    },
    {
     "name": "stdout",
     "output_type": "stream",
     "text": [
      "List of 2\n",
      " $ FALSE: chr [1:56] \"C3\" \"Trim12a\" \"H2-D1\" \"H2-K1\" ...\n",
      " $ TRUE : chr [1:76] \"Gm47101\" \"Mmp2\" \"Tmcc1\" \"Prex2\" ...\n",
      "NULL\n"
     ]
    },
    {
     "name": "stderr",
     "output_type": "stream",
     "text": [
      "Immune\n",
      "\n"
     ]
    },
    {
     "name": "stdout",
     "output_type": "stream",
     "text": [
      "List of 2\n",
      " $ FALSE: chr [1:6] \"Hba-a2\" \"Trim12a\" \"Trim30d\" \"Hbb-bs\" ...\n",
      " $ TRUE : chr [1:3] \"Cd81\" \"Nppa\" \"Postn\"\n",
      "NULL\n"
     ]
    },
    {
     "name": "stderr",
     "output_type": "stream",
     "text": [
      "Cardiomyocyte\n",
      "\n"
     ]
    },
    {
     "name": "stdout",
     "output_type": "stream",
     "text": [
      "List of 2\n",
      " $ FALSE: chr [1:77] \"Fhl2\" \"Cdh20\" \"Nckap5\" \"Lgr6\" ...\n",
      " $ TRUE : chr [1:334] \"Hspd1\" \"Ptma\" \"Ndufs2\" \"H3f3a\" ...\n",
      "NULL\n"
     ]
    },
    {
     "name": "stderr",
     "output_type": "stream",
     "text": [
      "SMC\n",
      "\n"
     ]
    },
    {
     "name": "stdout",
     "output_type": "stream",
     "text": [
      "List of 2\n",
      " $ FALSE: chr \"Hba-a2\"\n",
      " $ TRUE : chr \"Gm42418\"\n",
      "NULL\n"
     ]
    },
    {
     "name": "stderr",
     "output_type": "stream",
     "text": [
      "Endocardium\n",
      "\n"
     ]
    },
    {
     "name": "stdout",
     "output_type": "stream",
     "text": [
      "List of 2\n",
      " $ FALSE: chr [1:62] \"Col5a2\" \"Trim12a\" \"Sntg2\" \"Chrm3\" ...\n",
      " $ TRUE : chr [1:218] \"Cd63\" \"Sparc\" \"Ppib\" \"Ifitm3\" ...\n",
      "NULL\n"
     ]
    },
    {
     "name": "stderr",
     "output_type": "stream",
     "text": [
      "Fibroblast\n",
      "\n"
     ]
    },
    {
     "name": "stdout",
     "output_type": "stream",
     "text": [
      "List of 2\n",
      " $ FALSE: chr [1:21] \"Trim12a\" \"Hba-a2\" \"2410018L13Rik\" \"Hjurp\" ...\n",
      " $ TRUE : chr [1:52] \"Akap6\" \"Fhl2\" \"Lrrfip1\" \"Myh6\" ...\n",
      "NULL\n"
     ]
    },
    {
     "name": "stderr",
     "output_type": "stream",
     "text": [
      "Pericyte\n",
      "\n"
     ]
    },
    {
     "name": "stdout",
     "output_type": "stream",
     "text": [
      "List of 2\n",
      " $ FALSE: chr [1:8] \"Sorcs1\" \"Zfp804b\" \"Trim12a\" \"2410018L13Rik\" ...\n",
      " $ TRUE : chr [1:53] \"Sparc\" \"Rpl13\" \"Prex2\" \"Anxa2\" ...\n",
      "NULL\n"
     ]
    },
    {
     "name": "stderr",
     "output_type": "stream",
     "text": [
      "Adipocyte\n",
      "\n"
     ]
    },
    {
     "name": "stdout",
     "output_type": "stream",
     "text": [
      " Named list()\n",
      "NULL\n"
     ]
    },
    {
     "name": "stderr",
     "output_type": "stream",
     "text": [
      "BEC\n",
      "\n"
     ]
    },
    {
     "name": "stdout",
     "output_type": "stream",
     "text": [
      "List of 2\n",
      " $ FALSE: chr [1:5] \"Cdk14\" \"Hjurp\" \"Hdac9\" \"Gm42047\" ...\n",
      " $ TRUE : chr [1:52] \"Mctp1\" \"Ctsl\" \"Ppib\" \"Fn1\" ...\n",
      "NULL\n"
     ]
    },
    {
     "name": "stderr",
     "output_type": "stream",
     "text": [
      "LEC\n",
      "\n"
     ]
    },
    {
     "name": "stdout",
     "output_type": "stream",
     "text": [
      "List of 1\n",
      " $ TRUE: chr \"Pdpn\"\n",
      "NULL\n"
     ]
    }
   ],
   "source": [
    "####~~~~~~~~~~~~~~~~~~~~~~~~~~~~~~~~~~~~~~~~~~~~~~~~~~~~~~~~~~~~~~~~~~~~~~~~~~~~~~~~~~~~~~~~~~~~~~~~~~~~~~~~~~~~~~~~~~~~\n",
    "####  Compute pseudobulk DEG  ####\n",
    "####~~~~~~~~~~~~~~~~~~~~~~~~~~~~~~~~~~~~~~~~~~~~~~~~~~~~~~~~~~~~~~~~~~~~~~~~~~~~~~~~~~~~~~~~~~~~~~~~~~~~~~~~~~~~~~~~----\n",
    "full.srt <- full.srt[, full.srt$group2 %in% c('c3_p2m', 'wt_p2m')]\n",
    "full.srt@meta.data$group1 <- droplevels(full.srt@meta.data$group1)\n",
    "full.srt@meta.data$group2 <- droplevels(full.srt@meta.data$group2)\n",
    "\n",
    "srt_list <- SplitObject(full.srt, 'Cell_type')\n",
    "ct <- names(srt_list)\n",
    "\n",
    "psb_deg_list <- list()\n",
    "for(i in 1:L(ct)){\n",
    "        message(ct[i])\n",
    "        #srt_list[[i]] <- RenameAssays(srt_list[[i]], 'CBN' = 'RNA')\n",
    "        psb <- AggregateExpression(srt_list[[i]], assays = 'RNA', slot = 'count', group.by = 'group1')$RNA\n",
    "        meta <- srt_list[[i]]@meta.data[!duplicated(srt_list[[i]]$group1), ]\n",
    "        rownames(meta) <- meta$group1\n",
    "        meta <- meta[colnames(psb), ]\n",
    "        ##DESEQ2 workflow\n",
    "        dds <- DESeqDataSetFromMatrix(psb, colData = meta, design = ~ group2)\n",
    "        dds <- estimateSizeFactors(dds)\n",
    "        dds <- DESeq(dds)\n",
    "        res <- results(dds, alpha = 0.05, independentFiltering = T, contrast = c('group2', 'c3_p2m', 'wt_p2m'))\n",
    "        res <- lfcShrink(dds, contrast = c('group2', 'c3_p2m', 'wt_p2m'), res = res, type = \"ashr\")\n",
    "        deg_up <- rownames(res)[res$padj < 0.05 & res$log2FoldChange > 0]\n",
    "        deg_dn <- rownames(res)[res$padj < 0.05 & res$log2FoldChange < 0]\n",
    "        deg_up <- deg_up[!is.na(deg_up)]\n",
    "        deg_dn <- deg_dn[!is.na(deg_dn)]\n",
    "        psb_deg_list[[i]] <- list('UP' = deg_up, 'DN' = deg_dn)\n",
    "        names(psb_deg_list)[i] <- ct[i]\n",
    "        ####~~~~~~~~~~~~~~~~~~~~~~~~~~~~~~~~~~~~~~~~~~~~~~~~~~~~~~~~~~~~~~~~~~~~~~~~~~~~~~~~~~~~~~~~~~~~~~~~~~~~~~~~~~~~\n",
    "        saveRDS(psb_deg_list, 'analysis/PART22.psb_deg_c3_p2m_vs_wt_p2m.list.rds')\n",
    "        ####~~~~~~~~~~~~~~~~~~~~~~~~~~~~~~~~~~~~~~~~~~~~~~~~~~~~~~~~~~~~~~~~~~~~~~~~~~~~~~~~~~~~~~~~~~~~~~~~~~~~~~~~~~~~\n",
    "}\n",
    "####~~~~~~~~~~~~~~~~~~~~~~~~~~~~~~~~~~~~~~~~~~~~~~~~~~~~~~~~~~~~~~~~~~~~~~~~~~~~~~~~~~~~~~~~~~~~~~~~~~~~~~~~~~~~~~~~~~~~\n",
    "\n",
    "####~~~~~~~~~~~~~~~~~~~~~~~~~~~~~~~~~~~~~~~~~~~~~~~~~~~~~~~~~~~~~~~~~~~~~~~~~~~~~~~~~~~~~~~~~~~~~~~~~~~~~~~~~~~~~~~~~~~~\n",
    "####  Intersect sc and psb DEGs  ####\n",
    "####~~~~~~~~~~~~~~~~~~~~~~~~~~~~~~~~~~~~~~~~~~~~~~~~~~~~~~~~~~~~~~~~~~~~~~~~~~~~~~~~~~~~~~~~~~~~~~~~~~~~~~~~~~~~~~~~----\n",
    "final_deg_list <- list()\n",
    "for(i in 1:L(ct)){\n",
    "        message(ct[i])\n",
    "        sc_deg <- sc_deg_list[[i]]\n",
    "        final_deg_list[[i]] <- sc_deg[(sc_deg$gene %in% psb_deg_list[[i]][['UP']] & sc_deg$avg_log2FC > 0) |\n",
    "                                              (sc_deg$gene %in% psb_deg_list[[i]][['DN']] & sc_deg$avg_log2FC < 0), ]\n",
    "        gl <- split(final_deg_list[[i]]$gene, final_deg_list[[i]]$avg_log2FC > 0)\n",
    "        print(str(gl))\n",
    "        names(final_deg_list)[i] <- ct[i]\n",
    "        ####~~~~~~~~~~~~~~~~~~~~~~~~~~~~~~~~~~~~~~~~~~~~~~~~~~~~~~~~~~~~~~~~~~~~~~~~~~~~~~~~~~~~~~~~~~~~~~~~~~~~~~~~~~~~\n",
    "        saveRDS(final_deg_list, 'analysis/PART22.final_deg_tsc_vs_control.srt_mk.rds')\n",
    "        ####~~~~~~~~~~~~~~~~~~~~~~~~~~~~~~~~~~~~~~~~~~~~~~~~~~~~~~~~~~~~~~~~~~~~~~~~~~~~~~~~~~~~~~~~~~~~~~~~~~~~~~~~~~~~\n",
    "}\n",
    "####~~~~~~~~~~~~~~~~~~~~~~~~~~~~~~~~~~~~~~~~~~~~~~~~~~~~~~~~~~~~~~~~~~~~~~~~~~~~~~~~~~~~~~~~~~~~~~~~~~~~~~~~~~~~~~~~~~~~"
   ]
  },
  {
   "cell_type": "markdown",
   "id": "d677fcc1-55f9-40a8-87f7-e3b423850550",
   "metadata": {
    "tags": []
   },
   "source": [
    "## MarkerJitterPlot"
   ]
  },
  {
   "cell_type": "code",
   "execution_count": 38,
   "id": "b269f2bc-0256-4f8c-b20a-ba1393eae0c0",
   "metadata": {},
   "outputs": [],
   "source": [
    "MarkerJitterPlot <- function(mk.df, cols = 'GnBu', col.direction = 0, jitter.width = 0.3, pt.size = 0.5){\n",
    "        mk.df$TMP____logp <- -log10(mk.df$p_val_adj)\n",
    "        mk.df$TMP____logp[mk.df$TMP____logp > 300] <- 300\n",
    "        ggplot(mk.df, aes(x = cluster, y = avg_log2FC)) +\n",
    "                geom_jitter(width = jitter.width, aes(color = TMP____logp), size = pt.size) +\n",
    "                scale_color_distiller(palette = cols, direction = col.direction) +\n",
    "                labs(x = 'Clusters', y = 'Mean Log2FC', color = '-Log10 Adj.P') +\n",
    "                theme_classic() +\n",
    "                theme(aspect.ratio = 1, axis.text.x = element_text(hjust = 1, angle = 45))\n",
    "}"
   ]
  },
  {
   "cell_type": "code",
   "execution_count": 34,
   "id": "15e51421-95d5-4d71-814c-b2bfc99a2bc9",
   "metadata": {},
   "outputs": [],
   "source": [
    "cell_state_mk <- readRDS(file = 'analysis/PART22.final_deg_tsc_vs_control.srt_mk.rds')\n",
    "celltype <- names(cell_state_mk)\n",
    "mk.df <- data.frame()\n",
    "\n",
    "for (i in 1:6){\n",
    "    #names(cell_state_mk)\n",
    "    #print(celltype[i])\n",
    "    cell_state_mk[[i]]$cluster <- celltype[i]\n",
    "    mk.df <- rbind(mk.df,cell_state_mk[[i]])\n",
    "}"
   ]
  },
  {
   "cell_type": "code",
   "execution_count": 35,
   "id": "b093e703-1905-4b86-a88e-4359b089d0b7",
   "metadata": {},
   "outputs": [
    {
     "data": {
      "text/plain": [
       "\n",
       "Cardiomyocyte   Endocardium    Epicardium    Fibroblast        Immune \n",
       "          411           280           132            73             9 \n",
       "          SMC \n",
       "            2 "
      ]
     },
     "metadata": {},
     "output_type": "display_data"
    }
   ],
   "source": [
    "Table(mk.df$cluster)"
   ]
  },
  {
   "cell_type": "code",
   "execution_count": 36,
   "id": "063cb35b-8115-47e8-acbe-cf2e957b15fd",
   "metadata": {},
   "outputs": [
    {
     "data": {
      "text/html": [
       "0.250652132872762"
      ],
      "text/latex": [
       "0.250652132872762"
      ],
      "text/markdown": [
       "0.250652132872762"
      ],
      "text/plain": [
       "[1] 0.2506521"
      ]
     },
     "metadata": {},
     "output_type": "display_data"
    }
   ],
   "source": [
    "min(abs(mk.df$avg_log2FC))"
   ]
  },
  {
   "cell_type": "code",
   "execution_count": 39,
   "id": "8417462f-fb44-411a-8948-5a7aff4084df",
   "metadata": {},
   "outputs": [
    {
     "data": {
      "text/html": [
       "<strong>pdf:</strong> 2"
      ],
      "text/latex": [
       "\\textbf{pdf:} 2"
      ],
      "text/markdown": [
       "**pdf:** 2"
      ],
      "text/plain": [
       "pdf \n",
       "  2 "
      ]
     },
     "metadata": {},
     "output_type": "display_data"
    }
   ],
   "source": [
    "p1 <- MarkerJitterPlot(mk.df = mk.df)\n",
    "PlotPDF('03.Jitter.cell_state_marker.final',6, 5)\n",
    "p1\n",
    "dev.off()"
   ]
  },
  {
   "cell_type": "code",
   "execution_count": 10,
   "id": "81ef8a93-c459-4b07-a543-e868ab7a3b8f",
   "metadata": {},
   "outputs": [
    {
     "data": {
      "text/html": [
       "<style>\n",
       ".list-inline {list-style: none; margin:0; padding: 0}\n",
       ".list-inline>li {display: inline-block}\n",
       ".list-inline>li:not(:last-child)::after {content: \"\\00b7\"; padding: 0 .5ex}\n",
       "</style>\n",
       "<ol class=list-inline><li>'EX'</li><li>'IN'</li><li>'VLMC_Endo'</li><li>'Astro'</li><li>'Micro'</li><li>'Oligo_OPCs'</li></ol>\n"
      ],
      "text/latex": [
       "\\begin{enumerate*}\n",
       "\\item 'EX'\n",
       "\\item 'IN'\n",
       "\\item 'VLMC\\_Endo'\n",
       "\\item 'Astro'\n",
       "\\item 'Micro'\n",
       "\\item 'Oligo\\_OPCs'\n",
       "\\end{enumerate*}\n"
      ],
      "text/markdown": [
       "1. 'EX'\n",
       "2. 'IN'\n",
       "3. 'VLMC_Endo'\n",
       "4. 'Astro'\n",
       "5. 'Micro'\n",
       "6. 'Oligo_OPCs'\n",
       "\n",
       "\n"
      ],
      "text/plain": [
       "[1] \"EX\"         \"IN\"         \"VLMC_Endo\"  \"Astro\"      \"Micro\"     \n",
       "[6] \"Oligo_OPCs\""
      ]
     },
     "metadata": {},
     "output_type": "display_data"
    }
   ],
   "source": [
    "cell_state_mk <- readRDS(file = 'analysis/PART22.cell_state_marker.srt_mk.rds')\n",
    "names(cell_state_mk)\n",
    "celltype <- names(cell_state_mk)\n",
    "mk.df <- data.frame()\n",
    "\n",
    "for (i in 1:6){\n",
    "    #names(cell_state_mk)\n",
    "    #print(celltype[i])\n",
    "    cell_state_mk[[i]]$cluster <- celltype[i]\n",
    "    mk.df <- rbind(mk.df,cell_state_mk[[i]])\n",
    "}"
   ]
  },
  {
   "cell_type": "code",
   "execution_count": 11,
   "id": "65af6b64-2edc-4256-8cb2-ff49200325c0",
   "metadata": {},
   "outputs": [
    {
     "data": {
      "text/plain": [
       "\n",
       "     Astro         EX         IN      Micro Oligo_OPCs  VLMC_Endo \n",
       "      2272       5544       2942       4284       6775       4088 "
      ]
     },
     "metadata": {},
     "output_type": "display_data"
    }
   ],
   "source": [
    "Table(mk.df$cluster)"
   ]
  },
  {
   "cell_type": "code",
   "execution_count": 12,
   "id": "11a20433-285c-41b1-92bc-5c7fd434660e",
   "metadata": {},
   "outputs": [
    {
     "data": {
      "text/html": [
       "<strong>pdf:</strong> 2"
      ],
      "text/latex": [
       "\\textbf{pdf:} 2"
      ],
      "text/markdown": [
       "**pdf:** 2"
      ],
      "text/plain": [
       "pdf \n",
       "  2 "
      ]
     },
     "metadata": {},
     "output_type": "display_data"
    }
   ],
   "source": [
    "p2 <- MarkerJitterPlot(mk.df = mk.df)\n",
    "PlotPDF('2.Jitter.cell_state_marker',6, 5)\n",
    "p2\n",
    "dev.off()"
   ]
  },
  {
   "cell_type": "code",
   "execution_count": null,
   "id": "87dec143-77b0-4e18-84ee-7f10564d3607",
   "metadata": {},
   "outputs": [],
   "source": []
  },
  {
   "cell_type": "code",
   "execution_count": null,
   "id": "9fbe69e4-ae2a-495f-9341-50c8c48ea1ea",
   "metadata": {},
   "outputs": [],
   "source": []
  },
  {
   "cell_type": "code",
   "execution_count": null,
   "id": "27bff713-7cdf-4bea-99fa-29be9361182e",
   "metadata": {},
   "outputs": [],
   "source": []
  },
  {
   "cell_type": "code",
   "execution_count": null,
   "id": "ea3015f0-8f9f-42b0-a20e-e14db7fadb88",
   "metadata": {},
   "outputs": [],
   "source": [
    "####~~~~~~~~~~~~~~~~~~~~~~~~~~~~~~~~~~~~~~~~~~~~~~~~~~~~~~~~~~~~~~~~~~~~~~~~~~~~~~~~~~~~~~~~~~~~~~~~~~~~~~~~~~~~~~~~~~~~\n",
    "####  Calculate cell state markers for each cell type  ####\n",
    "####~~~~~~~~~~~~~~~~~~~~~~~~~~~~~~~~~~~~~~~~~~~~~~~~~~~~~~~~~~~~~~~~~~~~~~~~~~~~~~~~~~~~~~~~~~~~~~~~~~~~~~~~~~~~~~~~----\n",
    "plan(\"multisession\", workers = 8)\n",
    "cell_state_mk <- list()\n",
    "\n",
    "PlotPDF('1.heat.cell_state_marker', 10, 10)\n",
    "for(i in 1:L(ct)){\n",
    "        message(ct[i])\n",
    "        Idents(srt_list[[i]]) <- 'Cell_state'\n",
    "        mk <- FindAllMarkers(srt_list[[i]], logfc.threshold = 0.25, only.pos = T, return.thresh = 0.05)\n",
    "        mk <- mk[mk$p_val_adj < 0.05, ]\n",
    "        print(MarkerHeatmap(srt_list[[i]], mk, top = 10, disp.min = 0, raster = T))\n",
    "        cell_state_mk[[i]] <- mk\n",
    "        names(cell_state_mk)[i] <- ct[i]\n",
    "        ####~~~~~~~~~~~~~~~~~~~~~~~~~~~~~~~~~~~~~~~~~~~~~~~~~~~~~~~~~~~~~~~~~~~~~~~~~~~~~~~~~~~~~~~~~~~~~~~~~~~~~~~~~~~~\n",
    "        saveRDS(cell_state_mk, 'analysis/PART22.cell_state_marker.srt_mk.rds')\n",
    "        ####~~~~~~~~~~~~~~~~~~~~~~~~~~~~~~~~~~~~~~~~~~~~~~~~~~~~~~~~~~~~~~~~~~~~~~~~~~~~~~~~~~~~~~~~~~~~~~~~~~~~~~~~~~~~\n",
    "}\n",
    "dev.off()\n",
    "####~~~~~~~~~~~~~~~~~~~~~~~~~~~~~~~~~~~~~~~~~~~~~~~~~~~~~~~~~~~~~~~~~~~~~~~~~~~~~~~~~~~~~~~~~~~~~~~~~~~~~~~~~~~~~~~~~~~~"
   ]
  }
 ],
 "metadata": {
  "kernelspec": {
   "display_name": "R",
   "language": "R",
   "name": "ir"
  },
  "language_info": {
   "codemirror_mode": "r",
   "file_extension": ".r",
   "mimetype": "text/x-r-source",
   "name": "R",
   "pygments_lexer": "r",
   "version": "4.2.2"
  }
 },
 "nbformat": 4,
 "nbformat_minor": 5
}
