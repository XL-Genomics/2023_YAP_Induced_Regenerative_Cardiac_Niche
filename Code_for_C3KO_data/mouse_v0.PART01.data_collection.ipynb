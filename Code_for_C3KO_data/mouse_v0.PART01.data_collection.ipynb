{
 "cells": [
  {
   "cell_type": "code",
   "execution_count": 1,
   "id": "ad08d4de-3077-4104-b8de-d21e341b932f",
   "metadata": {},
   "outputs": [],
   "source": [
    "####~~~~~~~~~~~~~~~~~~~~~~~~~~~~~~~~~~~~~~~~~~~~~~~~~~~~~~~~~~~~~~~~~~~~~~~~~~~~~~~~~~~~~~~~~~~~~~~~~~~~~~~~~~~~~~~~~~~~\n",
    "####  Mouse C3KO-RichLi snRNA\n",
    "####  2023-05-16 by Yi Zhao (Texas Heart Institute, US)\n",
    "####~~~~~~~~~~~~~~~~~~~~~~~~~~~~~~~~~~~~~~~~~~~~~~~~~~~~~~~~~~~~~~~~~~~~~~~~~~~~~~~~~~~~~~~~~~~~~~~~~~~~~~~~~~~~~~~~~~~~\n",
    "\n",
    "\n",
    "####~~~~~~~~~~~~~~~~~~~~~~~~~~~~~~~~~~~~~~~~~~~~~~~~~~~~~~~~~~~~~~~~~~~~~~~~~~~~~~~~~~~~~~~~~~~~~~~~~~~~~~~~~~~~~~~~~~~~\n",
    "####  Initiate  ####\n",
    "####~~~~~~~~~~~~~~~~~~~~~~~~~~~~~~~~~~~~~~~~~~~~~~~~~~~~~~~~~~~~~~~~~~~~~~~~~~~~~~~~~~~~~~~~~~~~~~~~~~~~~~~~~~~~~~~~----\n",
    "Ver <- '0'\n",
    "Step <- 'PART01_Data_Collection'\n",
    "Project <- '2023_neoc3ko_rli'\n",
    "\n",
    "Code_dir <- paste0('/Volumes/shire/project/', Project, '/code/mouse_v', Ver, '/')\n",
    "\n",
    "source(Sys.readlink(paste0(Code_dir, 'src/bioinformatics.R')))\n",
    "source(Sys.readlink(paste0(Code_dir, 'src/scRNAseq.R')))\n",
    "source(Sys.readlink(paste0(Code_dir, 'src/scATACseq.R')))\n",
    "source(paste0(Code_dir, 'mouse_v', Ver, '.helper_functions.R'))\n",
    "\n",
    "InitiateProject('Rivendell', Ver, Step, 'mouse', Project, 'shire')\n",
    "####~~~~~~~~~~~~~~~~~~~~~~~~~~~~~~~~~~~~~~~~~~~~~~~~~~~~~~~~~~~~~~~~~~~~~~~~~~~~~~~~~~~~~~~~~~~~~~~~~~~~~~~~~~~~~~~~~~~~\n"
   ]
  },
  {
   "cell_type": "code",
   "execution_count": 6,
   "id": "d959ab09-55ca-4453-8a78-1106941e9108",
   "metadata": {
    "tags": []
   },
   "outputs": [],
   "source": [
    "####~~~~~~~~~~~~~~~~~~~~~~~~~~~~~~~~~~~~~~~~~~~~~~~~~~~~~~~~~~~~~~~~~~~~~~~~~~~~~~~~~~~~~~~~~~~~~~~~~~~~~~~~~~~~~~~~~~~~\n",
    "\n",
    "\n",
    "####~~~~~~~~~~~~~~~~~~~~~~~~~~~~~~~~~~~~~~~~~~~~~~~~~~~~~~~~~~~~~~~~~~~~~~~~~~~~~~~~~~~~~~~~~~~~~~~~~~~~~~~~~~~~~~~~~~~~\n",
    "####  Global Functions  ####\n",
    "####~~~~~~~~~~~~~~~~~~~~~~~~~~~~~~~~~~~~~~~~~~~~~~~~~~~~~~~~~~~~~~~~~~~~~~~~~~~~~~~~~~~~~~~~~~~~~~~~~~~~~~~~~~~~~~~~----\n",
    "MakeSrt <- function(mode, matrix_dir, sample, study, method, platform, protocol, processed, tissue, enrichment,\n",
    "                    genotype, condition, sex, age, replicate) {\n",
    "        if (mode == '10x') {\n",
    "            print(paste0(matrix_dir, '/outs/filtered_feature_bc_matrix/'))\n",
    "                matrix <- paste0(matrix_dir, '/outs/filtered_feature_bc_matrix/')\n",
    "                srt <- CreateSeuratObject(counts = Read10X(data.dir = matrix),\n",
    "                                          min.cells = 1, min.features = 1, project = study)\n",
    "        }\n",
    "        else if (mode == 'cellbender') {\n",
    "                matrix <- paste0(matrix_dir, '/cellbender_filtered.h5')\n",
    "                srt <- CreateSeuratObject(counts = ReadCB_h5(matrix), min.cells = 1, min.features = 1, project = study)\n",
    "\n",
    "        }\n",
    "        else if (mode == 'matrix') {\n",
    "                matrix <- read.table(gzfile(paste0(matrix_dir[1], '.matrix.csv.gz')), header = T, sep = ',')\n",
    "                srt <- CreateSeuratObject(counts = matrix, min.cells = 1, min.features = 1, project = study)\n",
    "        }\n",
    "        srt$sample <- sample\n",
    "        srt$orig.name <- Cells(srt)\n",
    "        srt$study <- study\n",
    "        srt$method <- method\n",
    "        srt$platform <- platform\n",
    "        srt$protocol <- protocol\n",
    "        srt$processed <- processed\n",
    "        srt$tissue <- tissue\n",
    "        srt$enrichment <- enrichment\n",
    "        srt$genotype <- genotype\n",
    "        srt$condition <- condition\n",
    "        srt$sex <- sex\n",
    "        srt$age <- age\n",
    "        srt$replicate <- replicate\n",
    "        srt <- RenameCells(srt, new.names = paste(srt$study,\n",
    "                                                  srt$sample,\n",
    "                                                  srt$orig.name,\n",
    "                                                  sep = ':'), for.merge = F)\n",
    "        srt <- PercentageFeatureSet(srt, pattern = '^mt-', col.name = 'pct_mito', assay = 'RNA')\n",
    "        srt$pct_mito[is.nan(srt$pct_mito)] <- 0\n",
    "        return(srt)\n",
    "}\n",
    "MakeDataset <- function(study, study_id, sample_name, mode, matrix_dir, starting_sample = 1){\n",
    "        srt.list <- list()\n",
    "        for(i in 1:L(sample_name)) {\n",
    "                sample_id = paste0(study_id, '_S', str_pad(starting_sample - 1 + i, 3, pad = '0'))\n",
    "                message('Processing sample:', sample_id)\n",
    "                sample_meta_sub.df <- sample_meta.df[sample_meta.df$study == study &\n",
    "                                                             sample_meta.df$sample_id == sample_id &\n",
    "                                                             sample_meta.df$library == sample_name[i], ]\n",
    "#print(c(study,sample_id,sample_name[i]))\n",
    "\n",
    "                if(nrow(sample_meta_sub.df) == 1){message('Sample metadata found')\n",
    "                        } else{stop('Sample metadata error')}\n",
    "                srt.list[[i]] <- MakeSrt(mode = mode,\n",
    "                                         matrix_dir = matrix_dir[i],\n",
    "                                         study = study,\n",
    "                                         sample = sample_id,\n",
    "                                         method = sample_meta_sub.df$method,\n",
    "                                         platform = sample_meta_sub.df$platform,\n",
    "                                         protocol = sample_meta_sub.df$protocol,\n",
    "                                         processed = sample_meta_sub.df$processed,\n",
    "                                         tissue = sample_meta_sub.df$tissue,\n",
    "                                         enrichment = sample_meta_sub.df$enrichment,\n",
    "                                         genotype = sample_meta_sub.df$genotype,\n",
    "                                         condition = sample_meta_sub.df$condition,\n",
    "                                         sex = sample_meta_sub.df$sex,\n",
    "                                         age = sample_meta_sub.df$age,\n",
    "                                         replicate = sample_meta_sub.df$replicate\n",
    "                )\n",
    "                print('Seurat generated...')\n",
    "                # print(srt.list[[i]])\n",
    "                # cat('\\n_____________________________________________________\\n')\n",
    "        }\n",
    "        if(L(srt.list) > 1) {\n",
    "                merge.srt <- merge(srt.list[[1]], srt.list[2:L(srt.list)])\n",
    "        } else {\n",
    "                merge.srt <- srt.list[[1]]\n",
    "        }\n",
    "        return(merge.srt)\n",
    "}\n",
    "MakeRawDataset <- function(study, sample_name, raw_matrix_type, starting_sample = 1){\n",
    "        no. <- names(studies[studies==study])\n",
    "        message('Collecting Raw Data...')\n",
    "        print( paste0('/Volumes/shire/data/scrnaseq/',study, '/matrix/', sample_name))\n",
    "\n",
    "        merge.srt <- MakeDataset(study = study,\n",
    "                                 study_id = no.,\n",
    "                                 sample_name = sample_name,\n",
    "                                 mode = raw_matrix_type,\n",
    "                                 matrix_dir = paste0('/Volumes/shire/data/scrnaseq/',\n",
    "                                                     study, '/matrix/', sample_name),\n",
    "                                 starting_sample = starting_sample)\n",
    "        message('Processing Raw Seurat Object...')\n",
    "        # merge.srt <- Process(merge.srt, assay = 'RNA')\n",
    "        message('Saving Raw Seurat Object...')\n",
    "        saveRDS(merge.srt, paste0('individual/', no., '.', study, '.raw.srt.rds'))\n",
    "        # SaveH5ad(merge.srt, path = 'individual/', name = paste0(no., '.', study, '.raw'),\n",
    "        #          assay = 'RNA', raw_count_only = F, verbose = F)\n",
    "        rm(merge.srt)\n",
    "        gc()\n",
    "}\n",
    "MakeCbnDataset <- function(study, sample_name, raw_matrix_type, starting_sample = 1, cb_folder = 'cellbender_v1'){\n",
    "        no. <- names(studies[studies==study])\n",
    "        message('Collecting CellBender Data...')\n",
    "        merge.srt <- MakeDataset(study = study,\n",
    "                                 study_id = no.,\n",
    "                                 sample_name = sample_name,\n",
    "                                 mode = 'cellbender',\n",
    "                                 matrix_dir = paste0('/Volumes/shire/data/scrnaseq/',\n",
    "                                                     study, '/matrix/', cb_folder, '/', sample_name),\n",
    "                                 starting_sample = starting_sample)\n",
    "        message('Processing CellBender Seurat Object...')\n",
    "        # merge.srt <- Process(merge.srt, assay = 'RNA')\n",
    "        message('Saving CellBender Seurat Object...')\n",
    "        saveRDS(merge.srt, paste0('individual/', no., '.', study, '.cbn.srt.rds'))\n",
    "        # SaveH5ad(merge.srt, path = 'individual/', name = paste0(no., '.', study, '.cbn'),\n",
    "        #          assay = 'RNA', raw_count_only = F, verbose = F)\n",
    "        rm(merge.srt)\n",
    "        gc()\n",
    "}\n",
    "\n",
    "MakeScmultiSrt <- function(gex_filtered_h5_file, atac_frag_file){\n",
    "        # load both modalities\n",
    "        inputdata.10x <- Read10X_h5(gex_filtered_h5_file)\n",
    "        # extract ATAC data\n",
    "        atac_counts <- inputdata.10x$Peaks\n",
    "        # only use peaks in standard chromosomes\n",
    "        grange.counts <- StringToGRanges(rownames(atac_counts), sep = c(\":\", \"-\"))\n",
    "        grange.use <- seqnames(grange.counts) %in% standardChromosomes(grange.counts)\n",
    "        atac_counts <- atac_counts[as.vector(grange.use), ]\n",
    "        annotations <- GetGRangesFromEnsDb(ensdb = EnsDb.Mmusculus.v79)\n",
    "        seqlevelsStyle(annotations) <- 'UCSC'\n",
    "        genome(annotations) <- \"mm10\"\n",
    "        chrom_assay <- CreateChromatinAssay(\n",
    "                counts = atac_counts,\n",
    "                sep = c(\":\", \"-\"),\n",
    "                genome = 'mm10',\n",
    "                fragments = atac_frag_file,\n",
    "                min.cells = 1,\n",
    "                min.features = 1,\n",
    "                annotation = annotations\n",
    "        )\n",
    "        srt <- CreateSeuratObject(\n",
    "                counts = chrom_assay,\n",
    "                assay = \"ATAC\"\n",
    "        )\n",
    "        # extract RNA data\n",
    "        rna_counts <- inputdata.10x$`Gene Expression`\n",
    "        # Create Seurat object\n",
    "        srt2 <- CreateSeuratObject(counts = rna_counts)\n",
    "        return(list(srt, srt2))\n",
    "}\n",
    "MakeScmultiGexSrt <- function(gex_filtered_h5_file, atac_frag_file){\n",
    "        # load both modalities\n",
    "        inputdata.10x <- Read10X_h5(gex_filtered_h5_file)\n",
    "        # extract ATAC data\n",
    "        rna_counts <- inputdata.10x$\n",
    "                # only use peaks in standard chromosomes\n",
    "                grange.counts <- StringToGRanges(rownames(atac_counts), sep = c(\":\", \"-\"))\n",
    "        grange.use <- seqnames(grange.counts) %in% standardChromosomes(grange.counts)\n",
    "        atac_counts <- atac_counts[as.vector(grange.use), ]\n",
    "        annotations <- GetGRangesFromEnsDb(ensdb = EnsDb.Mmusculus.v79)\n",
    "        seqlevelsStyle(annotations) <- 'UCSC'\n",
    "        genome(annotations) <- \"mm10\"\n",
    "        chrom_assay <- CreateChromatinAssay(\n",
    "                counts = atac_counts,\n",
    "                sep = c(\":\", \"-\"),\n",
    "                genome = 'mm10',\n",
    "                fragments = atac_frag_file,\n",
    "                min.cells = 1,\n",
    "                min.features = 1,\n",
    "                annotation = annotations\n",
    "        )\n",
    "        srt <- CreateSeuratObject(\n",
    "                counts = chrom_assay,\n",
    "                assay = \"ATAC\"\n",
    "        )\n",
    "        return(srt)\n",
    "}\n",
    "####~~~~~~~~~~~~~~~~~~~~~~~~~~~~~~~~~~~~~~~~~~~~~~~~~~~~~~~~~~~~~~~~~~~~~~~~~~~~~~~~~~~~~~~~~~~~~~~~~~~~~~~~~~~~~~~~----\n",
    "\n"
   ]
  },
  {
   "cell_type": "code",
   "execution_count": 7,
   "id": "d51d3bbf-00a9-4799-8285-b56bd6b859e8",
   "metadata": {
    "tags": []
   },
   "outputs": [],
   "source": [
    "####~~~~~~~~~~~~~~~~~~~~~~~~~~~~~~~~~~~~~~~~~~~~~~~~~~~~~~~~~~~~~~~~~~~~~~~~~~~~~~~~~~~~~~~~~~~~~~~~~~~~~~~~~~~~~~~~~~~~\n",
    "####  Load sample metadata  ####\n",
    "####~~~~~~~~~~~~~~~~~~~~~~~~~~~~~~~~~~~~~~~~~~~~~~~~~~~~~~~~~~~~~~~~~~~~~~~~~~~~~~~~~~~~~~~~~~~~~~~~~~~~~~~~~~~~~~~~----\n",
    "sample_meta.df <- read.csv(paste0(Docu_dir, 'mouse_sample_meta.csv'))\n",
    "studies <- U(sample_meta.df$study)\n",
    "names(studies) <- U(sample_meta.df$study_id)\n",
    "studies_cellbender <- studies[studies %in% sample_meta.df$study[sample_meta.df$platform %in% c('10X', 'Drop-seq')]]\n",
    "####~~~~~~~~~~~~~~~~~~~~~~~~~~~~~~~~~~~~~~~~~~~~~~~~~~~~~~~~~~~~~~~~~~~~~~~~~~~~~~~~~~~~~~~~~~~~~~~~~~~~~~~~~~~~~~~~~~~~"
   ]
  },
  {
   "cell_type": "code",
   "execution_count": 8,
   "id": "1d4208f8-8dc4-4b5b-85aa-f13cab52ff63",
   "metadata": {},
   "outputs": [
    {
     "data": {
      "text/html": [
       "<strong>P01:</strong> '2023_NeoC3KO_RLi'"
      ],
      "text/latex": [
       "\\textbf{P01:} '2023\\_NeoC3KO\\_RLi'"
      ],
      "text/markdown": [
       "**P01:** '2023_NeoC3KO_RLi'"
      ],
      "text/plain": [
       "               P01 \n",
       "\"2023_NeoC3KO_RLi\" "
      ]
     },
     "metadata": {},
     "output_type": "display_data"
    }
   ],
   "source": [
    "studies"
   ]
  },
  {
   "cell_type": "code",
   "execution_count": 9,
   "id": "2718089c-bc7a-47d0-aadd-29a82913a574",
   "metadata": {
    "tags": []
   },
   "outputs": [
    {
     "name": "stderr",
     "output_type": "stream",
     "text": [
      "Collecting Raw Data...\n",
      "\n"
     ]
    },
    {
     "name": "stdout",
     "output_type": "stream",
     "text": [
      "[1] \"/Volumes/shire/data/scrnaseq/2023_NeoC3KO_RLi/matrix/2023_NeoC3KO_RLi_wt_p2m1\"\n",
      "[2] \"/Volumes/shire/data/scrnaseq/2023_NeoC3KO_RLi/matrix/2023_NeoC3KO_RLi_wt_p2m2\"\n",
      "[3] \"/Volumes/shire/data/scrnaseq/2023_NeoC3KO_RLi/matrix/2023_NeoC3KO_RLi_wt_p2s1\"\n",
      "[4] \"/Volumes/shire/data/scrnaseq/2023_NeoC3KO_RLi/matrix/2023_NeoC3KO_RLi_wt_p2s2\"\n",
      "[5] \"/Volumes/shire/data/scrnaseq/2023_NeoC3KO_RLi/matrix/2023_NeoC3KO_RLi_c3_p2m1\"\n",
      "[6] \"/Volumes/shire/data/scrnaseq/2023_NeoC3KO_RLi/matrix/2023_NeoC3KO_RLi_c3_p2m2\"\n",
      "[7] \"/Volumes/shire/data/scrnaseq/2023_NeoC3KO_RLi/matrix/2023_NeoC3KO_RLi_c3_p2s1\"\n",
      "[8] \"/Volumes/shire/data/scrnaseq/2023_NeoC3KO_RLi/matrix/2023_NeoC3KO_RLi_c3_p2s2\"\n"
     ]
    },
    {
     "name": "stderr",
     "output_type": "stream",
     "text": [
      "Processing sample:P01_S001\n",
      "\n",
      "Sample metadata found\n",
      "\n"
     ]
    },
    {
     "name": "stdout",
     "output_type": "stream",
     "text": [
      "[1] \"/Volumes/shire/data/scrnaseq/2023_NeoC3KO_RLi/matrix/2023_NeoC3KO_RLi_wt_p2m1/outs/filtered_feature_bc_matrix/\"\n",
      "[1] \"Seurat generated...\"\n"
     ]
    },
    {
     "name": "stderr",
     "output_type": "stream",
     "text": [
      "Processing sample:P01_S002\n",
      "\n",
      "Sample metadata found\n",
      "\n"
     ]
    },
    {
     "name": "stdout",
     "output_type": "stream",
     "text": [
      "[1] \"/Volumes/shire/data/scrnaseq/2023_NeoC3KO_RLi/matrix/2023_NeoC3KO_RLi_wt_p2m2/outs/filtered_feature_bc_matrix/\"\n",
      "[1] \"Seurat generated...\"\n"
     ]
    },
    {
     "name": "stderr",
     "output_type": "stream",
     "text": [
      "Processing sample:P01_S003\n",
      "\n",
      "Sample metadata found\n",
      "\n"
     ]
    },
    {
     "name": "stdout",
     "output_type": "stream",
     "text": [
      "[1] \"/Volumes/shire/data/scrnaseq/2023_NeoC3KO_RLi/matrix/2023_NeoC3KO_RLi_wt_p2s1/outs/filtered_feature_bc_matrix/\"\n",
      "[1] \"Seurat generated...\"\n"
     ]
    },
    {
     "name": "stderr",
     "output_type": "stream",
     "text": [
      "Processing sample:P01_S004\n",
      "\n",
      "Sample metadata found\n",
      "\n"
     ]
    },
    {
     "name": "stdout",
     "output_type": "stream",
     "text": [
      "[1] \"/Volumes/shire/data/scrnaseq/2023_NeoC3KO_RLi/matrix/2023_NeoC3KO_RLi_wt_p2s2/outs/filtered_feature_bc_matrix/\"\n",
      "[1] \"Seurat generated...\"\n"
     ]
    },
    {
     "name": "stderr",
     "output_type": "stream",
     "text": [
      "Processing sample:P01_S005\n",
      "\n",
      "Sample metadata found\n",
      "\n"
     ]
    },
    {
     "name": "stdout",
     "output_type": "stream",
     "text": [
      "[1] \"/Volumes/shire/data/scrnaseq/2023_NeoC3KO_RLi/matrix/2023_NeoC3KO_RLi_c3_p2m1/outs/filtered_feature_bc_matrix/\"\n",
      "[1] \"Seurat generated...\"\n"
     ]
    },
    {
     "name": "stderr",
     "output_type": "stream",
     "text": [
      "Processing sample:P01_S006\n",
      "\n",
      "Sample metadata found\n",
      "\n"
     ]
    },
    {
     "name": "stdout",
     "output_type": "stream",
     "text": [
      "[1] \"/Volumes/shire/data/scrnaseq/2023_NeoC3KO_RLi/matrix/2023_NeoC3KO_RLi_c3_p2m2/outs/filtered_feature_bc_matrix/\"\n",
      "[1] \"Seurat generated...\"\n"
     ]
    },
    {
     "name": "stderr",
     "output_type": "stream",
     "text": [
      "Processing sample:P01_S007\n",
      "\n",
      "Sample metadata found\n",
      "\n"
     ]
    },
    {
     "name": "stdout",
     "output_type": "stream",
     "text": [
      "[1] \"/Volumes/shire/data/scrnaseq/2023_NeoC3KO_RLi/matrix/2023_NeoC3KO_RLi_c3_p2s1/outs/filtered_feature_bc_matrix/\"\n",
      "[1] \"Seurat generated...\"\n"
     ]
    },
    {
     "name": "stderr",
     "output_type": "stream",
     "text": [
      "Processing sample:P01_S008\n",
      "\n",
      "Sample metadata found\n",
      "\n"
     ]
    },
    {
     "name": "stdout",
     "output_type": "stream",
     "text": [
      "[1] \"/Volumes/shire/data/scrnaseq/2023_NeoC3KO_RLi/matrix/2023_NeoC3KO_RLi_c3_p2s2/outs/filtered_feature_bc_matrix/\"\n",
      "[1] \"Seurat generated...\"\n"
     ]
    },
    {
     "name": "stderr",
     "output_type": "stream",
     "text": [
      "Processing Raw Seurat Object...\n",
      "\n",
      "Saving Raw Seurat Object...\n",
      "\n"
     ]
    },
    {
     "data": {
      "text/html": [
       "<table class=\"dataframe\">\n",
       "<caption>A matrix: 2 × 7 of type dbl</caption>\n",
       "<thead>\n",
       "\t<tr><th></th><th scope=col>used</th><th scope=col>(Mb)</th><th scope=col>gc trigger</th><th scope=col>(Mb)</th><th scope=col>limit (Mb)</th><th scope=col>max used</th><th scope=col>(Mb)</th></tr>\n",
       "</thead>\n",
       "<tbody>\n",
       "\t<tr><th scope=row>Ncells</th><td>14694953</td><td>784.8</td><td>  27524648</td><td> 1470.0</td><td>    NA</td><td>  18043232</td><td>  963.7</td></tr>\n",
       "\t<tr><th scope=row>Vcells</th><td>26932145</td><td>205.5</td><td>1628071717</td><td>12421.3</td><td>131072</td><td>1688861592</td><td>12885.0</td></tr>\n",
       "</tbody>\n",
       "</table>\n"
      ],
      "text/latex": [
       "A matrix: 2 × 7 of type dbl\n",
       "\\begin{tabular}{r|lllllll}\n",
       "  & used & (Mb) & gc trigger & (Mb) & limit (Mb) & max used & (Mb)\\\\\n",
       "\\hline\n",
       "\tNcells & 14694953 & 784.8 &   27524648 &  1470.0 &     NA &   18043232 &   963.7\\\\\n",
       "\tVcells & 26932145 & 205.5 & 1628071717 & 12421.3 & 131072 & 1688861592 & 12885.0\\\\\n",
       "\\end{tabular}\n"
      ],
      "text/markdown": [
       "\n",
       "A matrix: 2 × 7 of type dbl\n",
       "\n",
       "| <!--/--> | used | (Mb) | gc trigger | (Mb) | limit (Mb) | max used | (Mb) |\n",
       "|---|---|---|---|---|---|---|---|\n",
       "| Ncells | 14694953 | 784.8 |   27524648 |  1470.0 |     NA |   18043232 |   963.7 |\n",
       "| Vcells | 26932145 | 205.5 | 1628071717 | 12421.3 | 131072 | 1688861592 | 12885.0 |\n",
       "\n"
      ],
      "text/plain": [
       "       used     (Mb)  gc trigger (Mb)    limit (Mb) max used   (Mb)   \n",
       "Ncells 14694953 784.8   27524648  1470.0     NA       18043232   963.7\n",
       "Vcells 26932145 205.5 1628071717 12421.3 131072     1688861592 12885.0"
      ]
     },
     "metadata": {},
     "output_type": "display_data"
    },
    {
     "name": "stderr",
     "output_type": "stream",
     "text": [
      "Collecting CellBender Data...\n",
      "\n",
      "Processing sample:P01_S001\n",
      "\n",
      "Sample metadata found\n",
      "\n",
      "CellRanger version 3+ format H5\n",
      "\n",
      "Warning message in sparseMatrix(i = indices[] + 1, p = indptr[], x = as.numeric(x = counts[]), :\n",
      "\"'giveCsparse' is deprecated; setting repr=\"T\" for you\"\n",
      "as(<dgTMatrix>, \"dgCMatrix\") is deprecated since Matrix 1.5-0; do as(., \"CsparseMatrix\") instead\n",
      "\n"
     ]
    },
    {
     "name": "stdout",
     "output_type": "stream",
     "text": [
      "[1] \"Seurat generated...\"\n"
     ]
    },
    {
     "name": "stderr",
     "output_type": "stream",
     "text": [
      "Processing sample:P01_S002\n",
      "\n",
      "Sample metadata found\n",
      "\n",
      "CellRanger version 3+ format H5\n",
      "\n",
      "Warning message in sparseMatrix(i = indices[] + 1, p = indptr[], x = as.numeric(x = counts[]), :\n",
      "\"'giveCsparse' is deprecated; setting repr=\"T\" for you\"\n"
     ]
    },
    {
     "name": "stdout",
     "output_type": "stream",
     "text": [
      "[1] \"Seurat generated...\"\n"
     ]
    },
    {
     "name": "stderr",
     "output_type": "stream",
     "text": [
      "Processing sample:P01_S003\n",
      "\n",
      "Sample metadata found\n",
      "\n",
      "CellRanger version 3+ format H5\n",
      "\n",
      "Warning message in sparseMatrix(i = indices[] + 1, p = indptr[], x = as.numeric(x = counts[]), :\n",
      "\"'giveCsparse' is deprecated; setting repr=\"T\" for you\"\n"
     ]
    },
    {
     "name": "stdout",
     "output_type": "stream",
     "text": [
      "[1] \"Seurat generated...\"\n"
     ]
    },
    {
     "name": "stderr",
     "output_type": "stream",
     "text": [
      "Processing sample:P01_S004\n",
      "\n",
      "Sample metadata found\n",
      "\n",
      "CellRanger version 3+ format H5\n",
      "\n",
      "Warning message in sparseMatrix(i = indices[] + 1, p = indptr[], x = as.numeric(x = counts[]), :\n",
      "\"'giveCsparse' is deprecated; setting repr=\"T\" for you\"\n"
     ]
    },
    {
     "name": "stdout",
     "output_type": "stream",
     "text": [
      "[1] \"Seurat generated...\"\n"
     ]
    },
    {
     "name": "stderr",
     "output_type": "stream",
     "text": [
      "Processing sample:P01_S005\n",
      "\n",
      "Sample metadata found\n",
      "\n",
      "CellRanger version 3+ format H5\n",
      "\n",
      "Warning message in sparseMatrix(i = indices[] + 1, p = indptr[], x = as.numeric(x = counts[]), :\n",
      "\"'giveCsparse' is deprecated; setting repr=\"T\" for you\"\n"
     ]
    },
    {
     "name": "stdout",
     "output_type": "stream",
     "text": [
      "[1] \"Seurat generated...\"\n"
     ]
    },
    {
     "name": "stderr",
     "output_type": "stream",
     "text": [
      "Processing sample:P01_S006\n",
      "\n",
      "Sample metadata found\n",
      "\n",
      "CellRanger version 3+ format H5\n",
      "\n",
      "Warning message in sparseMatrix(i = indices[] + 1, p = indptr[], x = as.numeric(x = counts[]), :\n",
      "\"'giveCsparse' is deprecated; setting repr=\"T\" for you\"\n"
     ]
    },
    {
     "name": "stdout",
     "output_type": "stream",
     "text": [
      "[1] \"Seurat generated...\"\n"
     ]
    },
    {
     "name": "stderr",
     "output_type": "stream",
     "text": [
      "Processing sample:P01_S007\n",
      "\n",
      "Sample metadata found\n",
      "\n",
      "CellRanger version 3+ format H5\n",
      "\n",
      "Warning message in sparseMatrix(i = indices[] + 1, p = indptr[], x = as.numeric(x = counts[]), :\n",
      "\"'giveCsparse' is deprecated; setting repr=\"T\" for you\"\n"
     ]
    },
    {
     "name": "stdout",
     "output_type": "stream",
     "text": [
      "[1] \"Seurat generated...\"\n"
     ]
    },
    {
     "name": "stderr",
     "output_type": "stream",
     "text": [
      "Processing sample:P01_S008\n",
      "\n",
      "Sample metadata found\n",
      "\n",
      "CellRanger version 3+ format H5\n",
      "\n",
      "Warning message in sparseMatrix(i = indices[] + 1, p = indptr[], x = as.numeric(x = counts[]), :\n",
      "\"'giveCsparse' is deprecated; setting repr=\"T\" for you\"\n"
     ]
    },
    {
     "name": "stdout",
     "output_type": "stream",
     "text": [
      "[1] \"Seurat generated...\"\n"
     ]
    },
    {
     "name": "stderr",
     "output_type": "stream",
     "text": [
      "Processing CellBender Seurat Object...\n",
      "\n",
      "Saving CellBender Seurat Object...\n",
      "\n"
     ]
    },
    {
     "data": {
      "text/html": [
       "<table class=\"dataframe\">\n",
       "<caption>A matrix: 2 × 7 of type dbl</caption>\n",
       "<thead>\n",
       "\t<tr><th></th><th scope=col>used</th><th scope=col>(Mb)</th><th scope=col>gc trigger</th><th scope=col>(Mb)</th><th scope=col>limit (Mb)</th><th scope=col>max used</th><th scope=col>(Mb)</th></tr>\n",
       "</thead>\n",
       "<tbody>\n",
       "\t<tr><th scope=row>Ncells</th><td>14705635</td><td>785.4</td><td>  27524648</td><td> 1470.0</td><td>    NA</td><td>  18043232</td><td>  963.7</td></tr>\n",
       "\t<tr><th scope=row>Vcells</th><td>26952051</td><td>205.7</td><td>1530273722</td><td>11675.1</td><td>131072</td><td>1688861592</td><td>12885.0</td></tr>\n",
       "</tbody>\n",
       "</table>\n"
      ],
      "text/latex": [
       "A matrix: 2 × 7 of type dbl\n",
       "\\begin{tabular}{r|lllllll}\n",
       "  & used & (Mb) & gc trigger & (Mb) & limit (Mb) & max used & (Mb)\\\\\n",
       "\\hline\n",
       "\tNcells & 14705635 & 785.4 &   27524648 &  1470.0 &     NA &   18043232 &   963.7\\\\\n",
       "\tVcells & 26952051 & 205.7 & 1530273722 & 11675.1 & 131072 & 1688861592 & 12885.0\\\\\n",
       "\\end{tabular}\n"
      ],
      "text/markdown": [
       "\n",
       "A matrix: 2 × 7 of type dbl\n",
       "\n",
       "| <!--/--> | used | (Mb) | gc trigger | (Mb) | limit (Mb) | max used | (Mb) |\n",
       "|---|---|---|---|---|---|---|---|\n",
       "| Ncells | 14705635 | 785.4 |   27524648 |  1470.0 |     NA |   18043232 |   963.7 |\n",
       "| Vcells | 26952051 | 205.7 | 1530273722 | 11675.1 | 131072 | 1688861592 | 12885.0 |\n",
       "\n"
      ],
      "text/plain": [
       "       used     (Mb)  gc trigger (Mb)    limit (Mb) max used   (Mb)   \n",
       "Ncells 14705635 785.4   27524648  1470.0     NA       18043232   963.7\n",
       "Vcells 26952051 205.7 1530273722 11675.1 131072     1688861592 12885.0"
      ]
     },
     "metadata": {},
     "output_type": "display_data"
    }
   ],
   "source": [
    "####~~~~~~~~~~~~~~~~~~~~~~~~~~~~~~~~~~~~~~~~~~~~~~~~~~~~~~~~~~~~~~~~~~~~~~~~~~~~~~~~~~~~~~~~~~~~~~~~~~~~~~~~~~~~~~~~~~~~\n",
    "####  Dataset #4: 2023_Latscko_Ctsai (snRNA-seq)  ####\n",
    "####~~~~~~~~~~~~~~~~~~~~~~~~~~~~~~~~~~~~~~~~~~~~~~~~~~~~~~~~~~~~~~~~~~~~~~~~~~~~~~~~~~~~~~~~~~~~~~~~~~~~~~~~~~~~~~~~----\n",
    "study <- '2023_NeoC3KO_RLi'\n",
    "sample_name <- c('2023_NeoC3KO_RLi_wt_p2m1', '2023_NeoC3KO_RLi_wt_p2m2',\n",
    "                 '2023_NeoC3KO_RLi_wt_p2s1', '2023_NeoC3KO_RLi_wt_p2s2',\n",
    "                 '2023_NeoC3KO_RLi_c3_p2m1', '2023_NeoC3KO_RLi_c3_p2m2',\n",
    "                 '2023_NeoC3KO_RLi_c3_p2s1', '2023_NeoC3KO_RLi_c3_p2s2') \n",
    "matrix_type <- '10x'\n",
    "MakeRawDataset(study = study, sample_name = sample_name, raw_matrix_type = matrix_type, starting_sample = 1)\n",
    "MakeCbnDataset(study = study, sample_name = sample_name, raw_matrix_type = matrix_type, starting_sample = 1)\n"
   ]
  },
  {
   "cell_type": "code",
   "execution_count": null,
   "id": "be90f33b-380c-468b-bc99-d1b62231d9af",
   "metadata": {},
   "outputs": [],
   "source": []
  }
 ],
 "metadata": {
  "kernelspec": {
   "display_name": "R",
   "language": "R",
   "name": "ir"
  },
  "language_info": {
   "codemirror_mode": "r",
   "file_extension": ".r",
   "mimetype": "text/x-r-source",
   "name": "R",
   "pygments_lexer": "r",
   "version": "4.2.2"
  }
 },
 "nbformat": 4,
 "nbformat_minor": 5
}
