{
 "cells": [
  {
   "cell_type": "code",
   "execution_count": 1,
   "id": "715a1b9b-b42f-4aed-828e-40168dc09f89",
   "metadata": {},
   "outputs": [],
   "source": [
    "####~~~~~~~~~~~~~~~~~~~~~~~~~~~~~~~~~~~~~~~~~~~~~~~~~~~~~~~~~~~~~~~~~~~~~~~~~~~~~~~~~~~~~~~~~~~~~~~~~~~~~~~~~~~~~~~~~~~~\n",
    "####  Mouse C3KO-RichLi snRNA\n",
    "####  2023-05-20 by Yi Zhao (Texas Heart Institute, US)\n",
    "####~~~~~~~~~~~~~~~~~~~~~~~~~~~~~~~~~~~~~~~~~~~~~~~~~~~~~~~~~~~~~~~~~~~~~~~~~~~~~~~~~~~~~~~~~~~~~~~~~~~~~~~~~~~~~~~~~~~~\n",
    "\n",
    "\n",
    "####~~~~~~~~~~~~~~~~~~~~~~~~~~~~~~~~~~~~~~~~~~~~~~~~~~~~~~~~~~~~~~~~~~~~~~~~~~~~~~~~~~~~~~~~~~~~~~~~~~~~~~~~~~~~~~~~~~~~\n",
    "####  Initiate  ####\n",
    "####~~~~~~~~~~~~~~~~~~~~~~~~~~~~~~~~~~~~~~~~~~~~~~~~~~~~~~~~~~~~~~~~~~~~~~~~~~~~~~~~~~~~~~~~~~~~~~~~~~~~~~~~~~~~~~~~----\n",
    "Ver <- '0'\n",
    "Step <- 'PART19_Consolidation'\n",
    "Project <- '2023_neoc3ko_rli'\n",
    "Code_dir <- paste0('/Volumes/shire/project/', Project, '/code/mouse_v', Ver, '/')\n",
    "\n",
    "source(paste0(Code_dir, 'src/bioinformatics.R'))\n",
    "source(paste0(Code_dir, 'src/scRNAseq.R'))\n",
    "source(paste0(Code_dir, 'src/scATACseq.R'))\n",
    "source(paste0(Code_dir, 'mouse_v', Ver, '.helper_functions.R'))\n",
    "\n",
    "InitiateProject('Rivendell', Ver, Step, 'mouse', Project, 'shire')\n",
    "\n",
    "####~~~~~~~~~~~~~~~~~~~~~~~~~~~~~~~~~~~~~~~~~~~~~~~~~~~~~~~~~~~~~~~~~~~~~~~~~~~~~~~~~~~~~~~~~~~~~~~~~~~~~~~~~~~~~~~~~~~~"
   ]
  },
  {
   "cell_type": "code",
   "execution_count": 2,
   "id": "5421a652-ccb4-4a85-958a-aefbd5b4b688",
   "metadata": {},
   "outputs": [],
   "source": [
    "####~~~~~~~~~~~~~~~~~~~~~~~~~~~~~~~~~~~~~~~~~~~~~~~~~~~~~~~~~~~~~~~~~~~~~~~~~~~~~~~~~~~~~~~~~~~~~~~~~~~~~~~~~~~~~~~~~~~~\n",
    "####  Load data  ####\n",
    "####~~~~~~~~~~~~~~~~~~~~~~~~~~~~~~~~~~~~~~~~~~~~~~~~~~~~~~~~~~~~~~~~~~~~~~~~~~~~~~~~~~~~~~~~~~~~~~~~~~~~~~~~~~~~~~~~----\n",
    "srt <- readRDS('integrated/PART10.annotated.srt.rds')\n",
    "srt.backup <- srt\n",
    "#srt <- srt.backup\n",
    "#srt$Cell_state <- as.vector(srt$Cell_type)"
   ]
  },
  {
   "cell_type": "code",
   "execution_count": 3,
   "id": "bc7759f4-ce86-493c-8f43-3f28700d2425",
   "metadata": {},
   "outputs": [],
   "source": [
    "srt <- srt.backup"
   ]
  },
  {
   "cell_type": "code",
   "execution_count": 4,
   "id": "899b93f8-7c1a-4147-a20a-b3e74cbdc342",
   "metadata": {},
   "outputs": [],
   "source": [
    "srt$Cell_state <- NA"
   ]
  },
  {
   "cell_type": "code",
   "execution_count": 5,
   "id": "733c54fc-a8dd-45fd-b044-00b71da2502d",
   "metadata": {},
   "outputs": [
    {
     "data": {
      "text/plain": [
       "\n",
       "Cardiomyocyte   Endocardium    Epicardium    Fibroblast       Myeloid \n",
       "        56287         13462          6665          9715          1668 \n",
       "       T cell        B cell         Glial      Pericyte     Adipocyte \n",
       "          197           180           142          1723           405 \n",
       "          SMC           BEC           LEC Contamination       Doublet \n",
       "         1068          3007           349           402          6365 "
      ]
     },
     "metadata": {},
     "output_type": "display_data"
    }
   ],
   "source": [
    "Table(srt$Cell_type)"
   ]
  },
  {
   "cell_type": "code",
   "execution_count": 6,
   "id": "6715fa6b-5076-49f1-9507-3c0206b40800",
   "metadata": {},
   "outputs": [],
   "source": [
    "srt$Cell_state[srt$Cell_type %in% c('Endocardium')] <- 'Endocardium'\n",
    "#srt$Cell_state[srt$Cell_type %in% c('Epicardium')] <- 'Epicardium'\n",
    "srt$Cell_state[srt$Cell_type %in% c('Pericyte')] <- 'Pericyte'\n",
    "srt$Cell_state[srt$Cell_type %in% c('Doublet')] <- 'Doublet'\n",
    "srt$Cell_state[srt$Cell_type %in% c('Adipocyte')] <- 'Adipocyte'\n",
    "srt$Cell_state[srt$Cell_type %in% c('SMC')] <- 'SMC'\n",
    "srt$Cell_state[srt$Cell_type %in% c('BEC')] <- 'BEC'\n",
    "srt$Cell_state[srt$Cell_type %in% c('LEC')] <- 'LEC'\n",
    "srt$Cell_state[srt$Cell_type %in% c('T cell')] <- 'T cell'\n",
    "srt$Cell_state[srt$Cell_type %in% c('B cell')] <- 'B cell'\n",
    "srt$Cell_state[srt$Cell_type %in% c('Glial')] <- 'Glial'\n",
    "srt$Cell_state[srt$Cell_type %in% c('Contamination')] <- 'Contamination'"
   ]
  },
  {
   "cell_type": "code",
   "execution_count": 7,
   "id": "04807fc2-8af2-424c-bea6-93b49aa8674e",
   "metadata": {},
   "outputs": [],
   "source": [
    "emb <- matrix(NA, ncol = 2, nrow = ncol(srt), dimnames = list(Cells(srt), c('subSCVIUMAP_1', 'subSCVIUMAP_2')))\n",
    "srt@reductions$sub_scVI_umap <- CreateDimReducObject(embeddings = emb, assay = 'RNA', key = 'subSCVIUMAP_')\n",
    "emb1 <- matrix(NA, ncol = 2, nrow = ncol(srt), dimnames = list(Cells(srt), c('subcleanSCVIUMAP_1', 'subcleanSCVIUMAP_2')))\n",
    "srt@reductions$sub_clean_scVI_umap <- CreateDimReducObject(embeddings = emb1, assay = 'RNA', key = 'subcleanSCVIUMAP_')\n"
   ]
  },
  {
   "cell_type": "code",
   "execution_count": 8,
   "id": "513426f4-581e-4243-adef-3d1978efb303",
   "metadata": {
    "tags": []
   },
   "outputs": [
    {
     "name": "stdout",
     "output_type": "stream",
     "text": [
      "[1] \"integrated/PART11.cardio_cells.srt.rds\"\n"
     ]
    },
    {
     "name": "stderr",
     "output_type": "stream",
     "text": [
      "Rasterizing points since number of points exceeds 100,000.\n",
      "To disable this behavior set `raster=FALSE`\n",
      "\n",
      "Rasterizing points since number of points exceeds 100,000.\n",
      "To disable this behavior set `raster=FALSE`\n",
      "\n",
      "Warning message:\n",
      "\"\u001b[1m\u001b[22mRemoved 45348 rows containing missing values (`geom_scattermore()`).\"\n",
      "Warning message:\n",
      "\"\u001b[1m\u001b[22mRemoved 29 rows containing missing values (`geom_text()`).\"\n",
      "Warning message:\n",
      "\"\u001b[1m\u001b[22mRemoved 45348 rows containing missing values (`geom_scattermore()`).\"\n",
      "Warning message:\n",
      "\"\u001b[1m\u001b[22mRemoved 29 rows containing missing values (`geom_text()`).\"\n"
     ]
    },
    {
     "name": "stdout",
     "output_type": "stream",
     "text": [
      "[1] \"integrated/PART12.fibro_cells.srt.rds\"\n"
     ]
    },
    {
     "name": "stderr",
     "output_type": "stream",
     "text": [
      "Rasterizing points since number of points exceeds 100,000.\n",
      "To disable this behavior set `raster=FALSE`\n",
      "\n",
      "Rasterizing points since number of points exceeds 100,000.\n",
      "To disable this behavior set `raster=FALSE`\n",
      "\n",
      "Warning message:\n",
      "\"\u001b[1m\u001b[22mRemoved 35633 rows containing missing values (`geom_scattermore()`).\"\n",
      "Warning message:\n",
      "\"\u001b[1m\u001b[22mRemoved 34 rows containing missing values (`geom_text()`).\"\n",
      "Warning message:\n",
      "\"\u001b[1m\u001b[22mRemoved 35633 rows containing missing values (`geom_scattermore()`).\"\n",
      "Warning message:\n",
      "\"\u001b[1m\u001b[22mRemoved 34 rows containing missing values (`geom_text()`).\"\n"
     ]
    },
    {
     "name": "stdout",
     "output_type": "stream",
     "text": [
      "[1] \"integrated/PART14.epicar_cells.srt.rds\"\n"
     ]
    },
    {
     "name": "stderr",
     "output_type": "stream",
     "text": [
      "Rasterizing points since number of points exceeds 100,000.\n",
      "To disable this behavior set `raster=FALSE`\n",
      "\n",
      "Rasterizing points since number of points exceeds 100,000.\n",
      "To disable this behavior set `raster=FALSE`\n",
      "\n",
      "Warning message:\n",
      "\"\u001b[1m\u001b[22mRemoved 28968 rows containing missing values (`geom_scattermore()`).\"\n",
      "Warning message:\n",
      "\"\u001b[1m\u001b[22mRemoved 38 rows containing missing values (`geom_text()`).\"\n",
      "Warning message:\n",
      "\"\u001b[1m\u001b[22mRemoved 29638 rows containing missing values (`geom_scattermore()`).\"\n",
      "Warning message:\n",
      "\"\u001b[1m\u001b[22mRemoved 39 rows containing missing values (`geom_text()`).\"\n"
     ]
    },
    {
     "name": "stdout",
     "output_type": "stream",
     "text": [
      "[1] \"integrated/PART15.myeloid_cells.srt.rds\"\n"
     ]
    },
    {
     "name": "stderr",
     "output_type": "stream",
     "text": [
      "Rasterizing points since number of points exceeds 100,000.\n",
      "To disable this behavior set `raster=FALSE`\n",
      "\n",
      "Rasterizing points since number of points exceeds 100,000.\n",
      "To disable this behavior set `raster=FALSE`\n",
      "\n",
      "Warning message:\n",
      "\"\u001b[1m\u001b[22mRemoved 27300 rows containing missing values (`geom_scattermore()`).\"\n",
      "Warning message:\n",
      "\"\u001b[1m\u001b[22mRemoved 11 rows containing missing values (`geom_text()`).\"\n",
      "Warning message:\n",
      "\"\u001b[1m\u001b[22mRemoved 27970 rows containing missing values (`geom_scattermore()`).\"\n",
      "Warning message:\n",
      "\"\u001b[1m\u001b[22mRemoved 12 rows containing missing values (`geom_text()`).\"\n"
     ]
    }
   ],
   "source": [
    "####~~~~~~~~~~~~~~~~~~~~~~~~~~~~~~~~~~~~~~~~~~~~~~~~~~~~~~~~~~~~~~~~~~~~~~~~~~~~~~~~~~~~~~~~~~~~~~~~~~~~~~~~~~~~~~~~~~~~\n",
    "####  Consolidate CMs  ####\n",
    "####~~~~~~~~~~~~~~~~~~~~~~~~~~~~~~~~~~~~~~~~~~~~~~~~~~~~~~~~~~~~~~~~~~~~~~~~~~~~~~~~~~~~~~~~~~~~~~~~~~~~~~~~~~~~~~~~----\n",
    "rds.list <- c('PART11.cardio_cells.srt.rds',\n",
    "            'PART12.fibro_cells.srt.rds',\n",
    "            'PART14.epicar_cells.srt.rds',\n",
    "            'PART15.myeloid_cells.srt.rds')\n",
    "\n",
    "for(i in 1:4){\n",
    "#        message(i)\n",
    "        print(paste0('integrated/',rds.list[[i]]))\n",
    "        \n",
    "        cm.srt <- readRDS(paste0('integrated/',rds.list[[i]]))\n",
    "        \n",
    "        srt$Cell_state[Cells(cm.srt)] <- as.vector(cm.srt$Cell_state)\n",
    "\n",
    "        Table(srt$Cell_state, srt$Cell_type)\n",
    "\n",
    "        srt@reductions$sub_scVI_umap@cell.embeddings[Cells(cm.srt),] <- cm.srt@reductions$sub_scVI_umap@cell.embeddings\n",
    "        srt@reductions$sub_clean_scVI_umap@cell.embeddings[Cells(cm.srt),] <- cm.srt@reductions$sub_clean_scVI_umap@cell.embeddings\n",
    "\n",
    "        p1 <- DimPlot2(srt, reduction = 'sub_scVI_umap', group.by = 'Cell_state', split.by = 'Cell_type',\n",
    "                 ncol = 3, label = T, pt.size = 1, cols = mycol_40)\n",
    "        p2 <- DimPlot2(srt, reduction = 'sub_clean_scVI_umap', group.by = 'Cell_state', split.by = 'Cell_type',\n",
    "                 ncol = 3, label = T, pt.size = 1, cols = mycol_40)\n",
    "        \n",
    "        PlotPDF(paste0('/3.',rds.list[[i]],'.heat.maker_all_cluster'), 30, 20)\n",
    "        print(p1 | p2)\n",
    "        dev.off()\n",
    "    }"
   ]
  },
  {
   "cell_type": "code",
   "execution_count": 9,
   "id": "4fda12e4-f2ae-43ef-8002-ec79e52f7504",
   "metadata": {},
   "outputs": [
    {
     "data": {
      "text/plain": [
       "\n",
       "Cardiomyocyte   Endocardium    Epicardium    Fibroblast       Myeloid \n",
       "        56287         13462          6665          9715          1668 \n",
       "       T cell        B cell         Glial      Pericyte     Adipocyte \n",
       "          197           180           142          1723           405 \n",
       "          SMC           BEC           LEC Contamination       Doublet \n",
       "         1068          3007           349           402          6365 "
      ]
     },
     "metadata": {},
     "output_type": "display_data"
    }
   ],
   "source": [
    "Table(srt$Cell_type)"
   ]
  },
  {
   "cell_type": "code",
   "execution_count": 10,
   "id": "30881a8d-8ca0-4e6d-9bd3-264d3252ec1e",
   "metadata": {},
   "outputs": [],
   "source": [
    "srt$Cell_state <- factor(srt$Cell_state, levels = c(\n",
    "        'CM1', 'CM2', 'CM3', 'CM4', 'CM5', 'CM6', 'CM7',\n",
    "        'Endocardium',\n",
    "        'EC1','EC2','EC3','EC4',\n",
    "        'FB1', 'FB2', 'FB3', 'FB4', 'FB5',\n",
    "        'Mac1', 'Mac2', 'Mac3', 'Granu',\n",
    "        'T cell', 'B cell',\n",
    "        'Glial',\n",
    "        'Pericyte',\n",
    "        'Adipocyte',\n",
    "        'SMC',\n",
    "        'BEC',\n",
    "        'LEC',\n",
    "        'Contamination',\n",
    "        'Doublet'\n",
    "))"
   ]
  },
  {
   "cell_type": "code",
   "execution_count": 11,
   "id": "aec7c167-a143-4958-b396-a5aef2247d26",
   "metadata": {},
   "outputs": [
    {
     "data": {
      "text/html": [
       "<style>\n",
       ".list-inline {list-style: none; margin:0; padding: 0}\n",
       ".list-inline>li {display: inline-block}\n",
       ".list-inline>li:not(:last-child)::after {content: \"\\00b7\"; padding: 0 .5ex}\n",
       "</style>\n",
       "<ol class=list-inline><li>Epicardium</li><li>Glial</li><li>Cardiomyocyte</li><li>Doublet</li><li>SMC</li><li>Endocardium</li><li>Fibroblast</li><li>Pericyte</li><li>Adipocyte</li><li>B cell</li><li>Myeloid</li><li>BEC</li><li>Contamination</li><li>LEC</li><li>T cell</li></ol>\n",
       "\n",
       "<details>\n",
       "\t<summary style=display:list-item;cursor:pointer>\n",
       "\t\t<strong>Levels</strong>:\n",
       "\t</summary>\n",
       "\t<style>\n",
       "\t.list-inline {list-style: none; margin:0; padding: 0}\n",
       "\t.list-inline>li {display: inline-block}\n",
       "\t.list-inline>li:not(:last-child)::after {content: \"\\00b7\"; padding: 0 .5ex}\n",
       "\t</style>\n",
       "\t<ol class=list-inline><li>'Cardiomyocyte'</li><li>'Endocardium'</li><li>'Epicardium'</li><li>'Fibroblast'</li><li>'Myeloid'</li><li>'T cell'</li><li>'B cell'</li><li>'Glial'</li><li>'Pericyte'</li><li>'Adipocyte'</li><li>'SMC'</li><li>'BEC'</li><li>'LEC'</li><li>'Contamination'</li><li>'Doublet'</li></ol>\n",
       "</details>"
      ],
      "text/latex": [
       "\\begin{enumerate*}\n",
       "\\item Epicardium\n",
       "\\item Glial\n",
       "\\item Cardiomyocyte\n",
       "\\item Doublet\n",
       "\\item SMC\n",
       "\\item Endocardium\n",
       "\\item Fibroblast\n",
       "\\item Pericyte\n",
       "\\item Adipocyte\n",
       "\\item B cell\n",
       "\\item Myeloid\n",
       "\\item BEC\n",
       "\\item Contamination\n",
       "\\item LEC\n",
       "\\item T cell\n",
       "\\end{enumerate*}\n",
       "\n",
       "\\emph{Levels}: \\begin{enumerate*}\n",
       "\\item 'Cardiomyocyte'\n",
       "\\item 'Endocardium'\n",
       "\\item 'Epicardium'\n",
       "\\item 'Fibroblast'\n",
       "\\item 'Myeloid'\n",
       "\\item 'T cell'\n",
       "\\item 'B cell'\n",
       "\\item 'Glial'\n",
       "\\item 'Pericyte'\n",
       "\\item 'Adipocyte'\n",
       "\\item 'SMC'\n",
       "\\item 'BEC'\n",
       "\\item 'LEC'\n",
       "\\item 'Contamination'\n",
       "\\item 'Doublet'\n",
       "\\end{enumerate*}\n"
      ],
      "text/markdown": [
       "1. Epicardium\n",
       "2. Glial\n",
       "3. Cardiomyocyte\n",
       "4. Doublet\n",
       "5. SMC\n",
       "6. Endocardium\n",
       "7. Fibroblast\n",
       "8. Pericyte\n",
       "9. Adipocyte\n",
       "10. B cell\n",
       "11. Myeloid\n",
       "12. BEC\n",
       "13. Contamination\n",
       "14. LEC\n",
       "15. T cell\n",
       "\n",
       "\n",
       "\n",
       "**Levels**: 1. 'Cardiomyocyte'\n",
       "2. 'Endocardium'\n",
       "3. 'Epicardium'\n",
       "4. 'Fibroblast'\n",
       "5. 'Myeloid'\n",
       "6. 'T cell'\n",
       "7. 'B cell'\n",
       "8. 'Glial'\n",
       "9. 'Pericyte'\n",
       "10. 'Adipocyte'\n",
       "11. 'SMC'\n",
       "12. 'BEC'\n",
       "13. 'LEC'\n",
       "14. 'Contamination'\n",
       "15. 'Doublet'\n",
       "\n",
       "\n"
      ],
      "text/plain": [
       " [1] Epicardium    Glial         Cardiomyocyte Doublet       SMC          \n",
       " [6] Endocardium   Fibroblast    Pericyte      Adipocyte     B cell       \n",
       "[11] Myeloid       BEC           Contamination LEC           T cell       \n",
       "15 Levels: Cardiomyocyte Endocardium Epicardium Fibroblast Myeloid ... Doublet"
      ]
     },
     "metadata": {},
     "output_type": "display_data"
    }
   ],
   "source": [
    "unique(srt$Cell_type)"
   ]
  },
  {
   "cell_type": "code",
   "execution_count": 12,
   "id": "e73d8a7e-ac6a-4e4e-a15e-238bad6b6147",
   "metadata": {},
   "outputs": [],
   "source": [
    "srt$Cell_type[srt$Cell_state == 'Doublet'] <- 'Doublet'"
   ]
  },
  {
   "cell_type": "code",
   "execution_count": 13,
   "id": "fd29deca-d3ac-4a76-ba70-b6cdc593f281",
   "metadata": {},
   "outputs": [],
   "source": [
    "srt$Cell_type <- factor(srt$Cell_type, levels = c(\n",
    "        'Cardiomyocyte',\n",
    "        'Endocardium',\n",
    "        'Epicardium',\n",
    "        'Fibroblast',\n",
    "        'Myeloid',\n",
    "        'T cell',\n",
    "        'B cell',\n",
    "        'Glial',\n",
    "        'Pericyte',\n",
    "        'Adipocyte',\n",
    "        'SMC',\n",
    "        'BEC',\n",
    "        'LEC',\n",
    "        'Contamination',\n",
    "        'Doublet'\n",
    "))"
   ]
  },
  {
   "cell_type": "code",
   "execution_count": 14,
   "id": "e7f73451-a033-4138-bc48-794a96177c18",
   "metadata": {},
   "outputs": [
    {
     "data": {
      "text/html": [
       "<strong>null device:</strong> 1"
      ],
      "text/latex": [
       "\\textbf{null device:} 1"
      ],
      "text/markdown": [
       "**null device:** 1"
      ],
      "text/plain": [
       "null device \n",
       "          1 "
      ]
     },
     "metadata": {},
     "output_type": "display_data"
    },
    {
     "data": {
      "text/html": [
       "<strong>null device:</strong> 1"
      ],
      "text/latex": [
       "\\textbf{null device:} 1"
      ],
      "text/markdown": [
       "**null device:** 1"
      ],
      "text/plain": [
       "null device \n",
       "          1 "
      ]
     },
     "metadata": {},
     "output_type": "display_data"
    },
    {
     "name": "stderr",
     "output_type": "stream",
     "text": [
      "Rasterizing points since number of points exceeds 100,000.\n",
      "To disable this behavior set `raster=FALSE`\n",
      "\n",
      "Rasterizing points since number of points exceeds 100,000.\n",
      "To disable this behavior set `raster=FALSE`\n",
      "\n"
     ]
    },
    {
     "data": {
      "text/html": [
       "<strong>pdf:</strong> 2"
      ],
      "text/latex": [
       "\\textbf{pdf:} 2"
      ],
      "text/markdown": [
       "**pdf:** 2"
      ],
      "text/plain": [
       "pdf \n",
       "  2 "
      ]
     },
     "metadata": {},
     "output_type": "display_data"
    }
   ],
   "source": [
    "dev.off()\n",
    "PlotPDF('1.1.heat.celltype_vs_cellstate', 5, 6)\n",
    "pheatmap(log(Table(srt$Cell_state, srt$Cell_type)+1), cluster_rows = F, cluster_cols = F)\n",
    "dev.off()\n",
    "\n",
    "p1 <- DimPlot2(srt, group.by = 'Cell_type', cols = mycol_40, reduction = 'scVI_umap', label = T)\n",
    "p2 <- DimPlot2(srt, group.by = 'Cell_state', cols = mycol_40, reduction = 'scVI_umap', label = T)\n",
    "p1 + p2\n",
    "PlotPDF('1.2.umap.annotated', 18, 7.5)\n",
    "p1 + p2\n",
    "dev.off()"
   ]
  },
  {
   "cell_type": "code",
   "execution_count": 15,
   "id": "7ab62099-5f4a-4dec-b6aa-63cb70a10dd6",
   "metadata": {},
   "outputs": [
    {
     "data": {
      "text/plain": [
       "       \n",
       "        Cardiomyocyte Endocardium Epicardium Fibroblast Myeloid T cell B cell\n",
       "  FALSE             0           0          0          0       0      0      0\n",
       "  TRUE          56287       13462       5995       9715    1668    197    180\n",
       "       \n",
       "        Glial Pericyte Adipocyte   SMC   BEC   LEC Contamination Doublet\n",
       "  FALSE     0        0         0     0     0     0           402    7035\n",
       "  TRUE    142     1723       405  1068  3007   349             0       0"
      ]
     },
     "metadata": {},
     "output_type": "display_data"
    },
    {
     "data": {
      "text/plain": [
       "       \n",
       "          CM1   CM2   CM3   CM4   CM5   CM6   CM7 Endocardium   EC1   EC2   EC3\n",
       "  FALSE     0     0     0     0     0     0     0           0     0     0     0\n",
       "  TRUE  20709  9440 11590  6986  5059  1509   994       13462  4175  1022   653\n",
       "       \n",
       "          EC4   FB1   FB2   FB3   FB4   FB5  Mac1  Mac2  Mac3 Granu T cell\n",
       "  FALSE     0     0     0     0     0     0     0     0     0     0      0\n",
       "  TRUE    145  3202  3200  2050   790   473   809   332   246   281    197\n",
       "       \n",
       "        B cell Glial Pericyte Adipocyte   SMC   BEC   LEC Contamination Doublet\n",
       "  FALSE      0     0        0         0     0     0     0           402    7035\n",
       "  TRUE     180   142     1723       405  1068  3007   349             0       0"
      ]
     },
     "metadata": {},
     "output_type": "display_data"
    }
   ],
   "source": [
    "srt$Non_ambiguous <- T\n",
    "srt$Non_ambiguous[srt$Cell_type %in% c('Doublet')] <- F\n",
    "srt$Non_ambiguous[srt$Cell_state %in% c('Doublet')] <- F\n",
    "srt$Non_ambiguous[srt$Cell_type %in% c('Contamination')] <- F\n",
    "\n",
    "Table(srt$Non_ambiguous, srt$Cell_type)\n",
    "Table(srt$Non_ambiguous, srt$Cell_state)\n",
    "####~~~~~~~~~~~~~~~~~~~~~~~~~~~~~~~~~~~~~~~~~~~~~~~~~~~~~~~~~~~~~~~~~~~~~~~~~~~~~~~~~~~~~~~~~~~~~~~~~~~~~~~~~~~~~~~~~~~~"
   ]
  },
  {
   "cell_type": "code",
   "execution_count": 16,
   "id": "ce79b8e4-047c-4876-9e0d-14a4d1ec486d",
   "metadata": {
    "tags": []
   },
   "outputs": [
    {
     "name": "stderr",
     "output_type": "stream",
     "text": [
      "Warning message:\n",
      "\"The default method for RunUMAP has changed from calling Python UMAP via reticulate to the R-native UWOT using the cosine metric\n",
      "To use Python UMAP via reticulate, set umap.method to 'umap-learn' and metric to 'correlation'\n",
      "This message will be shown once per session\"\n",
      "15:22:07 UMAP embedding parameters a = 0.583 b = 1.334\n",
      "\n",
      "15:22:07 Read 94198 rows and found 50 numeric columns\n",
      "\n",
      "15:22:07 Using Annoy for neighbor search, n_neighbors = 50\n",
      "\n",
      "15:22:07 Building Annoy index with metric = cosine, n_trees = 50\n",
      "\n",
      "0%   10   20   30   40   50   60   70   80   90   100%\n",
      "\n",
      "[----|----|----|----|----|----|----|----|----|----|\n",
      "\n",
      "*\n",
      "*\n",
      "*\n",
      "*\n",
      "*\n",
      "*\n",
      "*\n",
      "*\n",
      "*\n",
      "*\n",
      "*\n",
      "*\n",
      "*\n",
      "*\n",
      "*\n",
      "*\n",
      "*\n",
      "*\n",
      "*\n",
      "*\n",
      "*\n",
      "*\n",
      "*\n",
      "*\n",
      "*\n",
      "*\n",
      "*\n",
      "*\n",
      "*\n",
      "*\n",
      "*\n",
      "*\n",
      "*\n",
      "*\n",
      "*\n",
      "*\n",
      "*\n",
      "*\n",
      "*\n",
      "*\n",
      "*\n",
      "*\n",
      "*\n",
      "*\n",
      "*\n",
      "*\n",
      "*\n",
      "*\n",
      "*\n",
      "*\n",
      "|\n",
      "\n",
      "15:22:14 Writing NN index file to temp file /var/folders/5c/r8w5nfxs3j55cvkpkr4kq6q80000gp/T//RtmpVWDxqh/file47b5ebc060d\n",
      "\n",
      "15:22:14 Searching Annoy index using 1 thread, search_k = 5000\n",
      "\n",
      "15:22:56 Annoy recall = 100%\n",
      "\n",
      "15:22:57 Commencing smooth kNN distance calibration using 1 thread\n",
      " with target n_neighbors = 50\n",
      "\n",
      "15:23:00 Initializing from normalized Laplacian + noise (using irlba)\n",
      "\n",
      "15:23:04 Commencing optimization for 200 epochs, with 6386802 positive edges\n",
      "\n",
      "15:23:55 Optimization finished\n",
      "\n"
     ]
    }
   ],
   "source": [
    "####~~~~~~~~~~~~~~~~~~~~~~~~~~~~~~~~~~~~~~~~~~~~~~~~~~~~~~~~~~~~~~~~~~~~~~~~~~~~~~~~~~~~~~~~~~~~~~~~~~~~~~~~~~~~~~~~~~~~\n",
    "####  Re-embed without ambiguous cells\n",
    "####~~~~~~~~~~~~~~~~~~~~~~~~~~~~~~~~~~~~~~~~~~~~~~~~~~~~~~~~~~~~~~~~~~~~~~~~~~~~~~~~~~~~~~~~~~~~~~~~~~~~~~~~~~~~~~~~----\n",
    "clean.srt <- srt[, srt$Non_ambiguous]\n",
    "clean.srt <- RunUMAP(clean.srt, reduction = 'scVI', dims = 1:50, n.neighbors = 50, min.dist = 0.5,\n",
    "                     reduction.name = 'clean_umap', reduction.key = 'cUMAP_')"
   ]
  },
  {
   "cell_type": "code",
   "execution_count": 17,
   "id": "1b8d0b01-c9de-403f-9b85-633f361033d7",
   "metadata": {
    "tags": []
   },
   "outputs": [
    {
     "data": {
      "text/html": [
       "<strong>pdf:</strong> 2"
      ],
      "text/latex": [
       "\\textbf{pdf:} 2"
      ],
      "text/markdown": [
       "**pdf:** 2"
      ],
      "text/plain": [
       "pdf \n",
       "  2 "
      ]
     },
     "metadata": {},
     "output_type": "display_data"
    }
   ],
   "source": [
    "p3 <- DimPlot2(clean.srt, reduction = 'clean_umap', group.by = 'Cell_type',\n",
    "         cols = mycol_20, label = T, raster = F)\n",
    "p4 <- DimPlot2(clean.srt, reduction = 'clean_umap', group.by = 'Cell_state',\n",
    "                 cols = mycol_30, label = F, raster = F)\n",
    "PlotPDF('1.2.Re_embed.umap.annotated', 18, 7.5)\n",
    "p3 | p4\n",
    "dev.off()"
   ]
  },
  {
   "cell_type": "code",
   "execution_count": 18,
   "id": "a2f99966-0f0f-43ae-a2ab-55201d063eaa",
   "metadata": {},
   "outputs": [],
   "source": [
    "## Full umap with doublets and mito-high cells\n",
    "srt@reductions$full_umap <- srt@reductions$scVI_umap\n",
    "srt@reductions$full_umap@key <- 'fUMAP_'\n",
    "colnames(srt@reductions$full_umap@cell.embeddings) <- c('fUMAP_1', 'fUMAP_2')\n",
    "\n",
    "## Clean umap without doublets or mito-high cells\n",
    "srt@reductions$clean_umap <- srt@reductions$scVI_umap\n",
    "srt@reductions$clean_umap@cell.embeddings[,1] <- NA\n",
    "srt@reductions$clean_umap@cell.embeddings[,2] <- NA\n",
    "srt@reductions$clean_umap@cell.embeddings[Cells(clean.srt), 1:2] <-\n",
    "        clean.srt@reductions$clean_umap@cell.embeddings[,1:2]\n",
    "srt@reductions$clean_umap@key <- 'cUMAP_'\n",
    "colnames(srt@reductions$clean_umap@cell.embeddings) <- c('cUMAP_1', 'cUMAP_2')\n",
    "\n",
    "## Sub-umap for all cell types\n",
    "srt@reductions$sub_umap <- srt@reductions$sub_scVI_umap\n",
    "srt@reductions$sub_umap@key <- 'subUMAP_'\n",
    "colnames(srt@reductions$sub_umap@cell.embeddings) <- c('subUMAP_1', 'subUMAP_2')\n",
    "\n",
    "## Sub-umap for all non-ambiguous cell types \n",
    "srt@reductions$sub_clean_umap <- srt@reductions$sub_clean_scVI_umap\n",
    "srt@reductions$sub_clean_umap@key <- 'subcUMAP_'\n",
    "colnames(srt@reductions$sub_clean_umap@cell.embeddings) <- c('subcUMAP_1', 'subcUMAP_2')"
   ]
  },
  {
   "cell_type": "code",
   "execution_count": 19,
   "id": "a5329f96-ff42-42c1-a87e-0f18ea97ca11",
   "metadata": {},
   "outputs": [
    {
     "name": "stderr",
     "output_type": "stream",
     "text": [
      "Rasterizing points since number of points exceeds 100,000.\n",
      "To disable this behavior set `raster=FALSE`\n",
      "\n",
      "Rasterizing points since number of points exceeds 100,000.\n",
      "To disable this behavior set `raster=FALSE`\n",
      "\n"
     ]
    }
   ],
   "source": [
    "p5 <- (DimPlot2(srt, reduction = 'clean_umap', group.by = 'Cell_type',\n",
    "         cols = mycol_20, label = T, raster = T) +\n",
    "        DimPlot2(srt, reduction = 'full_umap', group.by = 'Cell_type',\n",
    "                 cols = mycol_20, label = T, raster = T)) \n"
   ]
  },
  {
   "cell_type": "code",
   "execution_count": 20,
   "id": "7b828987-235d-4da8-b06c-bc4070593d8a",
   "metadata": {},
   "outputs": [
    {
     "name": "stderr",
     "output_type": "stream",
     "text": [
      "Warning message:\n",
      "\"\u001b[1m\u001b[22mRemoved 7437 rows containing missing values (`geom_scattermore()`).\"\n",
      "Warning message:\n",
      "\"\u001b[1m\u001b[22mRemoved 2 rows containing missing values (`geom_text()`).\"\n"
     ]
    },
    {
     "data": {
      "text/html": [
       "<strong>pdf:</strong> 2"
      ],
      "text/latex": [
       "\\textbf{pdf:} 2"
      ],
      "text/markdown": [
       "**pdf:** 2"
      ],
      "text/plain": [
       "pdf \n",
       "  2 "
      ]
     },
     "metadata": {},
     "output_type": "display_data"
    }
   ],
   "source": [
    "PlotPDF('1.3.check_embed.umap.annotated', 18, 7.5)\n",
    "p5\n",
    "dev.off()\n"
   ]
  },
  {
   "cell_type": "code",
   "execution_count": 22,
   "id": "f925ede9-b232-42ad-9fd1-ee5d9b53377a",
   "metadata": {},
   "outputs": [
    {
     "name": "stderr",
     "output_type": "stream",
     "text": [
      "Rasterizing points since number of points exceeds 100,000.\n",
      "To disable this behavior set `raster=FALSE`\n",
      "\n",
      "Rasterizing points since number of points exceeds 100,000.\n",
      "To disable this behavior set `raster=FALSE`\n",
      "\n",
      "Rasterizing points since number of points exceeds 100,000.\n",
      "To disable this behavior set `raster=FALSE`\n",
      "\n",
      "Warning message:\n",
      "\"\u001b[1m\u001b[22mRemoved 7437 rows containing missing values (`geom_scattermore()`).\"\n",
      "Warning message:\n",
      "\"\u001b[1m\u001b[22mRemoved 2 rows containing missing values (`geom_text()`).\"\n"
     ]
    },
    {
     "data": {
      "text/html": [
       "<strong>pdf:</strong> 2"
      ],
      "text/latex": [
       "\\textbf{pdf:} 2"
      ],
      "text/markdown": [
       "**pdf:** 2"
      ],
      "text/plain": [
       "pdf \n",
       "  2 "
      ]
     },
     "metadata": {},
     "output_type": "display_data"
    },
    {
     "name": "stderr",
     "output_type": "stream",
     "text": [
      "Warning message:\n",
      "\"\u001b[1m\u001b[22mRemoved 27300 rows containing missing values (`geom_scattermore()`).\"\n",
      "Warning message:\n",
      "\"\u001b[1m\u001b[22mRemoved 10 rows containing missing values (`geom_text()`).\"\n"
     ]
    },
    {
     "data": {
      "text/html": [
       "<strong>pdf:</strong> 2"
      ],
      "text/latex": [
       "\\textbf{pdf:} 2"
      ],
      "text/markdown": [
       "**pdf:** 2"
      ],
      "text/plain": [
       "pdf \n",
       "  2 "
      ]
     },
     "metadata": {},
     "output_type": "display_data"
    }
   ],
   "source": [
    "p5 <- (DimPlot2(srt, reduction = 'clean_umap', group.by = 'Cell_type',\n",
    "         cols = mycol_20, label = T, raster = T) +\n",
    "        DimPlot2(srt, reduction = 'full_umap', group.by = 'Cell_type',\n",
    "                 cols = mycol_20, label = T, raster = T)) \n",
    "\n",
    "p6 <- DimPlot2(srt, reduction = 'sub_umap', group.by = 'Cell_state', split.by = 'Cell_type',\n",
    "                 cols = mycol_40, label = T, raster = T, ncol = 6)\n",
    "PlotPDF('1.3.check_embed.umap.annotated', 18, 7.5)\n",
    "p5\n",
    "dev.off()\n",
    "\n",
    "PlotPDF('1.4.check_embed.umap.annotated', 25, 15)\n",
    "p6\n",
    "dev.off()\n",
    "\n"
   ]
  },
  {
   "cell_type": "code",
   "execution_count": 25,
   "id": "fe52ecc1-4d83-46d9-8b2a-24d0c32d77e8",
   "metadata": {},
   "outputs": [
    {
     "name": "stderr",
     "output_type": "stream",
     "text": [
      "Rasterizing points since number of points exceeds 100,000.\n",
      "To disable this behavior set `raster=FALSE`\n",
      "\n",
      "Rasterizing points since number of points exceeds 100,000.\n",
      "To disable this behavior set `raster=FALSE`\n",
      "\n",
      "Rasterizing points since number of points exceeds 100,000.\n",
      "To disable this behavior set `raster=FALSE`\n",
      "\n",
      "Rasterizing points since number of points exceeds 100,000.\n",
      "To disable this behavior set `raster=FALSE`\n",
      "\n",
      "Warning message:\n",
      "\"\u001b[1m\u001b[22mRemoved 7437 rows containing missing values (`geom_scattermore()`).\"\n",
      "Warning message:\n",
      "\"\u001b[1m\u001b[22mRemoved 2 rows containing missing values (`geom_text_repel()`).\"\n",
      "Warning message:\n",
      "\"\u001b[1m\u001b[22mRemoved 7437 rows containing missing values (`geom_scattermore()`).\"\n",
      "Warning message:\n",
      "\"\u001b[1m\u001b[22mRemoved 2 rows containing missing values (`geom_text_repel()`).\"\n"
     ]
    },
    {
     "data": {
      "text/html": [
       "<strong>pdf:</strong> 2"
      ],
      "text/latex": [
       "\\textbf{pdf:} 2"
      ],
      "text/markdown": [
       "**pdf:** 2"
      ],
      "text/plain": [
       "pdf \n",
       "  2 "
      ]
     },
     "metadata": {},
     "output_type": "display_data"
    }
   ],
   "source": [
    "all_reductions <- srt@reductions\n",
    "srt2 <- DietSeurat(srt, counts = T, data = T, scale.data = F,\n",
    "                   assays = c('RNA', 'ATAC'),\n",
    "                   dimreducs = c('sub_clean_umap', 'sub_umap', 'full_umap', 'clean_umap'))\n",
    "\n",
    "p1 <- DimPlot2(srt2, reduction = 'full_umap', group.by = 'Cell_type', cols = mycol_20, label = T, repel = TRUE)\n",
    "p2 <- DimPlot2(srt2, reduction = 'full_umap', group.by = 'Cell_state',\n",
    "               cols = mycol_40, label = T, repel = TRUE)\n",
    "p3 <- DimPlot2(srt2, reduction = 'clean_umap', group.by = 'Cell_type', cols = mycol_20, label = T, repel = TRUE)\n",
    "p4 <- DimPlot2(srt2, reduction = 'clean_umap', group.by = 'Cell_state',\n",
    "               cols = mycol_40, label = T, repel = TRUE)\n",
    "p <- wrap_plots(p1, p2, p3, p4, ncol = 2)\n",
    "PlotPDF('02.1.umap.annotation_clean_umap', 18*0.8, 15*0.8)\n",
    "p\n",
    "dev.off()"
   ]
  },
  {
   "cell_type": "code",
   "execution_count": 26,
   "id": "53ec25e0-bd3c-464e-b59a-0bc8b069a513",
   "metadata": {},
   "outputs": [
    {
     "name": "stderr",
     "output_type": "stream",
     "text": [
      "Cardiomyocyte\n",
      "\n",
      "Endocardium\n",
      "\n",
      "Epicardium\n",
      "\n",
      "Fibroblast\n",
      "\n",
      "Myeloid\n",
      "\n",
      "T cell\n",
      "\n",
      "B cell\n",
      "\n",
      "Glial\n",
      "\n",
      "Pericyte\n",
      "\n",
      "Adipocyte\n",
      "\n",
      "SMC\n",
      "\n",
      "BEC\n",
      "\n",
      "LEC\n",
      "\n",
      "Contamination\n",
      "\n",
      "Doublet\n",
      "\n",
      "Warning message:\n",
      "\"\u001b[1m\u001b[22mRemoved 13462 rows containing missing values (`geom_point()`).\"\n",
      "Warning message:\n",
      "\"\u001b[1m\u001b[22mRemoved 1 rows containing missing values (`geom_text()`).\"\n",
      "Warning message:\n",
      "\"\u001b[1m\u001b[22mRemoved 197 rows containing missing values (`geom_point()`).\"\n",
      "Warning message:\n",
      "\"\u001b[1m\u001b[22mRemoved 1 rows containing missing values (`geom_text()`).\"\n",
      "Warning message:\n",
      "\"\u001b[1m\u001b[22mRemoved 180 rows containing missing values (`geom_point()`).\"\n",
      "Warning message:\n",
      "\"\u001b[1m\u001b[22mRemoved 1 rows containing missing values (`geom_text()`).\"\n",
      "Warning message:\n",
      "\"\u001b[1m\u001b[22mRemoved 142 rows containing missing values (`geom_point()`).\"\n",
      "Warning message:\n",
      "\"\u001b[1m\u001b[22mRemoved 1 rows containing missing values (`geom_text()`).\"\n",
      "Warning message:\n",
      "\"\u001b[1m\u001b[22mRemoved 1723 rows containing missing values (`geom_point()`).\"\n",
      "Warning message:\n",
      "\"\u001b[1m\u001b[22mRemoved 1 rows containing missing values (`geom_text()`).\"\n",
      "Warning message:\n",
      "\"\u001b[1m\u001b[22mRemoved 405 rows containing missing values (`geom_point()`).\"\n",
      "Warning message:\n",
      "\"\u001b[1m\u001b[22mRemoved 1 rows containing missing values (`geom_text()`).\"\n",
      "Warning message:\n",
      "\"\u001b[1m\u001b[22mRemoved 1068 rows containing missing values (`geom_point()`).\"\n",
      "Warning message:\n",
      "\"\u001b[1m\u001b[22mRemoved 1 rows containing missing values (`geom_text()`).\"\n",
      "Warning message:\n",
      "\"\u001b[1m\u001b[22mRemoved 3007 rows containing missing values (`geom_point()`).\"\n",
      "Warning message:\n",
      "\"\u001b[1m\u001b[22mRemoved 1 rows containing missing values (`geom_text()`).\"\n",
      "Warning message:\n",
      "\"\u001b[1m\u001b[22mRemoved 349 rows containing missing values (`geom_point()`).\"\n",
      "Warning message:\n",
      "\"\u001b[1m\u001b[22mRemoved 1 rows containing missing values (`geom_text()`).\"\n",
      "Warning message:\n",
      "\"\u001b[1m\u001b[22mRemoved 402 rows containing missing values (`geom_point()`).\"\n",
      "Warning message:\n",
      "\"\u001b[1m\u001b[22mRemoved 1 rows containing missing values (`geom_text()`).\"\n",
      "Warning message:\n",
      "\"\u001b[1m\u001b[22mRemoved 7035 rows containing missing values (`geom_point()`).\"\n",
      "Warning message:\n",
      "\"\u001b[1m\u001b[22mRemoved 1 rows containing missing values (`geom_text()`).\"\n"
     ]
    },
    {
     "data": {
      "text/html": [
       "<strong>pdf:</strong> 2"
      ],
      "text/latex": [
       "\\textbf{pdf:} 2"
      ],
      "text/markdown": [
       "**pdf:** 2"
      ],
      "text/plain": [
       "pdf \n",
       "  2 "
      ]
     },
     "metadata": {},
     "output_type": "display_data"
    }
   ],
   "source": [
    "i <- c(\n",
    "        'Cardiomyocyte',\n",
    "        'Endocardium',\n",
    "        'Epicardium',\n",
    "        'Fibroblast',\n",
    "        'Myeloid',\n",
    "        'T cell',\n",
    "        'B cell',\n",
    "        'Glial',\n",
    "        'Pericyte',\n",
    "        'Adipocyte',\n",
    "        'SMC',\n",
    "        'BEC',\n",
    "        'LEC',\n",
    "        'Contamination',\n",
    "        'Doublet'\n",
    "      )\n",
    "\n",
    "plist <- list()\n",
    "for (j in 1:L(i)){\n",
    "        message(i[j])\n",
    "        plist[[j]] <-  DimPlot2(srt2[, srt2$Cell_type == i[j]],\n",
    "                                reduction = 'sub_clean_umap', group.by = 'Cell_state', cols = mycol_10, label = T)\n",
    "}\n",
    "p <- wrap_plots(plist, ncol = 3)\n",
    "PlotPDF('02.2.umap.annotation_sub_umap', 15, 15)\n",
    "p\n",
    "dev.off()\n",
    "####~~~~~~~~~~~~~~~~~~~~~~~~~~~~~~~~~~~~~~~~~~~~~~~~~~~~~~~~~~~~~~~~~~~~~~~~~~~~~~~~~~~~~~~~~~~~~~~~~~~~~~~~~~~~~~~~~~~~\n",
    "saveRDS(all_reductions, 'integrated/PART19.all_reductions.srt_dimreducs.rds')\n",
    "####~~~~~~~~~~~~~~~~~~~~~~~~~~~~~~~~~~~~~~~~~~~~~~~~~~~~~~~~~~~~~~~~~~~~~~~~~~~~~~~~~~~~~~~~~~~~~~~~~~~~~~~~~~~~~~~~~~~~"
   ]
  },
  {
   "cell_type": "code",
   "execution_count": 27,
   "id": "1ef4a245-fb0b-495d-bce3-31a3bcfacf59",
   "metadata": {},
   "outputs": [],
   "source": [
    "saveRDS(srt2, 'integrated/PART19.annotated.srt.rds')"
   ]
  },
  {
   "cell_type": "code",
   "execution_count": 28,
   "id": "1f587681-fbda-4409-a5d3-8da98353a48a",
   "metadata": {},
   "outputs": [
    {
     "data": {
      "text/plain": [
       "\n",
       "Cardiomyocyte   Endocardium    Epicardium    Fibroblast       Myeloid \n",
       "        56287         13462          5995          9715          1668 \n",
       "       T cell        B cell         Glial      Pericyte     Adipocyte \n",
       "          197           180           142          1723           405 \n",
       "          SMC           BEC           LEC Contamination       Doublet \n",
       "         1068          3007           349           402          7035 "
      ]
     },
     "metadata": {},
     "output_type": "display_data"
    }
   ],
   "source": [
    "Table(srt2$Cell_type)"
   ]
  },
  {
   "cell_type": "code",
   "execution_count": 29,
   "id": "c636f9a5-59fb-42a6-8716-632e2ee4d038",
   "metadata": {},
   "outputs": [
    {
     "data": {
      "text/plain": [
       "\n",
       "wt_p2m wt_p2s c3_p2m c3_p2s \n",
       " 28221  22628  25319  25467 "
      ]
     },
     "metadata": {},
     "output_type": "display_data"
    }
   ],
   "source": [
    "Table(srt2$group2)"
   ]
  },
  {
   "cell_type": "code",
   "execution_count": 30,
   "id": "5fc4bd9d-f2c4-4eb4-af0a-88320584a45d",
   "metadata": {},
   "outputs": [
    {
     "data": {
      "text/plain": [
       "\n",
       "2023_NeoC3KO_RLi \n",
       "          101635 "
      ]
     },
     "metadata": {},
     "output_type": "display_data"
    }
   ],
   "source": [
    "Table(srt2$study)"
   ]
  },
  {
   "cell_type": "code",
   "execution_count": 31,
   "id": "30e55cbb-6214-401c-8623-c6690b6eae0e",
   "metadata": {},
   "outputs": [
    {
     "name": "stderr",
     "output_type": "stream",
     "text": [
      "Rasterizing points since number of points exceeds 100,000.\n",
      "To disable this behavior set `raster=FALSE`\n",
      "\n",
      "Warning message:\n",
      "\"\u001b[1m\u001b[22mRemoved 7437 rows containing missing values (`geom_scattermore()`).\"\n"
     ]
    },
    {
     "data": {
      "text/html": [
       "<strong>pdf:</strong> 2"
      ],
      "text/latex": [
       "\\textbf{pdf:} 2"
      ],
      "text/markdown": [
       "**pdf:** 2"
      ],
      "text/plain": [
       "pdf \n",
       "  2 "
      ]
     },
     "metadata": {},
     "output_type": "display_data"
    }
   ],
   "source": [
    "p2 <- DimPlot2(srt, group.by = 'group2', cols = mycol_10, reduction = 'clean_umap')\n",
    "PlotPDF('01.4.cumap.annotated_col_by_disease', 10, 10)\n",
    "p2\n",
    "dev.off()\n"
   ]
  },
  {
   "cell_type": "code",
   "execution_count": 32,
   "id": "4ee9b04e-f8a1-48d0-bef8-ed42cfea740d",
   "metadata": {},
   "outputs": [
    {
     "name": "stderr",
     "output_type": "stream",
     "text": [
      "Warning message:\n",
      "\"\u001b[1m\u001b[22mUsing an external vector in selections was deprecated in tidyselect 1.1.0.\n",
      "\u001b[36mℹ\u001b[39m Please use `all_of()` or `any_of()` instead.\n",
      "  # Was:\n",
      "  data %>% select(stack.var)\n",
      "\n",
      "  # Now:\n",
      "  data %>% select(all_of(stack.var))\n",
      "\n",
      "See <https://tidyselect.r-lib.org/reference/faq-external-vector.html>.\"\n",
      "Warning message:\n",
      "\"\u001b[1m\u001b[22mUsing an external vector in selections was deprecated in tidyselect 1.1.0.\n",
      "\u001b[36mℹ\u001b[39m Please use `all_of()` or `any_of()` instead.\n",
      "  # Was:\n",
      "  data %>% select(group.var)\n",
      "\n",
      "  # Now:\n",
      "  data %>% select(all_of(group.var))\n",
      "\n",
      "See <https://tidyselect.r-lib.org/reference/faq-external-vector.html>.\"\n",
      "\u001b[1m\u001b[22m`summarise()` has grouped output by 'Cell_type'. You can override using the\n",
      "`.groups` argument.\n"
     ]
    },
    {
     "data": {
      "text/html": [
       "<strong>pdf:</strong> 2"
      ],
      "text/latex": [
       "\\textbf{pdf:} 2"
      ],
      "text/markdown": [
       "**pdf:** 2"
      ],
      "text/plain": [
       "pdf \n",
       "  2 "
      ]
     },
     "metadata": {},
     "output_type": "display_data"
    }
   ],
   "source": [
    "p3 <- CountCellBarPlot(srt, group.var = 'group2', stack.var = 'Cell_type', percentage = T,\n",
    "                       stack.color = c(mycol_30, 'grey20', 'grey35', 'grey50', 'grey90'))$plot\n",
    "PlotPDF('01.5.bar.annotated_composition', 5, 8)\n",
    "p3\n",
    "dev.off()"
   ]
  },
  {
   "cell_type": "code",
   "execution_count": null,
   "id": "aeebe641-0c5a-4e02-a62a-5785dfd3d3f1",
   "metadata": {},
   "outputs": [],
   "source": []
  },
  {
   "cell_type": "code",
   "execution_count": null,
   "id": "3e24efb0-3869-4ae8-a3c9-80e08a7328b9",
   "metadata": {},
   "outputs": [],
   "source": []
  },
  {
   "cell_type": "code",
   "execution_count": null,
   "id": "f244d925-6e6e-42fd-8b9d-807a9cee3611",
   "metadata": {},
   "outputs": [],
   "source": []
  }
 ],
 "metadata": {
  "kernelspec": {
   "display_name": "R",
   "language": "R",
   "name": "ir"
  },
  "language_info": {
   "codemirror_mode": "r",
   "file_extension": ".r",
   "mimetype": "text/x-r-source",
   "name": "R",
   "pygments_lexer": "r",
   "version": "4.2.2"
  }
 },
 "nbformat": 4,
 "nbformat_minor": 5
}
