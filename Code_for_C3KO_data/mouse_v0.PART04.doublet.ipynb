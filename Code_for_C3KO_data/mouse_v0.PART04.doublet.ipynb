{
 "cells": [
  {
   "cell_type": "code",
   "execution_count": 1,
   "id": "3e814538-95fc-4632-a699-4a08034df5fd",
   "metadata": {},
   "outputs": [],
   "source": [
    "####~~~~~~~~~~~~~~~~~~~~~~~~~~~~~~~~~~~~~~~~~~~~~~~~~~~~~~~~~~~~~~~~~~~~~~~~~~~~~~~~~~~~~~~~~~~~~~~~~~~~~~~~~~~~~~~~~~~~\n",
    "####  Mouse C3KO-RichLi snRNA\n",
    "####  2023-05-16 by Yi Zhao (Texas Heart Institute, US)\n",
    "####~~~~~~~~~~~~~~~~~~~~~~~~~~~~~~~~~~~~~~~~~~~~~~~~~~~~~~~~~~~~~~~~~~~~~~~~~~~~~~~~~~~~~~~~~~~~~~~~~~~~~~~~~~~~~~~~~~~~\n",
    "\n",
    "\n",
    "####~~~~~~~~~~~~~~~~~~~~~~~~~~~~~~~~~~~~~~~~~~~~~~~~~~~~~~~~~~~~~~~~~~~~~~~~~~~~~~~~~~~~~~~~~~~~~~~~~~~~~~~~~~~~~~~~~~~~\n",
    "####  Initiate  ####\n",
    "####~~~~~~~~~~~~~~~~~~~~~~~~~~~~~~~~~~~~~~~~~~~~~~~~~~~~~~~~~~~~~~~~~~~~~~~~~~~~~~~~~~~~~~~~~~~~~~~~~~~~~~~~~~~~~~~~----\n",
    "Ver <- '0'\n",
    "Step <- 'PART04_Doublet'\n",
    "Project <- '2023_neoc3ko_rli'\n",
    "\n",
    "Code_dir <- paste0('/Volumes/shire/project/', Project, '/code/mouse_v', Ver, '/')\n",
    "\n",
    "source(Sys.readlink(paste0(Code_dir, 'src/bioinformatics.R')))\n",
    "source(Sys.readlink(paste0(Code_dir, 'src/scRNAseq.R')))\n",
    "source(Sys.readlink(paste0(Code_dir, 'src/scATACseq.R')))\n",
    "source(paste0(Code_dir, 'mouse_v', Ver, '.helper_functions.R'))\n",
    "\n",
    "InitiateProject('Rivendell', Ver, Step, 'mouse', Project, 'shire')\n",
    "\n",
    "#suppressMessages(library('DoubletFinder'))\n",
    "suppressMessages(library('reticulate'))\n",
    "scr <- import('scrublet')\n",
    "plt <- import(\"matplotlib.pyplot\")\n",
    "####~~~~~~~~~~~~~~~~~~~~~~~~~~~~~~~~~~~~~~~~~~~~~~~~~~~~~~~~~~~~~~~~~~~~~~~~~~~~~~~~~~~~~~~~~~~~~~~~~~~~~~~~~~~~~~~~~~~~\n"
   ]
  },
  {
   "cell_type": "code",
   "execution_count": 2,
   "id": "a2f93e26-bfba-4e9e-b368-5ade1985924c",
   "metadata": {},
   "outputs": [],
   "source": [
    "####~~~~~~~~~~~~~~~~~~~~~~~~~~~~~~~~~~~~~~~~~~~~~~~~~~~~~~~~~~~~~~~~~~~~~~~~~~~~~~~~~~~~~~~~~~~~~~~~~~~~~~~~~~~~~~~~~~~~\n",
    "####  Load sample metadata  ####\n",
    "####~~~~~~~~~~~~~~~~~~~~~~~~~~~~~~~~~~~~~~~~~~~~~~~~~~~~~~~~~~~~~~~~~~~~~~~~~~~~~~~~~~~~~~~~~~~~~~~~~~~~~~~~~~~~~~~~----\n",
    "merged.dlt.srt <- readRDS('integrated/PART03.merged.flt.srt.rds')\n",
    "####~~~~~~~~~~~~~~~~~~~~~~~~~~~~~~~~~~~~~~~~~~~~~~~~~~~~~~~~~~~~~~~~~~~~~~~~~~~~~~~~~~~~~~~~~~~~~~~~~~~~~~~~~~~~~~~~~~~~\n",
    "\n",
    "\n",
    "####~~~~~~~~~~~~~~~~~~~~~~~~~~~~~~~~~~~~~~~~~~~~~~~~~~~~~~~~~~~~~~~~~~~~~~~~~~~~~~~~~~~~~~~~~~~~~~~~~~~~~~~~~~~~~~~~~~~~\n",
    "####  Global Functions  ####\n",
    "####~~~~~~~~~~~~~~~~~~~~~~~~~~~~~~~~~~~~~~~~~~~~~~~~~~~~~~~~~~~~~~~~~~~~~~~~~~~~~~~~~~~~~~~~~~~~~~~~~~~~~~~~~~~~~~~~----\n",
    "GetDoublet <- function(srt_obj, doublet_rate, dimN.var.toal){\n",
    "        ## Scrublet (run via reticulate)\n",
    "        mtx <- srt_obj@assays$RNA@counts\n",
    "        mtx <- t(mtx)\n",
    "        scrub_model <- scr$Scrublet(mtx, expected_doublet_rate = doublet_rate)\n",
    "        rst <- scrub_model$scrub_doublets(min_gene_variability_pctl = dimN.var.toal*100,\n",
    "                                          n_prin_comps = 30L,\n",
    "                                          min_counts = 2, min_cells = 3)\n",
    "        rst[[2]] <- scrub_model$call_doublets(threshold = 0.25) ## adjusted based on histogram\n",
    "        sc_doublets <- Cells(srt_obj)[rst[[2]]]\n",
    "        sc_singlets <- Cells(srt_obj)[!rst[[2]]]\n",
    "        srt_obj$Scrublet_doublet <- 'Singlet'\n",
    "        srt_obj$Scrublet_doublet[rst[[2]]] <- 'Doublet'\n",
    "        Scrublet <- rst[[1]]\n",
    "        names(Scrublet) <- Cells(srt_obj)\n",
    "\n",
    "        p2 <- DimPlotSplit(srt_obj, split_by = 'Scrublet_doublet', split_order = c('Singlet', 'Doublet'),\n",
    "                           cols.highlight = mycol_14[c(2, 1)], ncol = 2)\n",
    "        p2[[1]] <- p2[[1]] + labs(title = paste0('Srub Singlet: ', L(sc_singlets), ' Cells'))\n",
    "        p2[[2]] <- p2[[2]] + labs(title = paste0('Srub Doublet: ', L(sc_doublets), ' Cells'))\n",
    "        p <- wrap_plots(\n",
    "                p2[[1]],\n",
    "                p2[[2]],\n",
    "                ncol = 2)\n",
    "        return(list(\n",
    "                sc_doublets,\n",
    "                p,\n",
    "                Scrublet,\n",
    "                scrub_model\n",
    "        ))\n",
    "}\n",
    "####~~~~~~~~~~~~~~~~~~~~~~~~~~~~~~~~~~~~~~~~~~~~~~~~~~~~~~~~~~~~~~~~~~~~~~~~~~~~~~~~~~~~~~~~~~~~~~~~~~~~~~~~~~~~~~~~~~~~"
   ]
  },
  {
   "cell_type": "code",
   "execution_count": 3,
   "id": "5ada669f-c85f-420e-b302-91dd9207918e",
   "metadata": {},
   "outputs": [
    {
     "name": "stdout",
     "output_type": "stream",
     "text": [
      "[1] \"Processing P01_S001 ...\"\n",
      "[1] \"Processing P01_S002 ...\"\n",
      "[1] \"Processing P01_S003 ...\"\n",
      "[1] \"Processing P01_S004 ...\"\n",
      "[1] \"Processing P01_S005 ...\"\n",
      "[1] \"Processing P01_S006 ...\"\n",
      "[1] \"Processing P01_S007 ...\"\n",
      "[1] \"Processing P01_S008 ...\"\n"
     ]
    }
   ],
   "source": [
    "####~~~~~~~~~~~~~~~~~~~~~~~~~~~~~~~~~~~~~~~~~~~~~~~~~~~~~~~~~~~~~~~~~~~~~~~~~~~~~~~~~~~~~~~~~~~~~~~~~~~~~~~~~~~~~~~~----\n",
    "###  Identify doublets for each dataset  (linear processing) ####\n",
    "####~~~~~~~~~~~~~~~~~~~~~~~~~~~~~~~~~~~~~~~~~~~~~~~~~~~~~~~~~~~~~~~~~~~~~~~~~~~~~~~~~~~~~~~~~~~~~~~~~~~~~~~~~~~~~~~~~~~~\n",
    "system(paste0('mkdir ', Plot_dir, '/umap_per_sample/'))\n",
    "\n",
    "doublet_rate <- 0.15 ## Assuming 15% doublet formation rate\n",
    "all_Doublet_SC <- c()\n",
    "all_Scrublet <- c()\n",
    "\n",
    "all_samples <- levels(merged.dlt.srt$sample)\n",
    "for(i in 1:L(all_samples)){\n",
    "        gc()\n",
    "        print(paste0('Processing ', all_samples[i], ' ...'))\n",
    "        tmp.srt <- merged.dlt.srt[, merged.dlt.srt$sample == all_samples[i]]\n",
    "        results <- GetDoublet(srt_obj = tmp.srt, doublet_rate = doublet_rate, dimN.var.toal = 0.85)\n",
    "        all_Doublet_SC <- c(all_Doublet_SC, results[[1]])\n",
    "        ## plot umap\n",
    "        PlotPDF(paste0('umap_per_sample/', all_samples[i], '.doublets_found'), 10, 5)\n",
    "        print(results[[2]])\n",
    "        dev.off()\n",
    "        all_Scrublet <- c(all_Scrublet, results[[3]])\n",
    "        ## plot scrublet histogram\n",
    "#        PlotPDF(paste0('umap_per_sample/', all_samples[i], '.scrublet_hist'), 8, 4)\n",
    "#        print(plt$show(results[[4]]$plot_histogram()[[1]]))\n",
    "#        dev.off()\n",
    "        ####~~~~~~~~~~~~~~~~~~~~~~~~~~~~~~~~~~~~~~~~~~~~~~~~~~~~~~~~~~~~~~~~~~~~~~~~~~~~~~~~~~~~~~~~~~~~~~~~~~~~~~~~~~~~\n",
    "        saveRDS(all_Doublet_SC, 'analysis/PART04.cell_filtered.scrublet_doublets.rds')\n",
    "        saveRDS(all_Scrublet,   'analysis/PART04.cell_filtered.scrublet_score.rds')\n",
    "        ####~~~~~~~~~~~~~~~~~~~~~~~~~~~~~~~~~~~~~~~~~~~~~~~~~~~~~~~~~~~~~~~~~~~~~~~~~~~~~~~~~~~~~~~~~~~~~~~~~~~~~~~~~~~~\n",
    "}\n",
    "\n",
    "####~~~~~~~~~~~~~~~~~~~~~~~~~~~~~~~~~~~~~~~~~~~~~~~~~~~~~~~~~~~~~~~~~~~~~~~~~~~~~~~~~~~~~~~~~~~~~~~~~~~~~~~~~~~~~~~~~~~~"
   ]
  },
  {
   "cell_type": "code",
   "execution_count": 4,
   "id": "a3ff1c6f-49da-400c-a621-82df88634db4",
   "metadata": {},
   "outputs": [
    {
     "name": "stderr",
     "output_type": "stream",
     "text": [
      "Rasterizing points since number of points exceeds 100,000.\n",
      "To disable this behavior set `raster=FALSE`\n",
      "\n"
     ]
    },
    {
     "data": {
      "text/html": [
       "<strong>pdf:</strong> 2"
      ],
      "text/latex": [
       "\\textbf{pdf:} 2"
      ],
      "text/markdown": [
       "**pdf:** 2"
      ],
      "text/plain": [
       "pdf \n",
       "  2 "
      ]
     },
     "metadata": {},
     "output_type": "display_data"
    },
    {
     "name": "stderr",
     "output_type": "stream",
     "text": [
      "Rasterizing points since number of points exceeds 100,000.\n",
      "To disable this behavior set `raster=FALSE`\n",
      "\n",
      "\u001b[1m\u001b[22mScale for \u001b[32mcolour\u001b[39m is already present.\n",
      "Adding another scale for \u001b[32mcolour\u001b[39m, which will replace the existing scale.\n"
     ]
    },
    {
     "data": {
      "text/html": [
       "<strong>pdf:</strong> 2"
      ],
      "text/latex": [
       "\\textbf{pdf:} 2"
      ],
      "text/markdown": [
       "**pdf:** 2"
      ],
      "text/plain": [
       "pdf \n",
       "  2 "
      ]
     },
     "metadata": {},
     "output_type": "display_data"
    },
    {
     "name": "stderr",
     "output_type": "stream",
     "text": [
      "Rasterizing points since number of points exceeds 100,000.\n",
      "To disable this behavior set `raster=FALSE`\n",
      "\n"
     ]
    },
    {
     "data": {
      "text/html": [
       "<strong>pdf:</strong> 2"
      ],
      "text/latex": [
       "\\textbf{pdf:} 2"
      ],
      "text/markdown": [
       "**pdf:** 2"
      ],
      "text/plain": [
       "pdf \n",
       "  2 "
      ]
     },
     "metadata": {},
     "output_type": "display_data"
    },
    {
     "name": "stderr",
     "output_type": "stream",
     "text": [
      "Warning message:\n",
      "\"\u001b[1m\u001b[22mUsing an external vector in selections was deprecated in tidyselect 1.1.0.\n",
      "\u001b[36mℹ\u001b[39m Please use `all_of()` or `any_of()` instead.\n",
      "  # Was:\n",
      "  data %>% select(stack.var)\n",
      "\n",
      "  # Now:\n",
      "  data %>% select(all_of(stack.var))\n",
      "\n",
      "See <https://tidyselect.r-lib.org/reference/faq-external-vector.html>.\"\n",
      "Warning message:\n",
      "\"\u001b[1m\u001b[22mUsing an external vector in selections was deprecated in tidyselect 1.1.0.\n",
      "\u001b[36mℹ\u001b[39m Please use `all_of()` or `any_of()` instead.\n",
      "  # Was:\n",
      "  data %>% select(group.var)\n",
      "\n",
      "  # Now:\n",
      "  data %>% select(all_of(group.var))\n",
      "\n",
      "See <https://tidyselect.r-lib.org/reference/faq-external-vector.html>.\"\n",
      "\u001b[1m\u001b[22m`summarise()` has grouped output by 'Doublet_SC'. You can override using the\n",
      "`.groups` argument.\n",
      "\u001b[1m\u001b[22m`summarise()` has grouped output by 'Doublet_SC'. You can override using the\n",
      "`.groups` argument.\n"
     ]
    },
    {
     "data": {
      "text/html": [
       "<strong>pdf:</strong> 2"
      ],
      "text/latex": [
       "\\textbf{pdf:} 2"
      ],
      "text/markdown": [
       "**pdf:** 2"
      ],
      "text/plain": [
       "pdf \n",
       "  2 "
      ]
     },
     "metadata": {},
     "output_type": "display_data"
    },
    {
     "name": "stderr",
     "output_type": "stream",
     "text": [
      "\u001b[1m\u001b[22m`summarise()` has grouped output by 'Doublet_SC'. You can override using the\n",
      "`.groups` argument.\n",
      "\u001b[1m\u001b[22m`summarise()` has grouped output by 'Doublet_SC'. You can override using the\n",
      "`.groups` argument.\n"
     ]
    },
    {
     "data": {
      "text/html": [
       "<strong>pdf:</strong> 2"
      ],
      "text/latex": [
       "\\textbf{pdf:} 2"
      ],
      "text/markdown": [
       "**pdf:** 2"
      ],
      "text/plain": [
       "pdf \n",
       "  2 "
      ]
     },
     "metadata": {},
     "output_type": "display_data"
    }
   ],
   "source": [
    "####  Evaluate doublets  ####\n",
    "####~~~~~~~~~~~~~~~~~~~~~~~~~~~~~~~~~~~~~~~~~~~~~~~~~~~~~~~~~~~~~~~~~~~~~~~~~~~~~~~~~~~~~~~~~~~~~~~~~~~~~~~~~~~~~~~~----\n",
    "## save doublets to the main Seurat\n",
    "merged.dlt.srt$Doublet_SC <- F\n",
    "merged.dlt.srt$Doublet_SC[all_Doublet_SC] <- T\n",
    "merged.dlt.srt$Doublet_SC_score <- NA\n",
    "merged.dlt.srt$Doublet_SC_score[names(all_Scrublet)] <- all_Scrublet\n",
    "\n",
    "\n",
    "p <- DimPlot(merged.dlt.srt, cols = 'grey75', reduction = 'hmn_umap', raster = T, pt.size = 0.001,\n",
    "             cells.highlight = all_Doublet_SC, cols.highlight = 'red', sizes.highlight = 0.001) +\n",
    "        labs(title = paste0('Total cells: ', ncol(merged.dlt.srt), '  Scrublet Doublets found: ', L(all_Doublet_SC))) +\n",
    "        NoLegend() +\n",
    "        theme(aspect.ratio = 1, axis.text = element_blank(), axis.ticks = element_blank())\n",
    "PlotPDF('01.merged_filtered.scrublet_doublets', 10, 10)\n",
    "p\n",
    "dev.off()\n",
    "\n",
    "p <- FeaturePlot2(merged.dlt.srt, reduction = 'hmn_umap', raster = T, features = 'Doublet_SC_score') +\n",
    "        NoLegend() +\n",
    "        theme(aspect.ratio = 1, axis.text = element_blank(), axis.ticks = element_blank())\n",
    "PlotPDF('02.merged_filtered.scrublet_score', 10, 10)\n",
    "p\n",
    "dev.off()\n",
    "\n",
    "p <- VlnPlot2(merged.dlt.srt, features = 'Doublet_SC_score', group.by = 'sample') +\n",
    "        NoLegend()\n",
    "PlotPDF('03.merged_filtered.scrublet_score_per_sample', 5, 5)\n",
    "p\n",
    "dev.off()\n",
    "\n",
    "p1 <- CountCellBarPlot(merged.dlt.srt, group.var = 'study', stack.var = 'Doublet_SC',\n",
    "                       stack.color = mycol_10)$plot\n",
    "p2 <- CountCellBarPlot(merged.dlt.srt, group.var = 'study', stack.var = 'Doublet_SC',\n",
    "                       stack.color = mycol_10, percentage = T)$plot\n",
    "PlotPDF('04.merged_filtered.pct_sc_dlt_study', 10, 15, onefile = T)\n",
    "wrap_plots(p1, p2, ncol = 1)\n",
    "dev.off()\n",
    "\n",
    "p1 <- CountCellBarPlot(merged.dlt.srt, group.var = 'sample', stack.var = 'Doublet_SC',\n",
    "                       stack.color = mycol_10)$plot\n",
    "p2 <- CountCellBarPlot(merged.dlt.srt, group.var = 'sample', stack.var = 'Doublet_SC',\n",
    "                       stack.color = mycol_10, percentage = T)$plot\n",
    "PlotPDF('05.merged_filtered.pct_sc_dlt_sample', 20, 15, onefile = T)\n",
    "wrap_plots(p1, p2, ncol = 1)\n",
    "dev.off()\n",
    "####~~~~~~~~~~~~~~~~~~~~~~~~~~~~~~~~~~~~~~~~~~~~~~~~~~~~~~~~~~~~~~~~~~~~~~~~~~~~~~~~~~~~~~~~~~~~~~~~~~~~~~~~~~~~~~~~~~~~\n",
    "saveRDS(merged.dlt.srt@meta.data, 'integrated/PART04.merged.dlt.srt_meta.rds') ## Create new\n",
    "####~~~~~~~~~~~~~~~~~~~~~~~~~~~~~~~~~~~~~~~~~~~~~~~~~~~~~~~~~~~~~~~~~~~~~~~~~~~~~~~~~~~~~~~~~~~~~~~~~~~~~~~~~~~~~~~~~~~~"
   ]
  },
  {
   "cell_type": "code",
   "execution_count": null,
   "id": "fbe5630a-1f9d-4b68-88f0-9b7e1e2f121d",
   "metadata": {},
   "outputs": [],
   "source": []
  }
 ],
 "metadata": {
  "kernelspec": {
   "display_name": "R",
   "language": "R",
   "name": "ir"
  },
  "language_info": {
   "codemirror_mode": "r",
   "file_extension": ".r",
   "mimetype": "text/x-r-source",
   "name": "R",
   "pygments_lexer": "r",
   "version": "4.2.2"
  }
 },
 "nbformat": 4,
 "nbformat_minor": 5
}
